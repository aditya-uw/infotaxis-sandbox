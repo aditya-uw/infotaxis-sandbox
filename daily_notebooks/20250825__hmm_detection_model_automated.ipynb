{
 "cells": [
  {
   "cell_type": "code",
   "execution_count": 1,
   "id": "1a1e1e2a",
   "metadata": {},
   "outputs": [],
   "source": [
    "import numpy as np\n",
    "import matplotlib.pyplot as plt\n",
    "\n",
    "import ipywidgets as widgets\n",
    "\n",
    "from IPython.display import display"
   ]
  },
  {
   "cell_type": "code",
   "execution_count": 2,
   "id": "4af19106",
   "metadata": {},
   "outputs": [],
   "source": [
    "NUM_STATES = 4\n",
    "NUM_OBSERVATIONS = 2\n",
    "NUM_BELIEFS = 2 # TARGET vs. NON TARGET\n",
    "ANGLE_RANGE = 2*np.pi\n",
    "\n",
    "STATE_STEP = ANGLE_RANGE/NUM_STATES\n",
    "STATE_CENTERS = np.arange(0, ANGLE_RANGE, STATE_STEP) + STATE_STEP\n",
    "ANGL_DIST_BETWEEN_STATES = (STATE_CENTERS[np.newaxis, :] - STATE_CENTERS[:, np.newaxis])\n",
    "\n",
    "PRIOR_TARGET_PROB = np.array([1/NUM_BELIEFS, 1-(1/NUM_BELIEFS)])\n",
    "PRIOR_STATE_PROB = np.full(NUM_STATES, 1/NUM_STATES)\n",
    "LIKELIHOOD_OBS_FROM_NONTARGET = 1/NUM_OBSERVATIONS"
   ]
  },
  {
   "cell_type": "code",
   "execution_count": 3,
   "id": "81e5eb72",
   "metadata": {},
   "outputs": [],
   "source": [
    "def get_state_transition_matrix(candidate_step):\n",
    "    if candidate_step>0:\n",
    "        mod_basis = 2*np.pi\n",
    "    else:\n",
    "        mod_basis = -2*np.pi\n",
    "\n",
    "    angular_dist_between_states_in_extent = ANGL_DIST_BETWEEN_STATES % mod_basis\n",
    "    angular_dist_after_action = (angular_dist_between_states_in_extent - candidate_step)\n",
    "    angular_dist_after_action_in_extent = angular_dist_after_action % mod_basis\n",
    "    \n",
    "    sigma = STATE_STEP/2\n",
    "    magnitude = 1 / np.sqrt((2*np.pi) * (sigma**2))\n",
    "    state_transition = magnitude * np.exp(-0.5*((angular_dist_after_action_in_extent/sigma)**2))\n",
    "    state_transition_normed = state_transition / state_transition.sum(axis=1)\n",
    "    return state_transition_normed"
   ]
  },
  {
   "cell_type": "code",
   "execution_count": 4,
   "id": "153dafd4",
   "metadata": {},
   "outputs": [
    {
     "data": {
      "text/plain": [
       "array([[0.   , 0.   , 0.881, 0.119],\n",
       "       [0.119, 0.   , 0.   , 0.881],\n",
       "       [0.881, 0.119, 0.   , 0.   ],\n",
       "       [0.   , 0.881, 0.119, 0.   ]])"
      ]
     },
     "execution_count": 4,
     "metadata": {},
     "output_type": "execute_result"
    }
   ],
   "source": [
    "candidate_step = np.pi\n",
    "state_transition_matrix = get_state_transition_matrix(candidate_step)\n",
    "state_transition_matrix.round(3)"
   ]
  },
  {
   "cell_type": "code",
   "execution_count": 5,
   "id": "766c062c",
   "metadata": {},
   "outputs": [
    {
     "data": {
      "text/plain": [
       "array([[0.   , 0.   , 0.881, 0.119],\n",
       "       [0.119, 0.   , 0.   , 0.881],\n",
       "       [0.881, 0.119, 0.   , 0.   ],\n",
       "       [0.   , 0.881, 0.119, 0.   ]])"
      ]
     },
     "execution_count": 5,
     "metadata": {},
     "output_type": "execute_result"
    }
   ],
   "source": [
    "candidate_step = np.pi\n",
    "state_transition_matrix = get_state_transition_matrix(candidate_step)\n",
    "state_transition_matrix.round(3)"
   ]
  },
  {
   "cell_type": "code",
   "execution_count": 6,
   "id": "629dab92",
   "metadata": {},
   "outputs": [],
   "source": [
    "obs1_bounds = np.array([60, 120])"
   ]
  },
  {
   "cell_type": "code",
   "execution_count": 7,
   "id": "6557e90e",
   "metadata": {},
   "outputs": [],
   "source": [
    "def observe_angle_state_pair(initial_angle):\n",
    "   plt.figure(figsize=(6, 6))\n",
    "   radius = 1\n",
    "   radius_until = 5\n",
    "   pie = np.pi\n",
    "   theta_obs1 = np.linspace(np.radians(obs1_bounds[0]), np.radians(obs1_bounds[1]), 30)\n",
    "   x_inner = radius * np.cos(theta_obs1)\n",
    "   y_inner =  radius * np.sin(theta_obs1)\n",
    "   x_poly = np.concatenate([radius_until*x_inner, x_inner[::-1]])\n",
    "   y_poly = np.concatenate([radius_until*y_inner, y_inner[::-1]])\n",
    "   plt.fill(x_poly, y_poly, facecolor='blue', alpha=0.25, linewidth=0)\n",
    "   plt.plot(x_inner, y_inner, color='blue', linewidth=1)\n",
    "\n",
    "   theta_obs0 = np.linspace(np.radians(obs1_bounds[1]), np.radians(obs1_bounds[0])+2*pie, 30)\n",
    "   x_inner = radius * np.cos(theta_obs0)\n",
    "   y_inner =  radius * np.sin(theta_obs0)\n",
    "   x_poly = np.concatenate([radius_until*x_inner, x_inner[::-1]])\n",
    "   y_poly = np.concatenate([radius_until*y_inner, y_inner[::-1]])\n",
    "   plt.fill(x_poly, y_poly, facecolor='orange', alpha=0.25, linewidth=0)\n",
    "   plt.plot(x_inner, y_inner, color='orange', linewidth=1)\n",
    "\n",
    "   for theta in STATE_CENTERS:\n",
    "      r_outer = 4 * radius_until * radius\n",
    "      plt.plot([radius*np.cos(theta), r_outer*np.cos(theta)], \n",
    "               [radius*np.sin(theta), r_outer*np.sin(theta)],\n",
    "                  color='k', linewidth=1.5, solid_capstyle='round', zorder=1)\n",
    "      plt.plot([radius*np.cos(theta + (STATE_STEP/2)), r_outer*np.cos(theta + (STATE_STEP/2))], \n",
    "               [radius*np.sin(theta + (STATE_STEP/2)), r_outer*np.sin(theta + (STATE_STEP/2))],\n",
    "                  color='k', linewidth=1, linestyle='dashed', zorder=1)\n",
    "      \n",
    "   if initial_angle >= obs1_bounds[0] and initial_angle <= obs1_bounds[1]:\n",
    "      code_received = 1\n",
    "   else:\n",
    "      code_received = 0\n",
    "   initial_radians = np.radians((initial_angle % 360))\n",
    "   initial_state = np.floor((initial_radians) / STATE_STEP)\n",
    "   plt.scatter(radius_until*radius*np.cos(initial_radians), radius_until*radius*np.sin(initial_radians),\n",
    "            s=200, marker='.', facecolor='r', edgecolor='k', zorder=4, label=f'State={initial_state}\\nCode={code_received}')\n",
    "\n",
    "   plt.gca().set_aspect('equal', adjustable='box')\n",
    "   plt.xticks([])\n",
    "   plt.yticks([])\n",
    "   GRID_EXTENT = 7\n",
    "   plt.xlim(-GRID_EXTENT, GRID_EXTENT)\n",
    "   plt.ylim(-GRID_EXTENT, GRID_EXTENT)\n",
    "   plt.legend()\n",
    "   plt.show()\n"
   ]
  },
  {
   "cell_type": "code",
   "execution_count": 8,
   "id": "eb09dd6c",
   "metadata": {},
   "outputs": [
    {
     "data": {
      "application/vnd.jupyter.widget-view+json": {
       "model_id": "d6f321c485fb4b6fb5450e9211aa1a27",
       "version_major": 2,
       "version_minor": 0
      },
      "text/plain": [
       "interactive(children=(IntSlider(value=0, description='Initial Angle', layout=Layout(width='600px'), max=360, s…"
      ]
     },
     "metadata": {},
     "output_type": "display_data"
    }
   ],
   "source": [
    "initial_angle_slider = widgets.IntSlider(\n",
    "    value=0,  \n",
    "    min=0,\n",
    "    max=360,\n",
    "    description=\"Initial Angle\",\n",
    "    style={'description_width': 'initial'},\n",
    "    continuous_update=True,\n",
    "    layout=widgets.Layout(width=\"600px\"),\n",
    ")\n",
    "\n",
    "interactive_plot = widgets.interactive(\n",
    "    observe_angle_state_pair, initial_angle=initial_angle_slider)\n",
    "display(interactive_plot)"
   ]
  },
  {
   "cell_type": "code",
   "execution_count": 214,
   "id": "2efb59d0",
   "metadata": {},
   "outputs": [
    {
     "data": {
      "text/plain": [
       "array([[9.99999363e-01, 9.99999363e-01, 9.99999363e-01, 9.99999363e-01],\n",
       "       [6.36619772e-07, 6.36619772e-07, 6.36619772e-07, 6.36619772e-07]])"
      ]
     },
     "execution_count": 214,
     "metadata": {},
     "output_type": "execute_result"
    }
   ],
   "source": [
    "code0_extent_in_states = np.array([np.pi/2, np.pi/2, np.pi/2, np.pi/2]) - 1e-6\n",
    "code1_extent_in_states = np.array([      0,       0,       0,       0]) + 1e-6\n",
    "\n",
    "prob_code0_in_states = code0_extent_in_states / STATE_STEP\n",
    "prob_code1_in_states = code1_extent_in_states / STATE_STEP\n",
    "\n",
    "EMISSION_MATRIX_B = np.vstack([prob_code0_in_states, prob_code1_in_states])\n",
    "EMISSION_MATRIX_B"
   ]
  },
  {
   "cell_type": "code",
   "execution_count": 215,
   "id": "cbf350b7",
   "metadata": {},
   "outputs": [],
   "source": [
    "max_iter = 500\n",
    "joint_prob_obs_state_t = np.zeros((max_iter, EMISSION_MATRIX_B.shape[0], EMISSION_MATRIX_B.shape[1]))\n",
    "joint_prob_received_obs_state_t = np.zeros((max_iter, EMISSION_MATRIX_B.shape[1]))\n",
    "joint_prob_obs_state_forecast_t = np.zeros((max_iter, EMISSION_MATRIX_B.shape[0], EMISSION_MATRIX_B.shape[1]))\n",
    "angles_visited = np.zeros(max_iter)\n",
    "posterior_t = np.zeros((max_iter, NUM_BELIEFS))\n",
    "current_entropyS_t = np.zeros(max_iter)\n",
    "candidate_steps = np.array([-STATE_STEP/9, STATE_STEP/9])\n",
    "expected_forecast_t_S_per_step = np.zeros((max_iter, candidate_steps.shape[0]))\n",
    "deltaS_t = np.zeros((max_iter, candidate_steps.shape[0]))\n",
    "code_received_t = np.zeros(max_iter)\n",
    "\n",
    "time_ind = 0\n",
    "initial_angle = 0"
   ]
  },
  {
   "cell_type": "code",
   "execution_count": 334,
   "id": "f525c75c",
   "metadata": {},
   "outputs": [
    {
     "name": "stdout",
     "output_type": "stream",
     "text": [
      "Current angle: -1020.0, Code received: 1.0\n"
     ]
    },
    {
     "data": {
      "image/png": "[encoded data removed]",
      "text/plain": [
       "<Figure size 600x600 with 1 Axes>"
      ]
     },
     "metadata": {},
     "output_type": "display_data"
    },
    {
     "name": "stdout",
     "output_type": "stream",
     "text": [
      "PRINT 1: 0.0, [7.71183899e-144 7.71183899e-144 7.71183899e-144 7.71183899e-144]\n",
      "PRINT 2: [0. 0.], [3.20337259e-109 1.00000000e+000]\n",
      "[0. 0.], Step to take: -0.17453292519943295, Next angle: -1030.0\n"
     ]
    }
   ],
   "source": [
    "# while time_ind < max_iter:\n",
    "if time_ind<1:\n",
    "    angles_visited[time_ind] = initial_angle\n",
    "else:\n",
    "    angles_visited[time_ind] = angles_visited[time_ind-1] + np.rad2deg(step_to_take)\n",
    "\n",
    "if (angles_visited[time_ind]%360) >= obs1_bounds[0] and (angles_visited[time_ind]%360) <= obs1_bounds[1]:\n",
    "    code_received_t[time_ind] = 1\n",
    "else:\n",
    "    code_received_t[time_ind] = 0\n",
    "print(f'Current angle: {angles_visited[time_ind]}, Code received: {code_received_t[time_ind]}')\n",
    "observe_angle_state_pair((angles_visited[time_ind]%360))\n",
    "\n",
    "if time_ind<1:\n",
    "    joint_prob_obs_state_t[time_ind] = PRIOR_STATE_PROB * EMISSION_MATRIX_B\n",
    "else:\n",
    "    state_transition_matrix = get_state_transition_matrix(step_to_take)\n",
    "    joint_prob_obs_state_t[time_ind] = (joint_prob_received_obs_state_t[time_ind-1] @ state_transition_matrix) * EMISSION_MATRIX_B\n",
    "\n",
    "joint_prob_received_obs_state_t[time_ind] = joint_prob_obs_state_t[time_ind][int(code_received_t[time_ind])]\n",
    "likelihood_received_obs_from_target = joint_prob_received_obs_state_t[time_ind].sum()\n",
    "\n",
    "if time_ind<1:\n",
    "    likelihood_received_obs = np.array([likelihood_received_obs_from_target, LIKELIHOOD_OBS_FROM_NONTARGET])\n",
    "    posterior_t[time_ind] = (PRIOR_TARGET_PROB*likelihood_received_obs) / (PRIOR_TARGET_PROB*likelihood_received_obs).sum()\n",
    "else:\n",
    "    likelihood_received_obs_from_target_given_obs_sequence = likelihood_received_obs_from_target / joint_prob_received_obs_state_t[time_ind-1].sum()\n",
    "    likelihood_received_obs = np.array([likelihood_received_obs_from_target_given_obs_sequence, LIKELIHOOD_OBS_FROM_NONTARGET])\n",
    "    posterior_t[time_ind] = (posterior_t[time_ind-1]*likelihood_received_obs) / (posterior_t[time_ind-1]*likelihood_received_obs).sum()\n",
    "\n",
    "if 1 in posterior_t[time_ind]:\n",
    "    current_entropyS_t[time_ind] = 0\n",
    "else:\n",
    "    current_entropyS_t[time_ind] = (-posterior_t[time_ind]*np.log2(posterior_t[time_ind])).sum()\n",
    "\n",
    "for i, forecast_t_candidate_step in enumerate(candidate_steps):\n",
    "    state_transition_matrix = get_state_transition_matrix(forecast_t_candidate_step)\n",
    "\n",
    "    joint_prob_obs_state_forecast_t[time_ind] = (joint_prob_received_obs_state_t[time_ind] @ state_transition_matrix) * EMISSION_MATRIX_B\n",
    "    likelihood_obs_from_target_forecast_t = joint_prob_obs_state_forecast_t[time_ind].sum(axis=1)\n",
    "    likelihood_obs_from_target_forecast_t_given_received_obs = likelihood_obs_from_target_forecast_t / likelihood_received_obs_from_target\n",
    "\n",
    "    likelihood_obs0_forecast_t_given_received_obs = np.array([likelihood_obs_from_target_forecast_t_given_received_obs[0], LIKELIHOOD_OBS_FROM_NONTARGET])\n",
    "    posterior_forecast_given_received_obs0 = (posterior_t[time_ind] * likelihood_obs0_forecast_t_given_received_obs) / (posterior_t[time_ind] * likelihood_obs0_forecast_t_given_received_obs).sum()\n",
    "\n",
    "    likelihood_obs1_forecast_t_given_received_obs = np.array([likelihood_obs_from_target_forecast_t_given_received_obs[1], LIKELIHOOD_OBS_FROM_NONTARGET])\n",
    "    posterior_forecast_given_received_obs1 = (posterior_t[time_ind] * likelihood_obs1_forecast_t_given_received_obs) / (posterior_t[time_ind] * likelihood_obs1_forecast_t_given_received_obs).sum()\n",
    "    \n",
    "    if 1 in posterior_forecast_given_received_obs0:\n",
    "        forecasted_S0 = 0\n",
    "    else:\n",
    "        forecasted_S0 = (-posterior_forecast_given_received_obs0 * np.log2(posterior_forecast_given_received_obs0)).sum()\n",
    "\n",
    "    if 1 in posterior_forecast_given_received_obs1:\n",
    "        forecasted_S1 = 0\n",
    "    else:\n",
    "        forecasted_S1 = (-posterior_forecast_given_received_obs1 * np.log2(posterior_forecast_given_received_obs1)).sum()\n",
    "\n",
    "    prob_obs0_at_forecast_t2_given_obs0_at_t1 = (posterior_t[time_ind] * np.array([likelihood_obs_from_target_forecast_t_given_received_obs[0], LIKELIHOOD_OBS_FROM_NONTARGET])).sum()\n",
    "    prob_obs1_at_forecast_t2_given_obs0_at_t1 = (posterior_t[time_ind] * np.array([likelihood_obs_from_target_forecast_t_given_received_obs[1], LIKELIHOOD_OBS_FROM_NONTARGET])).sum()\n",
    "\n",
    "    expected_forecast_t_S = (forecasted_S0 * prob_obs0_at_forecast_t2_given_obs0_at_t1) + (forecasted_S1 * prob_obs1_at_forecast_t2_given_obs0_at_t1)\n",
    "    expected_forecast_t_S_per_step[time_ind, i] = expected_forecast_t_S\n",
    "\n",
    "deltaS_t[time_ind] = current_entropyS_t[time_ind] - expected_forecast_t_S_per_step[time_ind]\n",
    "print(f'PRINT 1: {current_entropyS_t[time_ind]}, {joint_prob_received_obs_state_t[time_ind]}')\n",
    "print(f'PRINT 2: {deltaS_t[time_ind]}, {posterior_t[time_ind]}')\n",
    "\n",
    "step_to_take = candidate_steps[deltaS_t[time_ind].argmax()]\n",
    "print(f'{deltaS_t[time_ind] - (deltaS_t[time_ind].max())}, Step to take: {step_to_take}, Next angle: {angles_visited[time_ind] + np.rad2deg(step_to_take)}')\n",
    "\n",
    "time_ind+=1"
   ]
  },
  {
   "cell_type": "code",
   "execution_count": 335,
   "id": "0d910191",
   "metadata": {},
   "outputs": [
    {
     "data": {
      "text/plain": [
       "array([[0.24999984, 0.24999984, 0.24999984, 0.24999984],\n",
       "       [0.24999968, 0.24999968, 0.24999968, 0.24999968],\n",
       "       [0.24999952, 0.24999952, 0.24999952, 0.24999952],\n",
       "       ...,\n",
       "       [0.        , 0.        , 0.        , 0.        ],\n",
       "       [0.        , 0.        , 0.        , 0.        ],\n",
       "       [0.        , 0.        , 0.        , 0.        ]], shape=(500, 4))"
      ]
     },
     "execution_count": 335,
     "metadata": {},
     "output_type": "execute_result"
    }
   ],
   "source": [
    "joint_prob_received_obs_state_t"
   ]
  },
  {
   "cell_type": "code",
   "execution_count": 336,
   "id": "35e22fa5",
   "metadata": {},
   "outputs": [],
   "source": [
    "inds_where_zeros = np.where(code_received_t[:time_ind]==0)[0]\n",
    "inds_where_change_in_zero = (inds_where_zeros[:-1] - inds_where_zeros[1:]) < -1\n",
    "zeros_after_ones = inds_where_zeros[1:][inds_where_change_in_zero]\n",
    "zeros_before_ones = inds_where_zeros[:-1][inds_where_change_in_zero]"
   ]
  },
  {
   "cell_type": "code",
   "execution_count": 337,
   "id": "0182ade6",
   "metadata": {},
   "outputs": [
    {
     "data": {
      "image/png": "[encoded data removed]",
      "text/plain": [
       "<Figure size 640x480 with 1 Axes>"
      ]
     },
     "metadata": {},
     "output_type": "display_data"
    }
   ],
   "source": [
    "plt.plot(np.vstack([PRIOR_TARGET_PROB, posterior_t[:time_ind]]), marker='.')\n",
    "plt.axvspan(0, zeros_before_ones[0], alpha=0.2, zorder=1, color='orange')\n",
    "for i in range(zeros_before_ones.shape[0]-1):\n",
    "    plt.axvspan(zeros_after_ones[i], zeros_before_ones[i+1], alpha=0.2, zorder=1, color='orange')\n",
    "    plt.axvspan(zeros_before_ones[i], zeros_after_ones[i], alpha=0.2, zorder=1, color='blue')\n",
    "plt.axvspan(zeros_after_ones[-1], time_ind, alpha=0.2, zorder=1, color='orange')\n",
    "plt.axvspan(zeros_before_ones[-1], zeros_after_ones[-1], alpha=0.2, zorder=1, color='blue')\n",
    "plt.show()"
   ]
  },
  {
   "cell_type": "code",
   "execution_count": 338,
   "id": "886362e4",
   "metadata": {},
   "outputs": [
    {
     "data": {
      "image/png": "[encoded data removed]",
      "text/plain": [
       "<Figure size 640x480 with 1 Axes>"
      ]
     },
     "metadata": {},
     "output_type": "display_data"
    }
   ],
   "source": [
    "plt.plot(np.log(np.vstack([PRIOR_TARGET_PROB, posterior_t[:time_ind]])), marker='.')\n",
    "plt.axvspan(0, zeros_before_ones[0], alpha=0.2, zorder=1, color='orange')\n",
    "for i in range(zeros_before_ones.shape[0]-1):\n",
    "    plt.axvspan(zeros_after_ones[i], zeros_before_ones[i+1], alpha=0.2, zorder=1, color='orange')\n",
    "    plt.axvspan(zeros_before_ones[i], zeros_after_ones[i], alpha=0.2, zorder=1, color='blue')\n",
    "plt.axvspan(zeros_after_ones[-1], time_ind, alpha=0.2, zorder=1, color='orange')\n",
    "plt.axvspan(zeros_before_ones[-1], zeros_after_ones[-1], alpha=0.2, zorder=1, color='blue')\n",
    "plt.show()"
   ]
  }
 ],
 "metadata": {
  "kernelspec": {
   "display_name": "muri-info",
   "language": "python",
   "name": "python3"
  },
  "language_info": {
   "codemirror_mode": {
    "name": "ipython",
    "version": 3
   },
   "file_extension": ".py",
   "mimetype": "text/x-python",
   "name": "python",
   "nbconvert_exporter": "python",
   "pygments_lexer": "ipython3",
   "version": "3.13.5"
  }
 },
 "nbformat": 4,
 "nbformat_minor": 5
}
