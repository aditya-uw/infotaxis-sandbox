{
 "cells": [
  {
   "cell_type": "markdown",
   "id": "fbdb7e22",
   "metadata": {},
   "source": [
    "# Notebook to develop HMM model to investigate optimal angle selection"
   ]
  },
  {
   "cell_type": "markdown",
   "id": "4e9d014a",
   "metadata": {},
   "source": [
    "## Defining the targets we will be using in our multiaspect classification model"
   ]
  },
  {
   "cell_type": "code",
   "execution_count": 3,
   "id": "67841ad2",
   "metadata": {},
   "outputs": [],
   "source": [
    "import numpy as np\n",
    "import matplotlib.pyplot as plt\n",
    "import matplotlib.patches as patches\n",
    "import matplotlib.gridspec as gridspec\n",
    "\n",
    "from scipy.special import spherical_jn, spherical_yn\n",
    "\n",
    "import ipywidgets as widgets\n",
    "from IPython.display import display\n",
    "\n",
    "from sklearn.cluster import KMeans\n",
    "import seaborn as sns\n",
    "import pandas as pd"
   ]
  },
  {
   "cell_type": "markdown",
   "id": "757d8fb9",
   "metadata": {},
   "source": [
    "## Below is the analytical DWBA solution for a prolate spheroid geometry"
   ]
  },
  {
   "cell_type": "code",
   "execution_count": 4,
   "id": "05125d76",
   "metadata": {},
   "outputs": [],
   "source": [
    "def dwba_prolate_spheroid(L, a, g, h, ka, phi):\n",
    "    \"\"\"\n",
    "    DWBA solution for a fluid prolate spheroid.\n",
    "    Lee, W.-J., Lavery, A. C., and Stanton, T. K. (2012). \n",
    "    “Orientation dependence of broadband acoustic backscattering from live squid,” \n",
    "    The Journal of the Acoustical Society of America, 131, 4461–4475. doi:10.1121/1.3701876\n",
    "    \n",
    "    Parameters\n",
    "    ----------\n",
    "    L : float\n",
    "        Length of spheroid (long axis) [m]\n",
    "    a : float\n",
    "        Radius of spheroid (short axis) [m]\n",
    "    g : float\n",
    "        Density contrast (rho2/rho1)\n",
    "    h : float\n",
    "        Sound speed contrast (c2/c1)\n",
    "    ka : array_like\n",
    "        Dimensionless ka (wavenumber * radius)\n",
    "    phi : float or array_like\n",
    "        Incident angle [radians]\n",
    "\n",
    "    Returns\n",
    "    -------\n",
    "    fbs : array_like\n",
    "        Complex backscattering amplitude\n",
    "    \"\"\"\n",
    "    # Convert inputs to arrays and ensure proper broadcasting\n",
    "    ka = np.atleast_1d(ka)\n",
    "    phi = np.atleast_1d(phi)\n",
    "\n",
    "    # Calculate contrast term\n",
    "    contrast = 1/(g * h**2) + 1/g - 2\n",
    "    \n",
    "    # Convert incident angle to beta\n",
    "    beta = phi[..., np.newaxis] + np.pi / 2  # Add dimension for broadcasting with ka\n",
    "    # beta = phi + np.pi/2\n",
    "    \n",
    "    # Calculate aspect ratio term (L/2a)\n",
    "    aspect_ratio = L / (2 * a)\n",
    "\n",
    "    # Calculate argument for Bessel function\n",
    "    ellip_term = np.sqrt(np.sin(beta)**2 + (aspect_ratio**2) * np.cos(beta)**2)\n",
    "    bessel_arg = 2 * ka / h * ellip_term\n",
    "    \n",
    "    # Calculate spherical Bessel function\n",
    "    j1 = spherical_jn(1, bessel_arg)\n",
    "    \n",
    "    # Calculate final backscattering amplitude\n",
    "    fbs = (ka**2) * L * contrast/2 * j1/bessel_arg\n",
    "\n",
    "    return fbs.squeeze()"
   ]
  },
  {
   "cell_type": "markdown",
   "id": "e4368833",
   "metadata": {},
   "source": [
    "## Defining the measurement and target constants"
   ]
  },
  {
   "cell_type": "code",
   "execution_count": 5,
   "id": "8f55513f",
   "metadata": {},
   "outputs": [],
   "source": [
    "a = 0.15 # semi-minor axis (equatorial radius)\n",
    "g = 1.043 # density contrast\n",
    "h = 1.053 # sound speed contrast\n",
    "c = 1500 # speed of sound in water\n",
    "\n",
    "freq_lowerbound = 100 # frequency response lower bound\n",
    "freq_upperbound = 30e3 # frequency response upper bound\n",
    "freq = np.arange(freq_lowerbound, freq_upperbound, 10)\n",
    "k = 2*np.pi*freq / c # acoustic wavenumber (phase shift per meter)\n",
    "ka = k*a"
   ]
  },
  {
   "cell_type": "markdown",
   "id": "bc9849d8",
   "metadata": {},
   "source": [
    "## Define constants that come before any testing trial has started"
   ]
  },
  {
   "cell_type": "code",
   "execution_count": 6,
   "id": "72845498",
   "metadata": {},
   "outputs": [],
   "source": [
    "# CONSTANTS RELATING TO MAX ITERATIONS \n",
    "max_iter = 10\n",
    "t = 0\n",
    "\n",
    "# CONSTANTS DEFINING DETECTION CONFIDENCE AND AGENT OPTIONS\n",
    "cumulative_log_likelihood = 0\n",
    "cumulative_log_likelihoods = np.full(max_iter+1, np.nan)\n",
    "cumulative_log_likelihoods[0] = cumulative_log_likelihood\n",
    "candidate_angle_steps = np.array([-5, 5])\n",
    "\n",
    "## DEFINE STATE CENTERS\n",
    "state_angle_step = 5\n",
    "last_state = 90\n",
    "first_state = -90\n",
    "state_centers = np.arange(-last_state, last_state, state_angle_step) + (state_angle_step / 2)\n",
    "alpha_states_for_received_code = np.zeros((max_iter+1, state_centers.shape[0]))\n",
    "\n",
    "# BUILD TRAINING DATASET USING DISTORED WAVE BORN APPROXIMATION FROM PROLATE SPHEROID OF ASPECT RATIO = 1\n",
    "trained_target_AR = 1.5\n",
    "\n",
    "measurement_angle_step = 0.5\n",
    "angle_all = np.arange(first_state, last_state+measurement_angle_step, measurement_angle_step)\n",
    "L = trained_target_AR * 2*a\n",
    "phi_all = np.deg2rad(angle_all)\n",
    "fbs_full = dwba_prolate_spheroid(L, a, g, h, ka, phi_all)\n",
    "TS_standard = 20*np.log10(np.abs(fbs_full))\n",
    "\n",
    "# PERFORM VECTOR QUANTIZATION ON WAVEFORMS MEASURED FROM TRAINING TARGET TO BUILD CODEBOOK\n",
    "k = TS_standard.shape[0]//45\n",
    "state = 1500\n",
    "kmean_TS_codebook = KMeans(n_clusters=k, n_init=10, random_state=state).fit(TS_standard)\n",
    "labels = kmean_TS_codebook.labels_\n",
    "\n",
    "## DEVELOP EMISSION MATRIX FOR TRAINED MODEL\n",
    "emission_matrix_B = np.zeros((state_centers.shape[0], kmean_TS_codebook.n_clusters))\n",
    "for i, state_center in enumerate(state_centers):\n",
    "    angle_indices_for_state = np.where((state_center-(state_angle_step/2)<=angle_all)&(angle_all<state_center+(state_angle_step/2)))[0]\n",
    "    TS_state_target_k = TS_standard[angle_indices_for_state,:]\n",
    "    target_k_state_cluster_preds = kmean_TS_codebook.predict(TS_state_target_k)\n",
    "\n",
    "    density, clusters = np.histogram(target_k_state_cluster_preds, bins=np.arange(0, kmean_TS_codebook.n_clusters+1), density=True)\n",
    "    emission_matrix_B[i, :] = density\n",
    "assert np.isclose(emission_matrix_B.sum(axis=1), np.ones(state_centers.shape[0])).all()\n",
    "\n",
    "## DEFINE (UNKNOWN) INITIAL STATE AND (KNOWN) PROBABILITY OF BEING IN ANY INITIAL STATE\n",
    "initial_state_prob = state_angle_step / (last_state - first_state)\n",
    "current_state = 0\n",
    "true_target_AR = 2.5\n",
    "true_target_L = true_target_AR * 2*a"
   ]
  },
  {
   "cell_type": "code",
   "execution_count": 7,
   "id": "95084355",
   "metadata": {},
   "outputs": [],
   "source": [
    "measurement_angle_step = 0.5\n",
    "angle_all = np.arange(-90, 90+measurement_angle_step, measurement_angle_step)\n",
    "\n",
    "def update_dwba_for_ellipse(angle, aspect_ratio):\n",
    "    L = aspect_ratio*2*a\n",
    "\n",
    "    # TS across all angles\n",
    "    phi_all = np.deg2rad(angle_all)\n",
    "    fbs_full = dwba_prolate_spheroid(L, a, g, h, ka, phi_all)\n",
    "    TS_all = 20*np.log10(np.abs(fbs_full))\n",
    "\n",
    "    phi = np.deg2rad(angle)\n",
    "    fbs = dwba_prolate_spheroid(L, a, g, h, ka, phi)\n",
    "    TS = 20*np.log10(np.abs(fbs))\n",
    "\n",
    "    # Define ellipse parameters\n",
    "    width = 2*a  # width\n",
    "    height = L  # height\n",
    "    ellipse_angle = 90 - angle # rotation angle [deg]\n",
    "\n",
    "    # Create the ellipse patch\n",
    "    ellipse = patches.Ellipse(\n",
    "        (0.5, -0.5), width, height, angle=ellipse_angle, \n",
    "        facecolor='lightblue', edgecolor='blue')\n",
    "\n",
    "    fig = plt.figure(figsize=(7,6))\n",
    "    gs = gridspec.GridSpec(2, 2, width_ratios=[2, 1])\n",
    "    fig.subplots_adjust(hspace=0.1)\n",
    "\n",
    "    # All angles\n",
    "    ax0 = fig.add_subplot(gs[0,0])\n",
    "    ax0.imshow(TS_all, aspect=\"auto\", vmax=-25, vmin=-80,\n",
    "                extent=(0, freq_upperbound//1e3, -90, 90+measurement_angle_step))\n",
    "    ax0.set_yticks(np.arange(-90, 90+measurement_angle_step, 30))\n",
    "    ax0.set_ylabel(\"Incident angle (°)\", fontsize=12)\n",
    "    ax0.set_xlim(freq_lowerbound, freq_upperbound)\n",
    "    received_code = kmean_TS_codebook.predict(TS.reshape((1, freq.shape[0])))[0]\n",
    "    ax0.axhline(angle, color=\"magenta\", label=f'Code={received_code}, Likelihood={(initial_state_prob*emission_matrix_B[:,received_code]).sum():.3f}')\n",
    "    ax0.legend()\n",
    "\n",
    "    # One angle slice\n",
    "    ax1 = fig.add_subplot(gs[1,0], sharex=ax0)\n",
    "    ax1.plot(freq/1e3, TS, lw=0.75)\n",
    "    ax1.set_xlim(freq_lowerbound/1e3, freq_upperbound/1e3)\n",
    "    ax1.set_ylim(-90, -20)\n",
    "    ax1.set_xlabel(\"Frequency (kHz)\", fontsize=12)\n",
    "    ax1.set_ylabel(\"TS (dB)\", fontsize=12)\n",
    "\n",
    "    # Ellipse (cross section of prolate spheroid)\n",
    "    ax_ellip = fig.add_subplot(gs[1,1])\n",
    "    ax_ellip.add_patch(ellipse)\n",
    "    ax_ellip.annotate(\"Incident sound\", xytext=(0.5, -1.5), xy=(0.5, -0.95),\n",
    "        arrowprops=dict(arrowstyle=\"->,head_length=0.5,head_width=0.3\",\n",
    "                        linewidth=2),\n",
    "        fontsize=12,\n",
    "        ha=\"center\")\n",
    "    ax_ellip.set_aspect('equal', adjustable='box')\n",
    "    ax_ellip.axis('off')\n",
    "    ax_ellip.set_xlim(0, 1)\n",
    "    ax_ellip.set_ylim(-1.5, 0)\n",
    "\n",
    "    ax0.set_title(\"TS of a fluid prolate spheroid\")\n",
    "    plt.tight_layout()\n",
    "    plt.show()"
   ]
  },
  {
   "cell_type": "markdown",
   "id": "716cf164",
   "metadata": {},
   "source": [
    "## Plotting the acoustic color of example targets for my own viewing"
   ]
  },
  {
   "cell_type": "code",
   "execution_count": 8,
   "id": "d85ae12d",
   "metadata": {},
   "outputs": [
    {
     "data": {
      "application/vnd.jupyter.widget-view+json": {
       "model_id": "9521b24afa3d4b00a79c6c611c498a5c",
       "version_major": 2,
       "version_minor": 0
      },
      "text/plain": [
       "interactive(children=(SelectionSlider(description='Incident angle (°)', index=90, layout=Layout(width='400px')…"
      ]
     },
     "metadata": {},
     "output_type": "display_data"
    }
   ],
   "source": [
    "aa = np.arange(-90, 91, 1)\n",
    "angle_slider = widgets.SelectionSlider(\n",
    "    options=aa,\n",
    "    value=0,  # default value\n",
    "    description=\"Incident angle (°)\",\n",
    "    style={'description_width': 'initial'},\n",
    "    continuous_update=True,\n",
    "    layout=widgets.Layout(width=\"400px\"),\n",
    ")\n",
    "\n",
    "aspect_ratio_slider = widgets.FloatSlider(\n",
    "    value=2.0, \n",
    "    min=0.1, \n",
    "    max=2, \n",
    "    step=0.1, \n",
    "    description=\"Aspect ratio\", \n",
    "    continuous_update=True, \n",
    "    style={'description_width': 'initial'}, \n",
    "    layout=widgets.Layout(width=\"400px\")\n",
    ")\n",
    "interactive_plot = widgets.interactive(\n",
    "    update_dwba_for_ellipse, angle=angle_slider, aspect_ratio=aspect_ratio_slider)\n",
    "display(interactive_plot)"
   ]
  },
  {
   "cell_type": "code",
   "execution_count": 9,
   "id": "9dd34039",
   "metadata": {},
   "outputs": [],
   "source": [
    "def w_(theta):\n",
    "    sigma_i = state_angle_step / 2\n",
    "    normalization = 1 / np.sqrt(2*np.pi*(sigma_i**2))\n",
    "\n",
    "    return normalization * np.exp(-0.5*((theta/sigma_i)**2))\n",
    "\n",
    "def state_transition_model(delta_angle):\n",
    "    angular_dist_between_states = (state_centers[np.newaxis, :] - state_centers[:, np.newaxis])\n",
    "\n",
    "    return w_(angular_dist_between_states - delta_angle)"
   ]
  },
  {
   "cell_type": "code",
   "execution_count": 10,
   "id": "941b5a84",
   "metadata": {},
   "outputs": [
    {
     "data": {
      "text/plain": [
       "array([0.78539816, 2.35619449, 3.92699082, 5.49778714])"
      ]
     },
     "execution_count": 10,
     "metadata": {},
     "output_type": "execute_result"
    }
   ],
   "source": [
    "s0_center = np.pi/4\n",
    "state_steps = np.pi/2\n",
    "state_centers = np.arange(s0_center, 2*np.pi, state_steps)\n",
    "state_centers"
   ]
  },
  {
   "cell_type": "code",
   "execution_count": 11,
   "id": "21b1607d",
   "metadata": {},
   "outputs": [
    {
     "data": {
      "text/plain": [
       "array([[ 0.        ,  1.57079633,  3.14159265,  4.71238898],\n",
       "       [-1.57079633,  0.        ,  1.57079633,  3.14159265],\n",
       "       [-3.14159265, -1.57079633,  0.        ,  1.57079633],\n",
       "       [-4.71238898, -3.14159265, -1.57079633,  0.        ]])"
      ]
     },
     "execution_count": 11,
     "metadata": {},
     "output_type": "execute_result"
    }
   ],
   "source": [
    "angular_dist_between_states = (state_centers[np.newaxis, :] - state_centers[:, np.newaxis])\n",
    "angular_dist_between_states"
   ]
  },
  {
   "cell_type": "code",
   "execution_count": 12,
   "id": "dce27a3f",
   "metadata": {},
   "outputs": [
    {
     "data": {
      "text/plain": [
       "array([[-0.        , -4.71238898, -3.14159265, -1.57079633],\n",
       "       [-1.57079633, -0.        , -4.71238898, -3.14159265],\n",
       "       [-3.14159265, -1.57079633, -0.        , -4.71238898],\n",
       "       [-4.71238898, -3.14159265, -1.57079633, -0.        ]])"
      ]
     },
     "execution_count": 12,
     "metadata": {},
     "output_type": "execute_result"
    }
   ],
   "source": [
    "angular_dist_between_states_negative_extent = angular_dist_between_states % (-2*np.pi)\n",
    "angular_dist_between_states_negative_extent"
   ]
  },
  {
   "cell_type": "code",
   "execution_count": 13,
   "id": "4bb54963",
   "metadata": {},
   "outputs": [
    {
     "data": {
      "text/plain": [
       "array([[ 1.57079633, -3.14159265, -1.57079633,  0.        ],\n",
       "       [ 0.        ,  1.57079633, -3.14159265, -1.57079633],\n",
       "       [-1.57079633,  0.        ,  1.57079633, -3.14159265],\n",
       "       [-3.14159265, -1.57079633,  0.        ,  1.57079633]])"
      ]
     },
     "execution_count": 13,
     "metadata": {},
     "output_type": "execute_result"
    }
   ],
   "source": [
    "candidate_step = -np.pi/2\n",
    "angular_dist_after_action = (angular_dist_between_states_negative_extent - candidate_step)\n",
    "angular_dist_after_action"
   ]
  },
  {
   "cell_type": "code",
   "execution_count": 14,
   "id": "522f78b5",
   "metadata": {},
   "outputs": [
    {
     "data": {
      "text/plain": [
       "array([[-4.71238898, -3.14159265, -1.57079633, -0.        ],\n",
       "       [-0.        , -4.71238898, -3.14159265, -1.57079633],\n",
       "       [-1.57079633, -0.        , -4.71238898, -3.14159265],\n",
       "       [-3.14159265, -1.57079633, -0.        , -4.71238898]])"
      ]
     },
     "execution_count": 14,
     "metadata": {},
     "output_type": "execute_result"
    }
   ],
   "source": [
    "angular_dist_after_action_negative_extent = angular_dist_after_action % (-2*np.pi)\n",
    "angular_dist_after_action_negative_extent"
   ]
  },
  {
   "cell_type": "code",
   "execution_count": 15,
   "id": "7ef21269",
   "metadata": {},
   "outputs": [
    {
     "data": {
      "text/plain": [
       "array([[-18.,  -8.,  -2.,  -0.],\n",
       "       [ -0., -18.,  -8.,  -2.],\n",
       "       [ -2.,  -0., -18.,  -8.],\n",
       "       [ -8.,  -2.,  -0., -18.]])"
      ]
     },
     "execution_count": 15,
     "metadata": {},
     "output_type": "execute_result"
    }
   ],
   "source": [
    "sigma = state_steps/2\n",
    "-0.5*((angular_dist_after_action_negative_extent/sigma)**2)"
   ]
  },
  {
   "cell_type": "code",
   "execution_count": 16,
   "id": "008c89ba",
   "metadata": {},
   "outputs": [
    {
     "data": {
      "text/plain": [
       "array([[1.34105590e-08, 2.95387219e-04, 1.19167709e-01, 8.80536890e-01],\n",
       "       [8.80536890e-01, 1.34105590e-08, 2.95387219e-04, 1.19167709e-01],\n",
       "       [1.19167709e-01, 8.80536890e-01, 1.34105590e-08, 2.95387219e-04],\n",
       "       [2.95387219e-04, 1.19167709e-01, 8.80536890e-01, 1.34105590e-08]])"
      ]
     },
     "execution_count": 16,
     "metadata": {},
     "output_type": "execute_result"
    }
   ],
   "source": [
    "magnitude = 1 / np.sqrt((2*np.pi) * (sigma**2))\n",
    "state_transition = magnitude * np.exp(-0.5*((angular_dist_after_action_negative_extent/sigma)**2))\n",
    "state_transition_normed = state_transition / state_transition.sum(axis=1)\n",
    "state_transition_normed"
   ]
  },
  {
   "cell_type": "code",
   "execution_count": 17,
   "id": "180c5c8f",
   "metadata": {},
   "outputs": [
    {
     "data": {
      "text/plain": [
       "array([[0.   , 0.   , 0.119, 0.881],\n",
       "       [0.881, 0.   , 0.   , 0.119],\n",
       "       [0.119, 0.881, 0.   , 0.   ],\n",
       "       [0.   , 0.119, 0.881, 0.   ]])"
      ]
     },
     "execution_count": 17,
     "metadata": {},
     "output_type": "execute_result"
    }
   ],
   "source": [
    "state_transition_normed.round(3)"
   ]
  },
  {
   "cell_type": "code",
   "execution_count": 18,
   "id": "3d1d2c22",
   "metadata": {},
   "outputs": [
    {
     "data": {
      "image/png": "[encoded data removed]",
      "text/plain": [
       "<Figure size 640x480 with 2 Axes>"
      ]
     },
     "metadata": {},
     "output_type": "display_data"
    }
   ],
   "source": [
    "plt.imshow(state_transition)\n",
    "plt.xticks(np.arange(4))\n",
    "plt.yticks(np.arange(4))\n",
    "plt.title('State transition example')\n",
    "plt.ylabel('From state i (rows)')\n",
    "plt.xlabel('To state j (cols)')\n",
    "plt.colorbar()\n",
    "plt.show()"
   ]
  },
  {
   "cell_type": "code",
   "execution_count": 19,
   "id": "b025250a",
   "metadata": {},
   "outputs": [
    {
     "data": {
      "text/plain": [
       "array([[ 0.        ,  1.57079633,  3.14159265,  4.71238898],\n",
       "       [-1.57079633,  0.        ,  1.57079633,  3.14159265],\n",
       "       [-3.14159265, -1.57079633,  0.        ,  1.57079633],\n",
       "       [-4.71238898, -3.14159265, -1.57079633,  0.        ]])"
      ]
     },
     "execution_count": 19,
     "metadata": {},
     "output_type": "execute_result"
    }
   ],
   "source": [
    "angular_dist_between_states"
   ]
  },
  {
   "cell_type": "code",
   "execution_count": 20,
   "id": "f2927ff7",
   "metadata": {},
   "outputs": [
    {
     "data": {
      "text/plain": [
       "array([[0.        , 1.57079633, 3.14159265, 4.71238898],\n",
       "       [4.71238898, 0.        , 1.57079633, 3.14159265],\n",
       "       [3.14159265, 4.71238898, 0.        , 1.57079633],\n",
       "       [1.57079633, 3.14159265, 4.71238898, 0.        ]])"
      ]
     },
     "execution_count": 20,
     "metadata": {},
     "output_type": "execute_result"
    }
   ],
   "source": [
    "candidate_step = np.pi/2\n",
    "\n",
    "angular_dist_between_states_positive_extent = angular_dist_between_states % (2*np.pi)\n",
    "angular_dist_between_states_positive_extent"
   ]
  },
  {
   "cell_type": "code",
   "execution_count": 21,
   "id": "10fbe0c0",
   "metadata": {},
   "outputs": [
    {
     "data": {
      "text/plain": [
       "array([[-1.57079633,  0.        ,  1.57079633,  3.14159265],\n",
       "       [ 3.14159265, -1.57079633,  0.        ,  1.57079633],\n",
       "       [ 1.57079633,  3.14159265, -1.57079633,  0.        ],\n",
       "       [ 0.        ,  1.57079633,  3.14159265, -1.57079633]])"
      ]
     },
     "execution_count": 21,
     "metadata": {},
     "output_type": "execute_result"
    }
   ],
   "source": [
    "angular_dist_after_action = (angular_dist_between_states_positive_extent - candidate_step)\n",
    "angular_dist_after_action"
   ]
  },
  {
   "cell_type": "code",
   "execution_count": 22,
   "id": "38295c19",
   "metadata": {},
   "outputs": [
    {
     "data": {
      "text/plain": [
       "array([[4.71238898, 0.        , 1.57079633, 3.14159265],\n",
       "       [3.14159265, 4.71238898, 0.        , 1.57079633],\n",
       "       [1.57079633, 3.14159265, 4.71238898, 0.        ],\n",
       "       [0.        , 1.57079633, 3.14159265, 4.71238898]])"
      ]
     },
     "execution_count": 22,
     "metadata": {},
     "output_type": "execute_result"
    }
   ],
   "source": [
    "angular_dist_after_action_positive_extent = angular_dist_after_action % (2*np.pi)\n",
    "angular_dist_after_action_positive_extent"
   ]
  },
  {
   "cell_type": "code",
   "execution_count": 23,
   "id": "7436182f",
   "metadata": {},
   "outputs": [
    {
     "data": {
      "text/plain": [
       "array([[-18.,  -0.,  -2.,  -8.],\n",
       "       [ -8., -18.,  -0.,  -2.],\n",
       "       [ -2.,  -8., -18.,  -0.],\n",
       "       [ -0.,  -2.,  -8., -18.]])"
      ]
     },
     "execution_count": 23,
     "metadata": {},
     "output_type": "execute_result"
    }
   ],
   "source": [
    "sigma = state_steps/2\n",
    "-0.5*((angular_dist_after_action_positive_extent/sigma)**2)"
   ]
  },
  {
   "cell_type": "code",
   "execution_count": 24,
   "id": "f4030d33",
   "metadata": {},
   "outputs": [
    {
     "data": {
      "text/plain": [
       "array([[1.34105590e-08, 8.80536890e-01, 1.19167709e-01, 2.95387219e-04],\n",
       "       [2.95387219e-04, 1.34105590e-08, 8.80536890e-01, 1.19167709e-01],\n",
       "       [1.19167709e-01, 2.95387219e-04, 1.34105590e-08, 8.80536890e-01],\n",
       "       [8.80536890e-01, 1.19167709e-01, 2.95387219e-04, 1.34105590e-08]])"
      ]
     },
     "execution_count": 24,
     "metadata": {},
     "output_type": "execute_result"
    }
   ],
   "source": [
    "magnitude = 1 / np.sqrt((2*np.pi) * (sigma**2))\n",
    "state_transition = magnitude * np.exp(-0.5*((angular_dist_after_action_positive_extent/sigma)**2))\n",
    "state_transition_normed = state_transition / state_transition.sum(axis=1)\n",
    "state_transition_normed"
   ]
  },
  {
   "cell_type": "code",
   "execution_count": 25,
   "id": "21d01a2e",
   "metadata": {},
   "outputs": [
    {
     "data": {
      "text/plain": [
       "array([[0.   , 0.881, 0.119, 0.   ],\n",
       "       [0.   , 0.   , 0.881, 0.119],\n",
       "       [0.119, 0.   , 0.   , 0.881],\n",
       "       [0.881, 0.119, 0.   , 0.   ]])"
      ]
     },
     "execution_count": 25,
     "metadata": {},
     "output_type": "execute_result"
    }
   ],
   "source": [
    "state_transition_normed.round(3)"
   ]
  },
  {
   "cell_type": "code",
   "execution_count": 26,
   "id": "d6366cd6",
   "metadata": {},
   "outputs": [
    {
     "data": {
      "image/png": "[encoded data removed]",
      "text/plain": [
       "<Figure size 640x480 with 2 Axes>"
      ]
     },
     "metadata": {},
     "output_type": "display_data"
    }
   ],
   "source": [
    "plt.imshow(state_transition)\n",
    "plt.xticks(np.arange(4))\n",
    "plt.yticks(np.arange(4))\n",
    "plt.title('State transition example')\n",
    "plt.ylabel('From state i (rows)')\n",
    "plt.xlabel('To state j (cols)')\n",
    "plt.colorbar()\n",
    "plt.show()"
   ]
  }
 ],
 "metadata": {
  "kernelspec": {
   "display_name": "muri-info",
   "language": "python",
   "name": "python3"
  },
  "language_info": {
   "codemirror_mode": {
    "name": "ipython",
    "version": 3
   },
   "file_extension": ".py",
   "mimetype": "text/x-python",
   "name": "python",
   "nbconvert_exporter": "python",
   "pygments_lexer": "ipython3",
   "version": "3.13.5"
  }
 },
 "nbformat": 4,
 "nbformat_minor": 5
}
