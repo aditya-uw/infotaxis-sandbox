{
 "cells": [
  {
   "cell_type": "code",
   "execution_count": 1,
   "id": "1a1e1e2a",
   "metadata": {},
   "outputs": [],
   "source": [
    "import numpy as np\n",
    "import matplotlib.pyplot as plt\n",
    "\n",
    "import ipywidgets as widgets\n",
    "\n",
    "from IPython.display import display"
   ]
  },
  {
   "cell_type": "code",
   "execution_count": 86,
   "id": "4af19106",
   "metadata": {},
   "outputs": [],
   "source": [
    "NUM_STATES = 4\n",
    "NUM_OBSERVATIONS = 2\n",
    "NUM_BELIEFS = 2 # TARGET vs. NON TARGET\n",
    "ANGLE_RANGE = 2*np.pi\n",
    "\n",
    "STATE_STEP = ANGLE_RANGE/NUM_STATES\n",
    "STATE_CENTERS = np.arange(0, ANGLE_RANGE, STATE_STEP) + STATE_STEP\n",
    "ANGL_DIST_BETWEEN_STATES = (STATE_CENTERS[np.newaxis, :] - STATE_CENTERS[:, np.newaxis])\n",
    "\n",
    "PRIOR_TARGET_PROB = np.array([1/NUM_BELIEFS, 1-(1/NUM_BELIEFS)])\n",
    "PRIOR_STATE_PROB = np.full(NUM_STATES, 1/NUM_STATES)\n",
    "LIKELIHOOD_OBS_FROM_NONTARGET = 1/NUM_OBSERVATIONS"
   ]
  },
  {
   "cell_type": "code",
   "execution_count": 87,
   "id": "62d0ef98",
   "metadata": {},
   "outputs": [
    {
     "data": {
      "text/plain": [
       "1.5707963267948966"
      ]
     },
     "execution_count": 87,
     "metadata": {},
     "output_type": "execute_result"
    }
   ],
   "source": [
    "STATE_STEP"
   ]
  },
  {
   "cell_type": "code",
   "execution_count": 88,
   "id": "81e5eb72",
   "metadata": {},
   "outputs": [],
   "source": [
    "def get_state_transition_matrix(candidate_step):\n",
    "    if candidate_step>0:\n",
    "        mod_basis = 2*np.pi\n",
    "    else:\n",
    "        mod_basis = -2*np.pi\n",
    "\n",
    "    angular_dist_between_states_in_extent = ANGL_DIST_BETWEEN_STATES % mod_basis\n",
    "    angular_dist_after_action = (angular_dist_between_states_in_extent - candidate_step)\n",
    "    angular_dist_after_action_in_extent = angular_dist_after_action % mod_basis\n",
    "    \n",
    "    sigma = STATE_STEP/2\n",
    "    magnitude = 1 / np.sqrt((2*np.pi) * (sigma**2))\n",
    "    state_transition = magnitude * np.exp(-0.5*((angular_dist_after_action_in_extent/sigma)**2))\n",
    "    state_transition_normed = state_transition / state_transition.sum(axis=1)\n",
    "    return state_transition_normed"
   ]
  },
  {
   "cell_type": "code",
   "execution_count": 89,
   "id": "153dafd4",
   "metadata": {},
   "outputs": [
    {
     "data": {
      "text/plain": [
       "array([[0.   , 0.   , 0.119, 0.881],\n",
       "       [0.881, 0.   , 0.   , 0.119],\n",
       "       [0.119, 0.881, 0.   , 0.   ],\n",
       "       [0.   , 0.119, 0.881, 0.   ]])"
      ]
     },
     "execution_count": 89,
     "metadata": {},
     "output_type": "execute_result"
    }
   ],
   "source": [
    "candidate_step = -STATE_STEP\n",
    "state_transition_matrix = get_state_transition_matrix(candidate_step)\n",
    "state_transition_matrix.round(3)"
   ]
  },
  {
   "cell_type": "code",
   "execution_count": 90,
   "id": "766c062c",
   "metadata": {},
   "outputs": [
    {
     "data": {
      "text/plain": [
       "array([[0.   , 0.881, 0.119, 0.   ],\n",
       "       [0.   , 0.   , 0.881, 0.119],\n",
       "       [0.119, 0.   , 0.   , 0.881],\n",
       "       [0.881, 0.119, 0.   , 0.   ]])"
      ]
     },
     "execution_count": 90,
     "metadata": {},
     "output_type": "execute_result"
    }
   ],
   "source": [
    "candidate_step = STATE_STEP\n",
    "state_transition_matrix = get_state_transition_matrix(candidate_step)\n",
    "state_transition_matrix.round(3)"
   ]
  },
  {
   "cell_type": "code",
   "execution_count": 91,
   "id": "629dab92",
   "metadata": {},
   "outputs": [],
   "source": [
    "obs1_bounds = np.array([60, 120])"
   ]
  },
  {
   "cell_type": "code",
   "execution_count": 92,
   "id": "6557e90e",
   "metadata": {},
   "outputs": [],
   "source": [
    "def observe_angle_state_pair(initial_angle):\n",
    "   plt.figure(figsize=(6, 6))\n",
    "   radius = 1\n",
    "   radius_until = 5\n",
    "   pie = np.pi\n",
    "   theta_obs1 = np.linspace(np.radians(obs1_bounds[0]), np.radians(obs1_bounds[1]), 30)\n",
    "   x_inner = radius * np.cos(theta_obs1)\n",
    "   y_inner =  radius * np.sin(theta_obs1)\n",
    "   x_poly = np.concatenate([radius_until*x_inner, x_inner[::-1]])\n",
    "   y_poly = np.concatenate([radius_until*y_inner, y_inner[::-1]])\n",
    "   plt.fill(x_poly, y_poly, facecolor='blue', alpha=0.25, linewidth=0)\n",
    "   plt.plot(x_inner, y_inner, color='blue', linewidth=1)\n",
    "\n",
    "   theta_obs0 = np.linspace(np.radians(obs1_bounds[1]), np.radians(obs1_bounds[0])+2*pie, 30)\n",
    "   x_inner = radius * np.cos(theta_obs0)\n",
    "   y_inner =  radius * np.sin(theta_obs0)\n",
    "   x_poly = np.concatenate([radius_until*x_inner, x_inner[::-1]])\n",
    "   y_poly = np.concatenate([radius_until*y_inner, y_inner[::-1]])\n",
    "   plt.fill(x_poly, y_poly, facecolor='orange', alpha=0.25, linewidth=0)\n",
    "   plt.plot(x_inner, y_inner, color='orange', linewidth=1)\n",
    "\n",
    "   for theta in STATE_CENTERS:\n",
    "      r_outer = 4 * radius_until * radius\n",
    "      plt.plot([radius*np.cos(theta), r_outer*np.cos(theta)], \n",
    "               [radius*np.sin(theta), r_outer*np.sin(theta)],\n",
    "                  color='k', linewidth=1.5, solid_capstyle='round', zorder=1)\n",
    "      plt.plot([radius*np.cos(theta + (STATE_STEP/2)), r_outer*np.cos(theta + (STATE_STEP/2))], \n",
    "               [radius*np.sin(theta + (STATE_STEP/2)), r_outer*np.sin(theta + (STATE_STEP/2))],\n",
    "                  color='k', linewidth=1, linestyle='dashed', zorder=1)\n",
    "      \n",
    "   if initial_angle >= obs1_bounds[0] and initial_angle <= obs1_bounds[1]:\n",
    "      code_received = 1\n",
    "   else:\n",
    "      code_received = 0\n",
    "   initial_radians = np.radians((initial_angle % 360))\n",
    "   initial_state = np.floor((initial_radians) / STATE_STEP)\n",
    "   plt.scatter(radius_until*radius*np.cos(initial_radians), radius_until*radius*np.sin(initial_radians),\n",
    "            s=200, marker='.', facecolor='r', edgecolor='k', zorder=4, label=f'State={initial_state}\\nCode={code_received}')\n",
    "\n",
    "   plt.gca().set_aspect('equal', adjustable='box')\n",
    "   plt.xticks([])\n",
    "   plt.yticks([])\n",
    "   GRID_EXTENT = 7\n",
    "   plt.xlim(-GRID_EXTENT, GRID_EXTENT)\n",
    "   plt.ylim(-GRID_EXTENT, GRID_EXTENT)\n",
    "   plt.legend()\n",
    "   plt.show()\n"
   ]
  },
  {
   "cell_type": "code",
   "execution_count": 93,
   "id": "eb09dd6c",
   "metadata": {},
   "outputs": [
    {
     "data": {
      "application/vnd.jupyter.widget-view+json": {
       "model_id": "8b04fd4c589a42a2aefa47c6f1fc7ac9",
       "version_major": 2,
       "version_minor": 0
      },
      "text/plain": [
       "interactive(children=(IntSlider(value=0, description='Initial Angle', layout=Layout(width='600px'), max=360, s…"
      ]
     },
     "metadata": {},
     "output_type": "display_data"
    }
   ],
   "source": [
    "initial_angle_slider = widgets.IntSlider(\n",
    "    value=0,  \n",
    "    min=0,\n",
    "    max=360,\n",
    "    description=\"Initial Angle\",\n",
    "    style={'description_width': 'initial'},\n",
    "    continuous_update=True,\n",
    "    layout=widgets.Layout(width=\"600px\"),\n",
    ")\n",
    "\n",
    "interactive_plot = widgets.interactive(\n",
    "    observe_angle_state_pair, initial_angle=initial_angle_slider)\n",
    "display(interactive_plot)"
   ]
  },
  {
   "cell_type": "code",
   "execution_count": 94,
   "id": "2efb59d0",
   "metadata": {},
   "outputs": [
    {
     "data": {
      "text/plain": [
       "array([[1., 1., 1., 1.],\n",
       "       [0., 0., 0., 0.]])"
      ]
     },
     "execution_count": 94,
     "metadata": {},
     "output_type": "execute_result"
    }
   ],
   "source": [
    "code0_extent_in_states = np.zeros(NUM_STATES) + STATE_STEP\n",
    "code1_extent_in_states = np.zeros(NUM_STATES)\n",
    "\n",
    "prob_code0_in_states = code0_extent_in_states / STATE_STEP\n",
    "prob_code1_in_states = code1_extent_in_states / STATE_STEP\n",
    "\n",
    "EMISSION_MATRIX_B = np.vstack([prob_code0_in_states, prob_code1_in_states])\n",
    "EMISSION_MATRIX_B"
   ]
  },
  {
   "cell_type": "code",
   "execution_count": 95,
   "id": "cbf350b7",
   "metadata": {},
   "outputs": [],
   "source": [
    "max_iter = 500\n",
    "joint_prob_obs_state_t = np.zeros((max_iter, EMISSION_MATRIX_B.shape[0], EMISSION_MATRIX_B.shape[1]))\n",
    "joint_prob_received_obs_state_t = np.zeros((max_iter, EMISSION_MATRIX_B.shape[1]))\n",
    "joint_prob_obs_state_forecast_t = np.zeros((max_iter, EMISSION_MATRIX_B.shape[0], EMISSION_MATRIX_B.shape[1]))\n",
    "angles_visited = np.zeros(max_iter)\n",
    "posterior_t = np.zeros((max_iter, NUM_BELIEFS))\n",
    "current_entropyS_t = np.zeros(max_iter)\n",
    "candidate_steps = np.array([-STATE_STEP, STATE_STEP])\n",
    "expected_forecast_t_S_per_step = np.zeros((max_iter, candidate_steps.shape[0]))\n",
    "deltaS_t = np.zeros((max_iter, candidate_steps.shape[0]))\n",
    "code_received_t = np.zeros(max_iter)\n",
    "\n",
    "time_ind = 0\n",
    "initial_angle = 0"
   ]
  },
  {
   "cell_type": "code",
   "execution_count": 108,
   "id": "f525c75c",
   "metadata": {},
   "outputs": [
    {
     "name": "stdout",
     "output_type": "stream",
     "text": [
      "Current angle: -360.0, Code received: 0.0\n"
     ]
    },
    {
     "data": {
      "image/png": "[encoded data removed]",
      "text/plain": [
       "<Figure size 600x600 with 1 Axes>"
      ]
     },
     "metadata": {},
     "output_type": "display_data"
    },
    {
     "name": "stdout",
     "output_type": "stream",
     "text": [
      "PRINT 1: nan, [0. 0. 0. 0.]\n",
      "PRINT 2: [nan nan], [nan nan]\n",
      "[nan nan], Step to take: -1.5707963267948966, Next angle: -450.0\n"
     ]
    },
    {
     "name": "stderr",
     "output_type": "stream",
     "text": [
      "/var/folders/qj/4txkrxcn2ld7mby9_6n6npnr0000gn/T/ipykernel_26691/4156093078.py:27: RuntimeWarning: invalid value encountered in scalar divide\n",
      "  likelihood_received_obs_from_target_given_obs_sequence = likelihood_received_obs_from_target / joint_prob_received_obs_state_t[time_ind-1].sum()\n",
      "/var/folders/qj/4txkrxcn2ld7mby9_6n6npnr0000gn/T/ipykernel_26691/4156093078.py:41: RuntimeWarning: invalid value encountered in divide\n",
      "  likelihood_obs_from_target_forecast_t_given_received_obs = likelihood_obs_from_target_forecast_t / likelihood_received_obs_from_target\n"
     ]
    }
   ],
   "source": [
    "# while time_ind < max_iter:\n",
    "if time_ind<1:\n",
    "    angles_visited[time_ind] = initial_angle\n",
    "else:\n",
    "    angles_visited[time_ind] = angles_visited[time_ind-1] + np.rad2deg(step_to_take)\n",
    "\n",
    "if (angles_visited[time_ind]%360) >= obs1_bounds[0] and (angles_visited[time_ind]%360) <= obs1_bounds[1]:\n",
    "    code_received_t[time_ind] = 1\n",
    "else:\n",
    "    code_received_t[time_ind] = 0\n",
    "print(f'Current angle: {angles_visited[time_ind]}, Code received: {code_received_t[time_ind]}')\n",
    "observe_angle_state_pair((angles_visited[time_ind]%360))\n",
    "\n",
    "if time_ind<1:\n",
    "    joint_prob_obs_state_t[time_ind] = PRIOR_STATE_PROB * EMISSION_MATRIX_B\n",
    "else:\n",
    "    state_transition_matrix = get_state_transition_matrix(step_to_take)\n",
    "    joint_prob_obs_state_t[time_ind] = (joint_prob_received_obs_state_t[time_ind-1] @ state_transition_matrix) * EMISSION_MATRIX_B\n",
    "\n",
    "joint_prob_received_obs_state_t[time_ind] = joint_prob_obs_state_t[time_ind][int(code_received_t[time_ind])]\n",
    "likelihood_received_obs_from_target = joint_prob_received_obs_state_t[time_ind].sum()\n",
    "\n",
    "if time_ind<1:\n",
    "    likelihood_received_obs = np.array([likelihood_received_obs_from_target, LIKELIHOOD_OBS_FROM_NONTARGET])\n",
    "    posterior_t[time_ind] = (PRIOR_TARGET_PROB*likelihood_received_obs) / (PRIOR_TARGET_PROB*likelihood_received_obs).sum()\n",
    "else:\n",
    "    likelihood_received_obs_from_target_given_obs_sequence = likelihood_received_obs_from_target / joint_prob_received_obs_state_t[time_ind-1].sum()\n",
    "    likelihood_received_obs = np.array([likelihood_received_obs_from_target_given_obs_sequence, LIKELIHOOD_OBS_FROM_NONTARGET])\n",
    "    posterior_t[time_ind] = (posterior_t[time_ind-1]*likelihood_received_obs) / (posterior_t[time_ind-1]*likelihood_received_obs).sum()\n",
    "\n",
    "if 1 in posterior_t[time_ind]:\n",
    "    current_entropyS_t[time_ind] = 0\n",
    "else:\n",
    "    current_entropyS_t[time_ind] = (-posterior_t[time_ind]*np.log2(posterior_t[time_ind])).sum()\n",
    "\n",
    "for i, forecast_t_candidate_step in enumerate(candidate_steps):\n",
    "    state_transition_matrix = get_state_transition_matrix(forecast_t_candidate_step)\n",
    "\n",
    "    joint_prob_obs_state_forecast_t[time_ind] = (joint_prob_received_obs_state_t[time_ind] @ state_transition_matrix) * EMISSION_MATRIX_B\n",
    "    likelihood_obs_from_target_forecast_t = joint_prob_obs_state_forecast_t[time_ind].sum(axis=1)\n",
    "    likelihood_obs_from_target_forecast_t_given_received_obs = likelihood_obs_from_target_forecast_t / likelihood_received_obs_from_target\n",
    "\n",
    "    likelihood_obs0_forecast_t_given_received_obs = np.array([likelihood_obs_from_target_forecast_t_given_received_obs[0], LIKELIHOOD_OBS_FROM_NONTARGET])\n",
    "    posterior_forecast_given_received_obs0 = (posterior_t[time_ind] * likelihood_obs0_forecast_t_given_received_obs) / (posterior_t[time_ind] * likelihood_obs0_forecast_t_given_received_obs).sum()\n",
    "\n",
    "    likelihood_obs1_forecast_t_given_received_obs = np.array([likelihood_obs_from_target_forecast_t_given_received_obs[1], LIKELIHOOD_OBS_FROM_NONTARGET])\n",
    "    posterior_forecast_given_received_obs1 = (posterior_t[time_ind] * likelihood_obs1_forecast_t_given_received_obs) / (posterior_t[time_ind] * likelihood_obs1_forecast_t_given_received_obs).sum()\n",
    "    \n",
    "    if 1 in posterior_forecast_given_received_obs0:\n",
    "        forecasted_S0 = 0\n",
    "    else:\n",
    "        forecasted_S0 = (-posterior_forecast_given_received_obs0 * np.log2(posterior_forecast_given_received_obs0)).sum()\n",
    "\n",
    "    if 1 in posterior_forecast_given_received_obs1:\n",
    "        forecasted_S1 = 0\n",
    "    else:\n",
    "        forecasted_S1 = (-posterior_forecast_given_received_obs1 * np.log2(posterior_forecast_given_received_obs1)).sum()\n",
    "\n",
    "    prob_obs0_at_forecast_t2_given_obs0_at_t1 = (posterior_t[time_ind] * np.array([likelihood_obs_from_target_forecast_t_given_received_obs[0], LIKELIHOOD_OBS_FROM_NONTARGET])).sum()\n",
    "    prob_obs1_at_forecast_t2_given_obs0_at_t1 = (posterior_t[time_ind] * np.array([likelihood_obs_from_target_forecast_t_given_received_obs[1], LIKELIHOOD_OBS_FROM_NONTARGET])).sum()\n",
    "\n",
    "    expected_forecast_t_S = (forecasted_S0 * prob_obs0_at_forecast_t2_given_obs0_at_t1) + (forecasted_S1 * prob_obs1_at_forecast_t2_given_obs0_at_t1)\n",
    "    expected_forecast_t_S_per_step[time_ind, i] = expected_forecast_t_S\n",
    "\n",
    "deltaS_t[time_ind] = current_entropyS_t[time_ind] - expected_forecast_t_S_per_step[time_ind]\n",
    "print(f'PRINT 1: {current_entropyS_t[time_ind]}, {joint_prob_received_obs_state_t[time_ind]}')\n",
    "print(f'PRINT 2: {deltaS_t[time_ind]}, {posterior_t[time_ind]}')\n",
    "\n",
    "step_to_take = candidate_steps[deltaS_t[time_ind].argmax()]\n",
    "print(f'{deltaS_t[time_ind] - (deltaS_t[time_ind].max())}, Step to take: {step_to_take}, Next angle: {angles_visited[time_ind] + np.rad2deg(step_to_take)}')\n",
    "\n",
    "time_ind+=1"
   ]
  },
  {
   "cell_type": "code",
   "execution_count": 109,
   "id": "14f26fe4",
   "metadata": {},
   "outputs": [
    {
     "data": {
      "text/plain": [
       "array([0., 0., 0., 0., 0., 0., 0., 1., 0.])"
      ]
     },
     "execution_count": 109,
     "metadata": {},
     "output_type": "execute_result"
    }
   ],
   "source": [
    "code_received_t[:time_ind]"
   ]
  },
  {
   "cell_type": "code",
   "execution_count": 110,
   "id": "35e22fa5",
   "metadata": {},
   "outputs": [
    {
     "data": {
      "text/plain": [
       "(array([7]), array([9]))"
      ]
     },
     "execution_count": 110,
     "metadata": {},
     "output_type": "execute_result"
    }
   ],
   "source": [
    "inds_where_zeros = np.where(code_received_t[:time_ind]==0)[0]\n",
    "inds_where_change_in_zero = (inds_where_zeros[:-1] - inds_where_zeros[1:]) < -1\n",
    "zeros_after_ones = inds_where_zeros[1:][inds_where_change_in_zero] + 1\n",
    "zeros_before_ones = inds_where_zeros[:-1][inds_where_change_in_zero] + 1\n",
    "zeros_before_ones, zeros_after_ones"
   ]
  },
  {
   "cell_type": "code",
   "execution_count": 111,
   "id": "2d7aa5ae",
   "metadata": {},
   "outputs": [
    {
     "data": {
      "text/plain": [
       "array([0, 1, 2, 3, 4, 5, 6, 8])"
      ]
     },
     "execution_count": 111,
     "metadata": {},
     "output_type": "execute_result"
    }
   ],
   "source": [
    "inds_where_zeros"
   ]
  },
  {
   "cell_type": "code",
   "execution_count": 113,
   "id": "0182ade6",
   "metadata": {},
   "outputs": [
    {
     "data": {
      "image/png": "[encoded data removed]",
      "text/plain": [
       "<Figure size 640x480 with 1 Axes>"
      ]
     },
     "metadata": {},
     "output_type": "display_data"
    }
   ],
   "source": [
    "plt.plot(np.vstack([PRIOR_TARGET_PROB, posterior_t[:time_ind]]), marker='.')\n",
    "plt.axvspan(0, zeros_before_ones[0], alpha=0.2, zorder=1, color='orange')\n",
    "for i in range(zeros_before_ones.shape[0]-1):\n",
    "    plt.axvspan(zeros_after_ones[i], zeros_before_ones[i+1], alpha=0.2, zorder=1, color='orange')\n",
    "    plt.axvspan(zeros_before_ones[i], zeros_after_ones[i], alpha=0.2, zorder=1, color='blue')\n",
    "plt.axvspan(zeros_after_ones[-1], time_ind, alpha=0.2, zorder=1, color='orange')\n",
    "plt.axvspan(zeros_before_ones[-1], zeros_after_ones[-1], alpha=0.2, zorder=1, color='blue')\n",
    "plt.axhline(y=1.0, linestyle='dashed', color='k')\n",
    "plt.show()"
   ]
  },
  {
   "cell_type": "code",
   "execution_count": 164,
   "id": "6934a1ce",
   "metadata": {},
   "outputs": [
    {
     "data": {
      "text/plain": [
       "np.float64(0.9446232142545791)"
      ]
     },
     "execution_count": 164,
     "metadata": {},
     "output_type": "execute_result"
    }
   ],
   "source": [
    "po0 = np.array([3/5, 2/5])\n",
    "po1 = np.array([1/3, 2/3])\n",
    "\n",
    "time1_entropy = ((-1 * np.sum(po0 * np.log2(po0))) + (-1 * np.sum(po1 * np.log2(po1)))) / 2\n",
    "time1_entropy"
   ]
  },
  {
   "cell_type": "code",
   "execution_count": 165,
   "id": "0144eb47",
   "metadata": {},
   "outputs": [
    {
     "data": {
      "text/plain": [
       "np.float64(0.9709505944546686)"
      ]
     },
     "execution_count": 165,
     "metadata": {},
     "output_type": "execute_result"
    }
   ],
   "source": [
    "(-1 * np.sum(po0 * np.log2(po0)))"
   ]
  },
  {
   "cell_type": "code",
   "execution_count": 166,
   "id": "85add8de",
   "metadata": {},
   "outputs": [
    {
     "data": {
      "text/plain": [
       "np.float64(0.9182958340544896)"
      ]
     },
     "execution_count": 166,
     "metadata": {},
     "output_type": "execute_result"
    }
   ],
   "source": [
    "(-1 * np.sum(po1 * np.log2(po1)))"
   ]
  },
  {
   "cell_type": "code",
   "execution_count": 167,
   "id": "d17fe13c",
   "metadata": {},
   "outputs": [
    {
     "data": {
      "text/plain": [
       "np.float64(0.9446232142545791)"
      ]
     },
     "execution_count": 167,
     "metadata": {},
     "output_type": "execute_result"
    }
   ],
   "source": [
    "po0 = np.array([3/5, 2/5])\n",
    "po1 = np.array([1/3, 2/3])\n",
    "\n",
    "((-1 * np.sum(po0 * np.log2(po0))) + (-1 * np.sum(po1 * np.log2(po1)))) / 2"
   ]
  },
  {
   "cell_type": "code",
   "execution_count": null,
   "id": "2057c885",
   "metadata": {},
   "outputs": [
    {
     "data": {
      "text/plain": [
       "np.float64(0.9512050593046015)"
      ]
     },
     "execution_count": 172,
     "metadata": {},
     "output_type": "execute_result"
    }
   ],
   "source": [
    "((-1 * np.sum(po0 * np.log2(po0))) * (5/8)) + ((-1 * np.sum(po1 * np.log2(po1))) * (3/8))"
   ]
  },
  {
   "cell_type": "code",
   "execution_count": 173,
   "id": "424946de",
   "metadata": {},
   "outputs": [
    {
     "data": {
      "text/plain": [
       "np.float64(0.7295739585136224)"
      ]
     },
     "execution_count": 173,
     "metadata": {},
     "output_type": "execute_result"
    }
   ],
   "source": [
    "po0o0 = np.array([2/3, 1/3])\n",
    "po0o1 = np.array([1/2, 1/2])\n",
    "po1o0 = np.array([1/2, 1/2])\n",
    "po1o1 = np.array([1e-120, 1 - 1e-120])\n",
    "\n",
    "with_mem_avg_entropy = ((-1 * np.sum(po0o0 * np.log2(po0o0))) + (-1 * np.sum(po0o1 * np.log2(po0o1))) + (-1 * np.sum(po1o0 * np.log2(po1o0))) + (-1 * np.sum(po1o1 * np.log2(po1o1)))) / 4\n",
    "with_mem_avg_entropy"
   ]
  },
  {
   "cell_type": "code",
   "execution_count": 175,
   "id": "b4104f5e",
   "metadata": {},
   "outputs": [
    {
     "data": {
      "text/plain": [
       "np.float64(0.8443609377704335)"
      ]
     },
     "execution_count": 175,
     "metadata": {},
     "output_type": "execute_result"
    }
   ],
   "source": [
    "((-1 * np.sum(po0o0 * np.log2(po0o0))) * (3/8)) + (1/2)"
   ]
  },
  {
   "cell_type": "code",
   "execution_count": 136,
   "id": "4c5b470b",
   "metadata": {},
   "outputs": [
    {
     "data": {
      "text/plain": [
       "np.float64(0.9182958340544896)"
      ]
     },
     "execution_count": 136,
     "metadata": {},
     "output_type": "execute_result"
    }
   ],
   "source": [
    "(-1 * np.sum(po0o0 * np.log2(po0o0)))"
   ]
  },
  {
   "cell_type": "code",
   "execution_count": 137,
   "id": "80d2b016",
   "metadata": {},
   "outputs": [
    {
     "data": {
      "text/plain": [
       "np.float64(1.0)"
      ]
     },
     "execution_count": 137,
     "metadata": {},
     "output_type": "execute_result"
    }
   ],
   "source": [
    "(-1 * np.sum(po0o1 * np.log2(po0o1)))"
   ]
  },
  {
   "cell_type": "code",
   "execution_count": 138,
   "id": "25f1765b",
   "metadata": {},
   "outputs": [
    {
     "data": {
      "text/plain": [
       "np.float64(3.986313713864835e-118)"
      ]
     },
     "execution_count": 138,
     "metadata": {},
     "output_type": "execute_result"
    }
   ],
   "source": [
    "(-1 * np.sum(po1o1 * np.log2(po1o1)))"
   ]
  },
  {
   "cell_type": "code",
   "execution_count": 177,
   "id": "7f2a7866",
   "metadata": {},
   "outputs": [
    {
     "data": {
      "text/plain": [
       "np.float64(0.8957190017938392)"
      ]
     },
     "execution_count": 177,
     "metadata": {},
     "output_type": "execute_result"
    }
   ],
   "source": [
    "po0o0 = np.array([9/13, 4/13])\n",
    "po0o1 = np.array([3/7, 4/7])\n",
    "po1o0 = np.array([3/7, 4/7])\n",
    "po1o1 = np.array([1/5, 4/5])\n",
    "\n",
    "without_mem_avg_entropy = ((-1 * np.sum(po0o0 * np.log2(po0o0))) + (-1 * np.sum(po0o1 * np.log2(po0o1))) + (-1 * np.sum(po1o0 * np.log2(po1o0))) + (-1 * np.sum(po1o1 * np.log2(po1o1)))) / 4\n",
    "without_mem_avg_entropy"
   ]
  },
  {
   "cell_type": "code",
   "execution_count": 179,
   "id": "7ea26428",
   "metadata": {},
   "outputs": [
    {
     "data": {
      "text/plain": [
       "np.float64(0.8904916402194913)"
      ]
     },
     "execution_count": 179,
     "metadata": {},
     "output_type": "execute_result"
    }
   ],
   "source": [
    "(-1 * np.sum(po0o0 * np.log2(po0o0)))"
   ]
  },
  {
   "cell_type": "code",
   "execution_count": 180,
   "id": "82063f94",
   "metadata": {},
   "outputs": [
    {
     "data": {
      "text/plain": [
       "np.float64(0.9852281360342515)"
      ]
     },
     "execution_count": 180,
     "metadata": {},
     "output_type": "execute_result"
    }
   ],
   "source": [
    "(-1 * np.sum(po0o1 * np.log2(po0o1)))"
   ]
  },
  {
   "cell_type": "code",
   "execution_count": 181,
   "id": "6dc099aa",
   "metadata": {},
   "outputs": [
    {
     "data": {
      "text/plain": [
       "np.float64(0.7219280948873623)"
      ]
     },
     "execution_count": 181,
     "metadata": {},
     "output_type": "execute_result"
    }
   ],
   "source": [
    "(-1 * np.sum(po1o1 * np.log2(po1o1)))"
   ]
  },
  {
   "cell_type": "code",
   "execution_count": 184,
   "id": "62fdc2ce",
   "metadata": {},
   "outputs": [
    {
     "data": {
      "text/plain": [
       "np.float64(0.04560425612429775)"
      ]
     },
     "execution_count": 184,
     "metadata": {},
     "output_type": "execute_result"
    }
   ],
   "source": [
    "(((-1 * np.sum(po0 * np.log2(po0))) * (5/8)) + ((-1 * np.sum(po1 * np.log2(po1))) * (3/8))) - (((5/32)*(-1 * np.sum(po1o1 * np.log2(po1o1)))) + ((7/32)*(-1 * np.sum(po0o1 * np.log2(po0o1)))) + ((7/32)*(-1 * np.sum(po0o1 * np.log2(po0o1)))) + ((13/32)*(-1 * np.sum(po0o0 * np.log2(po0o0)))))"
   ]
  },
  {
   "cell_type": "code",
   "execution_count": 182,
   "id": "95b7a255",
   "metadata": {},
   "outputs": [
    {
     "data": {
      "text/plain": [
       "np.float64(0.9056008031803038)"
      ]
     },
     "execution_count": 182,
     "metadata": {},
     "output_type": "execute_result"
    }
   ],
   "source": [
    "((5/32)*(-1 * np.sum(po1o1 * np.log2(po1o1)))) + ((7/32)*(-1 * np.sum(po0o1 * np.log2(po0o1)))) + ((7/32)*(-1 * np.sum(po0o1 * np.log2(po0o1)))) + ((13/32)*(-1 * np.sum(po0o0 * np.log2(po0o0))))"
   ]
  },
  {
   "cell_type": "code",
   "execution_count": 160,
   "id": "3f80cd51",
   "metadata": {},
   "outputs": [
    {
     "data": {
      "text/plain": [
       "np.float64(0.9446232142545791)"
      ]
     },
     "execution_count": 160,
     "metadata": {},
     "output_type": "execute_result"
    }
   ],
   "source": [
    "time1_entropy"
   ]
  },
  {
   "cell_type": "code",
   "execution_count": 161,
   "id": "ab6a3e24",
   "metadata": {},
   "outputs": [
    {
     "data": {
      "text/plain": [
       "np.float64(0.7295739585136224)"
      ]
     },
     "execution_count": 161,
     "metadata": {},
     "output_type": "execute_result"
    }
   ],
   "source": [
    "with_mem_avg_entropy"
   ]
  },
  {
   "cell_type": "code",
   "execution_count": 162,
   "id": "58c561ee",
   "metadata": {},
   "outputs": [
    {
     "data": {
      "text/plain": [
       "np.float64(0.8957190017938392)"
      ]
     },
     "execution_count": 162,
     "metadata": {},
     "output_type": "execute_result"
    }
   ],
   "source": [
    "without_mem_avg_entropy"
   ]
  },
  {
   "cell_type": "code",
   "execution_count": null,
   "id": "ec92bb92",
   "metadata": {},
   "outputs": [
    {
     "data": {
      "text/plain": [
       "np.float64(0.21504925574095668)"
      ]
     },
     "execution_count": 154,
     "metadata": {},
     "output_type": "execute_result"
    }
   ],
   "source": [
    "time1_entropy - with_mem_avg_entropy"
   ]
  },
  {
   "cell_type": "code",
   "execution_count": 155,
   "id": "5dc575b2",
   "metadata": {},
   "outputs": [
    {
     "data": {
      "text/plain": [
       "np.float64(0.04890421246073984)"
      ]
     },
     "execution_count": 155,
     "metadata": {},
     "output_type": "execute_result"
    }
   ],
   "source": [
    "time1_entropy - without_mem_avg_entropy"
   ]
  }
 ],
 "metadata": {
  "kernelspec": {
   "display_name": "muri-info",
   "language": "python",
   "name": "python3"
  },
  "language_info": {
   "codemirror_mode": {
    "name": "ipython",
    "version": 3
   },
   "file_extension": ".py",
   "mimetype": "text/x-python",
   "name": "python",
   "nbconvert_exporter": "python",
   "pygments_lexer": "ipython3",
   "version": "3.13.5"
  }
 },
 "nbformat": 4,
 "nbformat_minor": 5
}
