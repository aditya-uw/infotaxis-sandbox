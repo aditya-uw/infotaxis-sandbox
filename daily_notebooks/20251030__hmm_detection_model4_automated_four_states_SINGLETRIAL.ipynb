{
 "cells": [
  {
   "cell_type": "code",
   "execution_count": 1,
   "id": "1a1e1e2a",
   "metadata": {},
   "outputs": [],
   "source": [
    "import numpy as np\n",
    "import matplotlib.pyplot as plt\n",
    "\n",
    "import ipywidgets as widgets\n",
    "\n",
    "from IPython.display import display"
   ]
  },
  {
   "cell_type": "code",
   "execution_count": 2,
   "id": "4af19106",
   "metadata": {},
   "outputs": [
    {
     "data": {
      "text/plain": [
       "array([[0.5, 0. , 0.5, 0. ],\n",
       "       [0. , 1. , 0. , 0. ],\n",
       "       [0.5, 0. , 0.5, 1. ]])"
      ]
     },
     "execution_count": 2,
     "metadata": {},
     "output_type": "execute_result"
    }
   ],
   "source": [
    "NUM_STATES = 4\n",
    "NUM_OBSERVATIONS = 3\n",
    "NUM_BELIEFS = 2 # TARGET vs. NON TARGET\n",
    "ANGLE_RANGE = 2*np.pi\n",
    "\n",
    "STATE_STEP = ANGLE_RANGE/NUM_STATES\n",
    "STATE_CENTERS = (np.arange(-STATE_STEP, ANGLE_RANGE, STATE_STEP) + STATE_STEP) % ANGLE_RANGE\n",
    "ANGL_DIST_BETWEEN_STATES = (STATE_CENTERS[np.newaxis, :] - STATE_CENTERS[:, np.newaxis])\n",
    "\n",
    "PRIOR_TARGET_PROB = np.array([1/NUM_BELIEFS, 1-(1/NUM_BELIEFS)])\n",
    "PRIOR_STATE_PROB = np.full(NUM_STATES, 1/NUM_STATES)\n",
    "\n",
    "prob_code0_in_states = np.array([0.5, 0.0, 0.5, 0.0])\n",
    "prob_code1_in_states = np.array([0.0, 1.0, 0.0, 0.0])\n",
    "prob_code2_in_states = np.array([0.5, 0.0, 0.5, 1.0])\n",
    "\n",
    "EMISSION_MATRIX_NONTARGET = np.vstack([prob_code0_in_states, prob_code1_in_states, prob_code2_in_states])\n",
    "EMISSION_MATRIX_NONTARGET"
   ]
  },
  {
   "cell_type": "code",
   "execution_count": 6,
   "id": "3cba523b",
   "metadata": {},
   "outputs": [],
   "source": [
    "obs1_bounds1 = np.array([45, 135])\n",
    "obs1_bounds2 = np.array([225, 315])"
   ]
  },
  {
   "cell_type": "code",
   "execution_count": 7,
   "id": "2117decc",
   "metadata": {},
   "outputs": [],
   "source": [
    "def observe_angle_state_pair(initial_angle):\n",
    "   plt.figure(figsize=(6, 6))\n",
    "   radius = 1\n",
    "   radius_until = 5\n",
    "   pie = np.pi\n",
    "   theta_obs1 = np.linspace(np.radians(obs1_bounds1[0]), np.radians(obs1_bounds1[1]), 30)\n",
    "   x_inner = radius * np.cos(theta_obs1)\n",
    "   y_inner =  radius * np.sin(theta_obs1)\n",
    "   x_poly = np.concatenate([radius_until*x_inner, x_inner[::-1]])\n",
    "   y_poly = np.concatenate([radius_until*y_inner, y_inner[::-1]])\n",
    "   plt.fill(x_poly, y_poly, facecolor='blue', alpha=0.25, linewidth=0)\n",
    "   plt.plot(x_inner, y_inner, color='blue', linewidth=1)\n",
    "\n",
    "   theta_obs1 = np.linspace(np.radians(obs1_bounds2[0]), np.radians(obs1_bounds2[1]), 30)\n",
    "   x_inner = radius * np.cos(theta_obs1)\n",
    "   y_inner =  radius * np.sin(theta_obs1)\n",
    "   x_poly = np.concatenate([radius_until*x_inner, x_inner[::-1]])\n",
    "   y_poly = np.concatenate([radius_until*y_inner, y_inner[::-1]])\n",
    "   plt.fill(x_poly, y_poly, facecolor='purple', alpha=0.25, linewidth=0)\n",
    "   plt.plot(x_inner, y_inner, color='purple', linewidth=1)\n",
    "\n",
    "   theta_obs0 = np.linspace(np.radians(obs1_bounds1[1]), np.radians(obs1_bounds2[0]), 30)\n",
    "   x_inner = radius * np.cos(theta_obs0)\n",
    "   y_inner =  radius * np.sin(theta_obs0)\n",
    "   x_poly = np.concatenate([radius_until*x_inner, x_inner[::-1]])\n",
    "   y_poly = np.concatenate([radius_until*y_inner, y_inner[::-1]])\n",
    "   plt.fill(x_poly, y_poly, facecolor='orange', alpha=0.25, linewidth=0)\n",
    "   plt.plot(x_inner, y_inner, color='orange', linewidth=1)\n",
    "\n",
    "   theta_obs0 = np.linspace(np.radians(obs1_bounds2[1]), np.radians(obs1_bounds1[0])+2*pie, 30)\n",
    "   x_inner = radius * np.cos(theta_obs0)\n",
    "   y_inner =  radius * np.sin(theta_obs0)\n",
    "   x_poly = np.concatenate([radius_until*x_inner, x_inner[::-1]])\n",
    "   y_poly = np.concatenate([radius_until*y_inner, y_inner[::-1]])\n",
    "   plt.fill(x_poly, y_poly, facecolor='orange', alpha=0.25, linewidth=0)\n",
    "   plt.plot(x_inner, y_inner, color='orange', linewidth=1)\n",
    "\n",
    "   for theta in STATE_CENTERS:\n",
    "      r_outer = 4 * radius_until * radius\n",
    "      plt.plot([radius*np.cos(theta), r_outer*np.cos(theta)], \n",
    "               [radius*np.sin(theta), r_outer*np.sin(theta)],\n",
    "                  color='k', linewidth=1.5, solid_capstyle='round', zorder=1)\n",
    "      \n",
    "   if initial_angle > obs1_bounds1[0] and initial_angle < obs1_bounds1[1]:\n",
    "      code_received = 1\n",
    "   elif initial_angle > obs1_bounds2[0] and initial_angle < obs1_bounds2[1]:\n",
    "      code_received = 2\n",
    "   else:\n",
    "      code_received = 0\n",
    "   initial_radians = np.radians((initial_angle % 360))\n",
    "   initial_state = np.floor((initial_radians + (STATE_STEP/2)) / STATE_STEP) % NUM_STATES\n",
    "   plt.scatter(radius_until*radius*np.cos(STATE_CENTERS[int(initial_state)]), radius_until*radius*np.sin(STATE_CENTERS[int(initial_state)]),\n",
    "            s=200, marker='.', facecolor='r', edgecolor='k', zorder=4, label=f'State={initial_state}\\nCode={code_received}')\n",
    "\n",
    "   plt.gca().set_aspect('equal', adjustable='box')\n",
    "   plt.xticks([])\n",
    "   plt.yticks([])\n",
    "   GRID_EXTENT = 7\n",
    "   plt.xlim(-GRID_EXTENT, GRID_EXTENT)\n",
    "   plt.ylim(-GRID_EXTENT, GRID_EXTENT)\n",
    "   plt.legend()\n",
    "   plt.show()\n"
   ]
  },
  {
   "cell_type": "code",
   "execution_count": 8,
   "id": "801b72a5",
   "metadata": {},
   "outputs": [
    {
     "data": {
      "application/vnd.jupyter.widget-view+json": {
       "model_id": "af3c8e639108409ca811b01d301509da",
       "version_major": 2,
       "version_minor": 0
      },
      "text/plain": [
       "interactive(children=(IntSlider(value=0, description='Initial Angle', layout=Layout(width='600px'), max=360, s…"
      ]
     },
     "metadata": {},
     "output_type": "display_data"
    }
   ],
   "source": [
    "initial_angle_slider = widgets.IntSlider(\n",
    "    value=0,  \n",
    "    min=0,\n",
    "    max=360,\n",
    "    description=\"Initial Angle\",\n",
    "    style={'description_width': 'initial'},\n",
    "    continuous_update=True,\n",
    "    layout=widgets.Layout(width=\"600px\"),\n",
    ")\n",
    "\n",
    "interactive_plot = widgets.interactive(\n",
    "    observe_angle_state_pair, initial_angle=initial_angle_slider)\n",
    "display(interactive_plot)"
   ]
  },
  {
   "cell_type": "code",
   "execution_count": 9,
   "id": "62d0ef98",
   "metadata": {},
   "outputs": [
    {
     "data": {
      "text/plain": [
       "(1.5707963267948966, array([0.25, 0.25, 0.25, 0.25]))"
      ]
     },
     "execution_count": 9,
     "metadata": {},
     "output_type": "execute_result"
    }
   ],
   "source": [
    "STATE_STEP, PRIOR_STATE_PROB"
   ]
  },
  {
   "cell_type": "code",
   "execution_count": 10,
   "id": "81e5eb72",
   "metadata": {},
   "outputs": [],
   "source": [
    "def get_stochastic_state_transition_matrix(candidate_step):\n",
    "    if candidate_step>0:\n",
    "        mod_basis = 2*np.pi\n",
    "    else:\n",
    "        mod_basis = -2*np.pi\n",
    "\n",
    "    angular_dist_between_states_in_extent = ANGL_DIST_BETWEEN_STATES % mod_basis\n",
    "    angular_dist_after_action = (angular_dist_between_states_in_extent - candidate_step)\n",
    "    angular_dist_after_action_in_extent = angular_dist_after_action % mod_basis\n",
    "    \n",
    "    sigma = STATE_STEP/2\n",
    "    magnitude = 1 / np.sqrt((2*np.pi) * (sigma**2))\n",
    "    state_transition = magnitude * np.exp(-0.5*((angular_dist_after_action_in_extent/sigma)**2))\n",
    "    state_transition_normed = state_transition / state_transition.sum(axis=1)\n",
    "    return state_transition_normed\n",
    "\n",
    "def get_deterministic_state_transition_matrix(candidate_step):\n",
    "    if candidate_step!=0:\n",
    "        shift = int(candidate_step / STATE_STEP)\n",
    "    else:\n",
    "        shift = 0\n",
    "\n",
    "    state_matrix = np.eye(NUM_STATES)\n",
    "    state_transition_matrix = np.roll(state_matrix, shift, axis=1)\n",
    "    \n",
    "    return state_transition_matrix"
   ]
  },
  {
   "cell_type": "code",
   "execution_count": 11,
   "id": "153dafd4",
   "metadata": {},
   "outputs": [
    {
     "data": {
      "text/plain": [
       "array([[0., 0., 0., 1.],\n",
       "       [1., 0., 0., 0.],\n",
       "       [0., 1., 0., 0.],\n",
       "       [0., 0., 1., 0.]])"
      ]
     },
     "execution_count": 11,
     "metadata": {},
     "output_type": "execute_result"
    }
   ],
   "source": [
    "candidate_step = -STATE_STEP\n",
    "state_transition_matrix = get_deterministic_state_transition_matrix(candidate_step)\n",
    "state_transition_matrix.round(3)"
   ]
  },
  {
   "cell_type": "code",
   "execution_count": 12,
   "id": "9ce06ea6",
   "metadata": {},
   "outputs": [
    {
     "data": {
      "text/plain": [
       "array([[1., 0., 0., 0.],\n",
       "       [0., 1., 0., 0.],\n",
       "       [0., 0., 1., 0.],\n",
       "       [0., 0., 0., 1.]])"
      ]
     },
     "execution_count": 12,
     "metadata": {},
     "output_type": "execute_result"
    }
   ],
   "source": [
    "candidate_step = 0\n",
    "state_transition_matrix = get_deterministic_state_transition_matrix(candidate_step)\n",
    "state_transition_matrix.round(3)"
   ]
  },
  {
   "cell_type": "code",
   "execution_count": 13,
   "id": "766c062c",
   "metadata": {},
   "outputs": [
    {
     "data": {
      "text/plain": [
       "array([[0., 1., 0., 0.],\n",
       "       [0., 0., 1., 0.],\n",
       "       [0., 0., 0., 1.],\n",
       "       [1., 0., 0., 0.]])"
      ]
     },
     "execution_count": 13,
     "metadata": {},
     "output_type": "execute_result"
    }
   ],
   "source": [
    "candidate_step = STATE_STEP\n",
    "state_transition_matrix = get_deterministic_state_transition_matrix(candidate_step)\n",
    "state_transition_matrix.round(3)"
   ]
  },
  {
   "cell_type": "code",
   "execution_count": 14,
   "id": "629dab92",
   "metadata": {},
   "outputs": [],
   "source": [
    "obs1_bounds1 = np.array([45, 135])\n",
    "obs1_bounds2 = np.array([135, 225])"
   ]
  },
  {
   "cell_type": "code",
   "execution_count": 15,
   "id": "eb09dd6c",
   "metadata": {},
   "outputs": [
    {
     "data": {
      "application/vnd.jupyter.widget-view+json": {
       "model_id": "ae527df010d241f5b453e018f7bc6887",
       "version_major": 2,
       "version_minor": 0
      },
      "text/plain": [
       "interactive(children=(IntSlider(value=0, description='Initial Angle', layout=Layout(width='600px'), max=360, s…"
      ]
     },
     "metadata": {},
     "output_type": "display_data"
    }
   ],
   "source": [
    "initial_angle_slider = widgets.IntSlider(\n",
    "    value=0,  \n",
    "    min=0,\n",
    "    max=360,\n",
    "    description=\"Initial Angle\",\n",
    "    style={'description_width': 'initial'},\n",
    "    continuous_update=True,\n",
    "    layout=widgets.Layout(width=\"600px\"),\n",
    ")\n",
    "\n",
    "interactive_plot = widgets.interactive(\n",
    "    observe_angle_state_pair, initial_angle=initial_angle_slider)\n",
    "display(interactive_plot)"
   ]
  },
  {
   "cell_type": "code",
   "execution_count": 16,
   "id": "25e879f8",
   "metadata": {},
   "outputs": [
    {
     "data": {
      "text/plain": [
       "4"
      ]
     },
     "execution_count": 16,
     "metadata": {},
     "output_type": "execute_result"
    }
   ],
   "source": [
    "NUM_STATES"
   ]
  },
  {
   "cell_type": "code",
   "execution_count": 17,
   "id": "2efb59d0",
   "metadata": {},
   "outputs": [
    {
     "data": {
      "text/plain": [
       "array([[0.5, 0. , 0. , 0.5],\n",
       "       [0. , 1. , 0. , 0. ],\n",
       "       [0.5, 0. , 1. , 0.5]])"
      ]
     },
     "execution_count": 17,
     "metadata": {},
     "output_type": "execute_result"
    }
   ],
   "source": [
    "prob_code1_in_states = np.array([0.0, 1.0, 0.0, 0.0])\n",
    "prob_code2_in_states = np.array([0.5, 0.0, 1.0, 0.5])\n",
    "prob_code0_in_states = 1-(prob_code1_in_states+prob_code2_in_states)\n",
    "\n",
    "EMISSION_MATRIX_B = np.vstack([prob_code0_in_states, prob_code1_in_states, prob_code2_in_states])\n",
    "EMISSION_MATRIX_B"
   ]
  },
  {
   "cell_type": "code",
   "execution_count": 100,
   "id": "9639008c",
   "metadata": {},
   "outputs": [
    {
     "name": "stdout",
     "output_type": "stream",
     "text": [
      "Current angle: 0.0, Code received: 0.0\n",
      "P(O1:1,S1|Δθ2:1,T)=[0.125 0.    0.    0.125], P(O1:1|Δθ2:1,T)=0.25, P(S1|O1:1,Δθ2:1,T)=[0.5 0.  0.  0.5], P(T|O1:1,Δθ2:1)=[0.5 0.5], H1=1.00\n",
      "P(O1:1,S1|Δθ2:1,~T)=[0.125 0.    0.125 0.   ], P(O1:1|Δθ2:1,~T)=0.25, P(S1|O1:1,Δθ2:1,~T)=[0.5 0.  0.5 0. ]\n",
      "P(O1|O1:0,Δθ2:0)=[0.25 0.25]\n",
      "If Δθ2=-1.57, P(O1:2,S1|Δθ2:2,T)=\n",
      "[[0.   0.   0.   0.06],\n",
      "[0. 0. 0. 0.],\n",
      "[0.   0.   0.12 0.06]]\n",
      "P(O1:2|Δθ2:2,T)=[0.0625 0.     0.1875]\n",
      "P(O2|O1:1,Δθ2:2,T)=[0.25 0.   0.75]\n",
      "S2=0.125x0.000 + 0.250x0.000 + 0.625x0.971=0.6068441215341679\n",
      "If Δθ2=0.00, P(O1:2,S1|Δθ2:2,T)=\n",
      "[[0.06 0.   0.   0.06],\n",
      "[0. 0. 0. 0.],\n",
      "[0.06 0.   0.   0.06]]\n",
      "P(O1:2|Δθ2:2,T)=[0.125 0.    0.125]\n",
      "P(O2|O1:1,Δθ2:2,T)=[0.5 0.  0.5]\n",
      "S2=0.500x1.000 + 0.000x0.000 + 0.500x1.000=1.0\n",
      "If Δθ2=1.57, P(O1:2,S1|Δθ2:2,T)=\n",
      "[[0.06 0.   0.   0.  ],\n",
      "[0.   0.12 0.   0.  ],\n",
      "[0.06 0.   0.   0.  ]]\n",
      "P(O1:2|Δθ2:2,T)=[0.0625 0.125  0.0625]\n",
      "P(O2|O1:1,Δθ2:2,T)=[0.25 0.5  0.25]\n",
      "S2=0.125x0.000 + 0.500x1.000 + 0.375x0.918=0.8443609377704335\n",
      "S1=1.0, S2=[0.60684412 1.         0.84436094], ΔS1→2=[0.39315588 0.         0.15563906]\n",
      "Choosing according to max ΔS\n",
      "Current angle: -90.0, Code received: 2.0\n",
      "P(O1:2,S2|Δθ2:2,T)=[0.     0.     0.125  0.0625], P(O1:2|Δθ2:2,T)=0.1875, P(S2|O1:2,Δθ2:2,T)=[0.   0.   0.67 0.33], P(T|O1:2,Δθ2:2)=[0.6 0.4], H2=0.97\n",
      "P(O1:2,S2|Δθ2:2,~T)=[0.    0.    0.    0.125], P(O1:2|Δθ2:2,~T)=0.125, P(S2|O1:2,Δθ2:2,~T)=[0. 0. 0. 1.]\n",
      "P(O2|O1:1,Δθ2:1)=[0.75 0.5 ]\n",
      "If Δθ3=-1.57, P(O1:3,S2|Δθ2:3,T)=\n",
      "[[0. 0. 0. 0.],\n",
      "[0.   0.12 0.   0.  ],\n",
      "[0.   0.   0.06 0.  ]]\n",
      "P(O1:3|Δθ2:3,T)=[0.     0.125  0.0625]\n",
      "P(O3|O1:2,Δθ2:3,T)=[0.         0.66666667 0.33333333]\n",
      "S3=0.200x0.000 + 0.400x0.000 + 0.400x1.000=0.4\n",
      "If Δθ3=0.00, P(O1:3,S2|Δθ2:3,T)=\n",
      "[[0.   0.   0.   0.03],\n",
      "[0. 0. 0. 0.],\n",
      "[0.   0.   0.12 0.03]]\n",
      "P(O1:3|Δθ2:3,T)=[0.03125 0.      0.15625]\n",
      "P(O3|O1:2,Δθ2:3,T)=[0.16666667 0.         0.83333333]\n",
      "S3=0.100x0.000 + 0.000x0.000 + 0.900x0.991=0.8919684538544\n",
      "If Δθ3=1.57, P(O1:3,S2|Δθ2:3,T)=\n",
      "[[0.03 0.   0.   0.06],\n",
      "[0. 0. 0. 0.],\n",
      "[0.03 0.   0.   0.06]]\n",
      "P(O1:3|Δθ2:3,T)=[0.09375 0.      0.09375]\n",
      "P(O3|O1:2,Δθ2:3,T)=[0.5 0.  0.5]\n",
      "S3=0.500x0.971 + 0.000x0.000 + 0.500x0.971=0.9709505944546686\n",
      "S2=0.9709505944546686, S3=[0.4        0.89196845 0.97095059], ΔS2→3=[0.57095059 0.07898214 0.        ]\n",
      "Choosing according to max ΔS\n",
      "Current angle: -180.0, Code received: 2.0\n",
      "P(O1:3,S3|Δθ2:3,T)=[0.     0.     0.0625 0.    ], P(O1:3|Δθ2:3,T)=0.0625, P(S3|O1:3,Δθ2:3,T)=[0. 0. 1. 0.], P(T|O1:3,Δθ2:3)=[0.5 0.5], H3=1.00\n",
      "P(O1:3,S3|Δθ2:3,~T)=[0.     0.     0.0625 0.    ], P(O1:3|Δθ2:3,~T)=0.0625, P(S3|O1:3,Δθ2:3,~T)=[0. 0. 1. 0.]\n",
      "P(O3|O1:2,Δθ2:2)=[0.33333333 0.5       ]\n",
      "If Δθ4=-1.57, P(O1:4,S3|Δθ2:4,T)=\n",
      "[[0. 0. 0. 0.],\n",
      "[0.   0.06 0.   0.  ],\n",
      "[0. 0. 0. 0.]]\n",
      "P(O1:4|Δθ2:4,T)=[0.     0.0625 0.    ]\n",
      "P(O4|O1:3,Δθ2:4,T)=[0. 1. 0.]\n",
      "S4=0.000x0.000 + 1.000x1.000 + 0.000x0.000=1.0\n",
      "If Δθ4=0.00, P(O1:4,S3|Δθ2:4,T)=\n",
      "[[0. 0. 0. 0.],\n",
      "[0. 0. 0. 0.],\n",
      "[0.   0.   0.06 0.  ]]\n",
      "P(O1:4|Δθ2:4,T)=[0.     0.     0.0625]\n",
      "P(O4|O1:3,Δθ2:4,T)=[0. 0. 1.]\n",
      "S4=0.250x0.000 + 0.000x0.000 + 0.750x0.918=0.6887218755408672\n",
      "If Δθ4=1.57, P(O1:4,S3|Δθ2:4,T)=\n",
      "[[0.   0.   0.   0.03],\n",
      "[0. 0. 0. 0.],\n",
      "[0.   0.   0.   0.03]]\n",
      "P(O1:4|Δθ2:4,T)=[0.03125 0.      0.03125]\n",
      "P(O4|O1:3,Δθ2:4,T)=[0.5 0.  0.5]\n",
      "S4=0.250x0.000 + 0.000x0.000 + 0.750x0.918=0.6887218755408672\n",
      "S3=1.0, S4=[1.         0.68872188 0.68872188], ΔS3→4=[0.         0.31127812 0.31127812]\n",
      "Choosing randomly between [0.         1.57079633]\n",
      "Current angle: -90.0, Code received: 2.0\n",
      "P(O1:4,S4|Δθ2:4,T)=[0.     0.     0.     0.0312], P(O1:4|Δθ2:4,T)=0.03125, P(S4|O1:4,Δθ2:4,T)=[0. 0. 0. 1.], P(T|O1:4,Δθ2:4)=[0.33333333 0.66666667], H4=0.92\n",
      "P(O1:4,S4|Δθ2:4,~T)=[0.     0.     0.     0.0625], P(O1:4|Δθ2:4,~T)=0.0625, P(S4|O1:4,Δθ2:4,~T)=[0. 0. 0. 1.]\n",
      "P(O4|O1:3,Δθ2:3)=[0.5 1. ]\n",
      "If Δθ5=-1.57, P(O1:5,S4|Δθ2:5,T)=\n",
      "[[0. 0. 0. 0.],\n",
      "[0. 0. 0. 0.],\n",
      "[0.   0.   0.03 0.  ]]\n",
      "P(O1:5|Δθ2:5,T)=[0.      0.      0.03125]\n",
      "P(O5|O1:4,Δθ2:5,T)=[0. 0. 1.]\n",
      "S5=0.333x0.000 + 0.000x0.000 + 0.667x1.000=0.6666666666666666\n",
      "If Δθ5=0.00, P(O1:5,S4|Δθ2:5,T)=\n",
      "[[0.   0.   0.   0.02],\n",
      "[0. 0. 0. 0.],\n",
      "[0.   0.   0.   0.02]]\n",
      "P(O1:5|Δθ2:5,T)=[0.015625 0.       0.015625]\n",
      "P(O5|O1:4,Δθ2:5,T)=[0.5 0.  0.5]\n",
      "S5=0.167x0.000 + 0.000x0.000 + 0.833x0.722=0.6016067457394686\n",
      "If Δθ5=1.57, P(O1:5,S4|Δθ2:5,T)=\n",
      "[[0.02 0.   0.   0.  ],\n",
      "[0. 0. 0. 0.],\n",
      "[0.02 0.   0.   0.  ]]\n",
      "P(O1:5|Δθ2:5,T)=[0.015625 0.       0.015625]\n",
      "P(O5|O1:4,Δθ2:5,T)=[0.5 0.  0.5]\n",
      "S5=0.500x0.918 + 0.000x0.000 + 0.500x0.918=0.9182958340544896\n",
      "S4=0.9182958340544896, S5=[0.66666667 0.60160675 0.91829583], ΔS4→5=[0.25162917 0.31668909 0.        ]\n",
      "Choosing according to max ΔS\n",
      "Current angle: -90.0, Code received: 0.0\n",
      "P(O1:5,S5|Δθ2:5,T)=[0.     0.     0.     0.0156], P(O1:5|Δθ2:5,T)=0.015625, P(S5|O1:5,Δθ2:5,T)=[0. 0. 0. 1.], P(T|O1:5,Δθ2:5)=[1. 0.], H5=0.00\n",
      "DECISION REACHED\n"
     ]
    }
   ],
   "source": [
    "trial_num = 0\n",
    "num_trials = 10\n",
    "max_iter = 50\n",
    "posterior_across_trials = np.zeros((num_trials, max_iter+1, NUM_BELIEFS))\n",
    "angles_visited_across_trials = np.zeros((num_trials, max_iter))\n",
    "steps_taken_across_trials = np.zeros((num_trials, max_iter))\n",
    "time_taken_per_trial = np.zeros(num_trials)\n",
    "codes_received_across_trials = np.zeros((num_trials, max_iter))\n",
    "\n",
    "joint_prob_obs_state_t_from_target = np.zeros((max_iter, EMISSION_MATRIX_B.shape[0], EMISSION_MATRIX_B.shape[1]))\n",
    "joint_prob_received_obs_state_t_from_target = np.zeros((max_iter, EMISSION_MATRIX_B.shape[1]))\n",
    "joint_prob_obs_state_t_from_NONtarget = np.zeros((max_iter, EMISSION_MATRIX_NONTARGET.shape[0], EMISSION_MATRIX_NONTARGET.shape[1]))\n",
    "joint_prob_received_obs_state_t_from_NONtarget = np.zeros((max_iter, EMISSION_MATRIX_NONTARGET.shape[1]))\n",
    "joint_prob_obs_state_forecast_t_fromtarget = np.zeros((max_iter, EMISSION_MATRIX_B.shape[0], EMISSION_MATRIX_B.shape[1]))\n",
    "joint_prob_obs_state_forecast_t_fromNONtarget = np.zeros((max_iter, EMISSION_MATRIX_NONTARGET.shape[0], EMISSION_MATRIX_NONTARGET.shape[1]))\n",
    "likelihood_received_obs_from_target_t = np.zeros(max_iter)\n",
    "likelihood_received_obs_from_NONtarget_t = np.zeros(max_iter)\n",
    "angles_visited = np.zeros(max_iter)\n",
    "steps_taken = np.zeros(max_iter)\n",
    "posterior_t = np.zeros((max_iter, NUM_BELIEFS))\n",
    "current_entropyS_t = np.zeros(max_iter)\n",
    "candidate_steps = np.array([-STATE_STEP, 0, STATE_STEP])\n",
    "expected_forecast_t_S_per_step = np.zeros((max_iter, candidate_steps.shape[0]))\n",
    "deltaS_t = np.zeros((max_iter, candidate_steps.shape[0]))\n",
    "code_received_t = np.zeros(max_iter)\n",
    "\n",
    "time_ind = 0\n",
    "initial_angle = 0\n",
    "stopping_num = 0\n",
    "time_of_first_1=0\n",
    "\n",
    "while time_ind<max_iter and stopping_num < 4:\n",
    "\n",
    "    if time_ind<1:\n",
    "        angles_visited[time_ind] = initial_angle\n",
    "    else:\n",
    "        angles_visited[time_ind] = angles_visited[time_ind-1] + np.rad2deg(step_to_take)\n",
    "\n",
    "    angle_visited_radians = np.radians((angles_visited[time_ind] % 360))\n",
    "    state_visited = np.floor((angle_visited_radians) / STATE_STEP)\n",
    "    code_received_t[time_ind] = np.random.choice(np.arange(NUM_OBSERVATIONS), p=EMISSION_MATRIX_B[:,int(state_visited)])\n",
    "    print(f'Current angle: {angles_visited[time_ind]}, Code received: {code_received_t[time_ind]}')\n",
    "\n",
    "    if time_ind<1:\n",
    "        joint_prob_obs_state_t_from_target[time_ind] = PRIOR_STATE_PROB * EMISSION_MATRIX_B\n",
    "        joint_prob_obs_state_t_from_NONtarget[time_ind] = PRIOR_STATE_PROB * EMISSION_MATRIX_NONTARGET\n",
    "    else:\n",
    "        state_transition_matrix = get_deterministic_state_transition_matrix(step_to_take)\n",
    "        joint_prob_obs_state_t_from_target[time_ind] = (joint_prob_received_obs_state_t_from_target[time_ind-1] @ state_transition_matrix) * EMISSION_MATRIX_B\n",
    "        joint_prob_obs_state_t_from_NONtarget[time_ind] = (joint_prob_received_obs_state_t_from_NONtarget[time_ind-1] @ state_transition_matrix) * EMISSION_MATRIX_NONTARGET\n",
    "\n",
    "    joint_prob_received_obs_state_t_from_target[time_ind] = joint_prob_obs_state_t_from_target[time_ind][int(code_received_t[time_ind])]\n",
    "    likelihood_received_obs_from_target_t[time_ind] = joint_prob_received_obs_state_t_from_target[time_ind].sum()\n",
    "\n",
    "    joint_prob_received_obs_state_t_from_NONtarget[time_ind] = joint_prob_obs_state_t_from_NONtarget[time_ind][int(code_received_t[time_ind])]\n",
    "    likelihood_received_obs_from_NONtarget_t[time_ind] = joint_prob_received_obs_state_t_from_NONtarget[time_ind].sum()\n",
    "\n",
    "    if time_ind<1:\n",
    "        likelihood_received_obs = np.array([likelihood_received_obs_from_target_t[time_ind], likelihood_received_obs_from_NONtarget_t[time_ind]])\n",
    "        posterior_t[time_ind] = (PRIOR_TARGET_PROB*likelihood_received_obs) / (PRIOR_TARGET_PROB*likelihood_received_obs).sum()\n",
    "    else:\n",
    "        likelihood_received_obs_from_target_given_obs_sequence = likelihood_received_obs_from_target_t[time_ind] / likelihood_received_obs_from_target_t[time_ind-1]\n",
    "        likelihood_received_obs_from_NONtarget_given_obs_sequence = likelihood_received_obs_from_NONtarget_t[time_ind] / likelihood_received_obs_from_NONtarget_t[time_ind-1]\n",
    "        likelihood_received_obs = np.array([likelihood_received_obs_from_target_given_obs_sequence, likelihood_received_obs_from_NONtarget_given_obs_sequence])\n",
    "        posterior_t[time_ind] = (posterior_t[time_ind-1]*likelihood_received_obs) / (posterior_t[time_ind-1]*likelihood_received_obs).sum()\n",
    "\n",
    "    if 1 in posterior_t[time_ind]:\n",
    "        current_entropyS_t[time_ind] = 0\n",
    "    else:\n",
    "        current_entropyS_t[time_ind] = (-posterior_t[time_ind]*np.log2(posterior_t[time_ind])).sum()\n",
    "\n",
    "    if int(time_ind+1)>1:\n",
    "        print(f\"P(O1:{int(time_ind+1)},S{int(time_ind+1)}|Δθ2:{int(time_ind+1)},T)={joint_prob_received_obs_state_t_from_target[time_ind].round(4)}, P(O1:{int(time_ind+1)}|Δθ2:{int(time_ind+1)},T)={likelihood_received_obs_from_target_t[time_ind]}, P(S{int(time_ind+1)}|O1:{int(time_ind+1)},Δθ2:{int(time_ind+1)},T)={(joint_prob_received_obs_state_t_from_target[time_ind]/likelihood_received_obs_from_target_t[time_ind]).round(2)}, P(T|O1:{int(time_ind+1)},Δθ2:{int(time_ind+1)})={posterior_t[time_ind]}, H{int(time_ind+1)}={current_entropyS_t[time_ind]:.2f}\")\n",
    "    else:\n",
    "        print(f\"P(O1:{int(time_ind+1)},S{int(time_ind+1)}|Δθ2:{int(time_ind+1)},T)={joint_prob_received_obs_state_t_from_target[time_ind].round(4)}, P(O1:{int(time_ind+1)}|Δθ2:{int(time_ind+1)},T)={likelihood_received_obs_from_target_t[time_ind]}, P(S{int(time_ind+1)}|O1:{int(time_ind+1)},Δθ2:{int(time_ind+1)},T)={(joint_prob_received_obs_state_t_from_target[time_ind]/likelihood_received_obs_from_target_t[time_ind]).round(2)}, P(T|O1:{int(time_ind+1)},Δθ2:{int(time_ind+1)})={posterior_t[time_ind]}, H{int(time_ind+1)}={current_entropyS_t[time_ind]:.2f}\")\n",
    "\n",
    "    if np.isclose(posterior_t[time_ind], 1).any():\n",
    "        print('DECISION REACHED')\n",
    "        time_ind+=1\n",
    "        break\n",
    "    \n",
    "    if int(time_ind+1)>1:\n",
    "        print(f\"P(O1:{int(time_ind+1)},S{int(time_ind+1)}|Δθ2:{int(time_ind+1)},~T)={joint_prob_received_obs_state_t_from_NONtarget[time_ind].round(4)}, P(O1:{int(time_ind+1)}|Δθ2:{int(time_ind+1)},~T)={likelihood_received_obs_from_NONtarget_t[time_ind]}, P(S{int(time_ind+1)}|O1:{int(time_ind+1)},Δθ2:{int(time_ind+1)},~T)={(joint_prob_received_obs_state_t_from_NONtarget[time_ind]/likelihood_received_obs_from_NONtarget_t[time_ind]).round(2)}\")\n",
    "    else:\n",
    "        print(f\"P(O1:{int(time_ind+1)},S{int(time_ind+1)}|Δθ2:{int(time_ind+1)},~T)={joint_prob_received_obs_state_t_from_NONtarget[time_ind].round(4)}, P(O1:{int(time_ind+1)}|Δθ2:{int(time_ind+1)},~T)={likelihood_received_obs_from_NONtarget_t[time_ind]}, P(S{int(time_ind+1)}|O1:{int(time_ind+1)},Δθ2:{int(time_ind+1)},~T)={(joint_prob_received_obs_state_t_from_NONtarget[time_ind]/likelihood_received_obs_from_NONtarget_t[time_ind]).round(2)}\")\n",
    "\n",
    "    print(f'P(O{int(time_ind+1)}|O1:{int(time_ind)},Δθ2:{int(time_ind)})={likelihood_received_obs}')\n",
    "\n",
    "\n",
    "    for i, forecast_t_candidate_step in enumerate(candidate_steps):\n",
    "        state_transition_matrix = (get_deterministic_state_transition_matrix(forecast_t_candidate_step))\n",
    "\n",
    "        joint_prob_obs_state_forecast_t_fromtarget[time_ind] = (joint_prob_received_obs_state_t_from_target[time_ind] @ state_transition_matrix) * EMISSION_MATRIX_B\n",
    "        likelihood_obs_from_target_forecast_t_fromtarget = joint_prob_obs_state_forecast_t_fromtarget[time_ind].sum(axis=1)\n",
    "        likelihood_obs_from_target_forecast_t_given_received_obs_fromtarget = likelihood_obs_from_target_forecast_t_fromtarget / likelihood_received_obs_from_target_t[time_ind]\n",
    "        print(f'If Δθ{int(time_ind+2)}={forecast_t_candidate_step:.2f}, P(O1:{int(time_ind+2)},S{int(time_ind+1)}|Δθ2:{int(time_ind+2)},T)=\\n[{joint_prob_obs_state_forecast_t_fromtarget[time_ind][0].round(2)},\\n{joint_prob_obs_state_forecast_t_fromtarget[time_ind][1].round(2)},\\n{joint_prob_obs_state_forecast_t_fromtarget[time_ind][2].round(2)}]')\n",
    "        print(f'P(O1:{int(time_ind+2)}|Δθ2:{int(time_ind+2)},T)={likelihood_obs_from_target_forecast_t_fromtarget}')\n",
    "        print(f'P(O{int(time_ind+2)}|O1:{int(time_ind+1)},Δθ2:{int(time_ind+2)},T)={likelihood_obs_from_target_forecast_t_given_received_obs_fromtarget}')\n",
    "\n",
    "        joint_prob_obs_state_forecast_t_fromNONtarget[time_ind] = (joint_prob_received_obs_state_t_from_NONtarget[time_ind] @ state_transition_matrix) * EMISSION_MATRIX_NONTARGET\n",
    "        likelihood_obs_from_target_forecast_t_fromNONtarget = joint_prob_obs_state_forecast_t_fromNONtarget[time_ind].sum(axis=1)\n",
    "        likelihood_obs_from_target_forecast_t_given_received_obs_fromNONtarget = likelihood_obs_from_target_forecast_t_fromNONtarget / likelihood_received_obs_from_NONtarget_t[time_ind]\n",
    "\n",
    "        forecasted_S = np.zeros(NUM_OBSERVATIONS)\n",
    "        prob_obs_at_forecast_t2_given_obs_at_t1 = np.zeros(NUM_OBSERVATIONS)\n",
    "        posterior_forecast_given_received_obs = np.zeros((NUM_OBSERVATIONS, NUM_BELIEFS))\n",
    "        for obs in range(NUM_OBSERVATIONS):\n",
    "            likelihood_obs_forecast_t_given_received_obs = np.array([likelihood_obs_from_target_forecast_t_given_received_obs_fromtarget[obs], likelihood_obs_from_target_forecast_t_given_received_obs_fromNONtarget[obs]])\n",
    "            if (posterior_t[time_ind] * likelihood_obs_forecast_t_given_received_obs).sum() > 0:\n",
    "                posterior_forecast_given_received_obs[obs] = (posterior_t[time_ind] * likelihood_obs_forecast_t_given_received_obs) / (posterior_t[time_ind] * likelihood_obs_forecast_t_given_received_obs).sum()\n",
    "            else:\n",
    "                posterior_forecast_given_received_obs[obs] = np.array([0, 1])\n",
    "            if 0 in posterior_forecast_given_received_obs[obs]:\n",
    "                forecasted_S[obs] = 0\n",
    "            else:\n",
    "                forecasted_S[obs] = (-posterior_forecast_given_received_obs[obs] * np.log2(posterior_forecast_given_received_obs[obs])).sum()\n",
    "            prob_obs_at_forecast_t2_given_obs_at_t1[obs] = (posterior_t[time_ind] * likelihood_obs_forecast_t_given_received_obs).sum()\n",
    "\n",
    "        expected_forecast_t_S = (forecasted_S * prob_obs_at_forecast_t2_given_obs_at_t1).sum()\n",
    "        print(f'S{int(time_ind+2)}={prob_obs_at_forecast_t2_given_obs_at_t1[0]:.3f}x{forecasted_S[0]:.3f} + {prob_obs_at_forecast_t2_given_obs_at_t1[1]:.3f}x{forecasted_S[1]:.3f} + {prob_obs_at_forecast_t2_given_obs_at_t1[2]:.3f}x{forecasted_S[2]:.3f}={expected_forecast_t_S}')\n",
    "        expected_forecast_t_S_per_step[time_ind, i] = expected_forecast_t_S\n",
    "\n",
    "    deltaS_t[time_ind] = current_entropyS_t[time_ind] - expected_forecast_t_S_per_step[time_ind]\n",
    "    print(f'S{int(time_ind+1)}={current_entropyS_t[time_ind]}, S{int(time_ind+2)}={expected_forecast_t_S_per_step[time_ind]}, ΔS{int(time_ind+1)}→{int(time_ind+2)}={deltaS_t[time_ind]}')\n",
    "\n",
    "    unique, counts = np.unique(deltaS_t[time_ind], return_counts=True)\n",
    "    frequent_cond = counts>1\n",
    "    unique_frequent_delta_S = unique[frequent_cond]\n",
    "    if (counts[unique==deltaS_t[time_ind].max()]==1).all():\n",
    "        print('Choosing according to max ΔS')\n",
    "        step_to_take = candidate_steps[deltaS_t[time_ind].argmax()]\n",
    "    else:\n",
    "        if deltaS_t[time_ind].sum()>0:\n",
    "            print(f'Choosing randomly between {candidate_steps[np.where(deltaS_t[time_ind]==unique_frequent_delta_S.max())[0]]}')\n",
    "            step_to_take = candidate_steps[np.random.choice(np.where(deltaS_t[time_ind]==unique_frequent_delta_S.max())[0])]\n",
    "        else:\n",
    "            step_to_take = 0\n",
    "    steps_taken[time_ind] = step_to_take\n",
    "\n",
    "    time_ind+=1\n",
    "\n",
    "posterior_across_trials[trial_num,:time_ind,:] = posterior_t[:time_ind]\n",
    "steps_taken_across_trials[trial_num,          :] = steps_taken\n",
    "angles_visited_across_trials[trial_num,       :] = angles_visited\n",
    "codes_received_across_trials[trial_num,       :] = code_received_t\n",
    "time_taken_per_trial[trial_num] = time_ind"
   ]
  },
  {
   "cell_type": "code",
   "execution_count": 105,
   "id": "162a8afb",
   "metadata": {},
   "outputs": [
    {
     "data": {
      "text/plain": [
       "np.float64(5.0)"
      ]
     },
     "execution_count": 105,
     "metadata": {},
     "output_type": "execute_result"
    }
   ],
   "source": [
    "time_taken_per_trial[0]"
   ]
  },
  {
   "cell_type": "code",
   "execution_count": 106,
   "id": "e35667a6",
   "metadata": {},
   "outputs": [
    {
     "data": {
      "text/plain": [
       "array([[0.5       , 0.5       ],\n",
       "       [0.6       , 0.4       ],\n",
       "       [0.5       , 0.5       ],\n",
       "       [0.33333333, 0.66666667],\n",
       "       [1.        , 0.        ]])"
      ]
     },
     "execution_count": 106,
     "metadata": {},
     "output_type": "execute_result"
    }
   ],
   "source": [
    "posterior_across_trials[0,:5]"
   ]
  },
  {
   "cell_type": "code",
   "execution_count": 101,
   "id": "9296777f",
   "metadata": {},
   "outputs": [],
   "source": [
    "import matplotlib.animation as animation\n",
    "from pathlib import Path"
   ]
  },
  {
   "cell_type": "code",
   "execution_count": 108,
   "id": "6079ec7d",
   "metadata": {},
   "outputs": [
    {
     "data": {
      "image/png": "[encoded data removed]",
      "text/plain": [
       "<Figure size 1200x600 with 2 Axes>"
      ]
     },
     "metadata": {},
     "output_type": "display_data"
    }
   ],
   "source": [
    "trial_num = 0\n",
    "num_trials = 10\n",
    "\n",
    "fig, ax = plt.subplots(1, 2, figsize=(12,6))\n",
    "def update(time_ind):\n",
    "    ax_grid = ax[0]\n",
    "    ax_diffusion = ax[1]\n",
    "    ax_grid.cla()\n",
    "    ax_diffusion.cla()\n",
    "\n",
    "    radius = 1\n",
    "    radius_until = 5\n",
    "    pie = np.pi\n",
    "    theta_obs1 = np.linspace(np.radians(obs1_bounds1[0]), np.radians(obs1_bounds1[1]), 30)\n",
    "    x_inner = radius * np.cos(theta_obs1)\n",
    "    y_inner =  radius * np.sin(theta_obs1)\n",
    "    x_poly = np.concatenate([radius_until*x_inner, x_inner[::-1]])\n",
    "    y_poly = np.concatenate([radius_until*y_inner, y_inner[::-1]])\n",
    "    ax_grid.fill(x_poly, y_poly, facecolor='blue', alpha=0.25, linewidth=0)\n",
    "    ax_grid.plot(x_inner, y_inner, color='blue', linewidth=1)\n",
    "\n",
    "    theta_obs1 = np.linspace(np.radians(obs1_bounds2[0]), np.radians(obs1_bounds2[1]), 30)\n",
    "    x_inner = radius * np.cos(theta_obs1)\n",
    "    y_inner =  radius * np.sin(theta_obs1)\n",
    "    x_poly = np.concatenate([radius_until*x_inner, x_inner[::-1]])\n",
    "    y_poly = np.concatenate([radius_until*y_inner, y_inner[::-1]])\n",
    "    ax_grid.fill(x_poly, y_poly, facecolor='purple', alpha=0.25, linewidth=0)\n",
    "    ax_grid.plot(x_inner, y_inner, color='purple', linewidth=1)\n",
    "\n",
    "    theta_obs0 = np.linspace(np.radians(obs1_bounds1[1]), np.radians(obs1_bounds2[0]), 30)\n",
    "    x_inner = radius * np.cos(theta_obs0)\n",
    "    y_inner =  radius * np.sin(theta_obs0)\n",
    "    x_poly = np.concatenate([radius_until*x_inner, x_inner[::-1]])\n",
    "    y_poly = np.concatenate([radius_until*y_inner, y_inner[::-1]])\n",
    "    ax_grid.fill(x_poly, y_poly, facecolor='orange', alpha=0.25, linewidth=0)\n",
    "    ax_grid.plot(x_inner, y_inner, color='orange', linewidth=1)\n",
    "\n",
    "    theta_obs0 = np.linspace(np.radians(obs1_bounds2[1]), np.radians(obs1_bounds1[0])+2*pie, 30)\n",
    "    x_inner = radius * np.cos(theta_obs0)\n",
    "    y_inner =  radius * np.sin(theta_obs0)\n",
    "    x_poly = np.concatenate([radius_until*x_inner, x_inner[::-1]])\n",
    "    y_poly = np.concatenate([radius_until*y_inner, y_inner[::-1]])\n",
    "    ax_grid.fill(x_poly, y_poly, facecolor='orange', alpha=0.25, linewidth=0)\n",
    "    ax_grid.plot(x_inner, y_inner, color='orange', linewidth=1)\n",
    "\n",
    "    for theta in STATE_CENTERS:\n",
    "        r_outer = 4 * radius_until * radius\n",
    "        ax_grid.plot([radius*np.cos(theta), r_outer*np.cos(theta)], \n",
    "                [radius*np.sin(theta), r_outer*np.sin(theta)],\n",
    "                    color='k', linewidth=1.5, solid_capstyle='round', zorder=1)\n",
    "        \n",
    "    current_angle = (angles_visited_across_trials[min(trial_num, num_trials-1), time_ind]%360)\n",
    "    code_received = codes_received_across_trials[min(trial_num, num_trials-1), time_ind]\n",
    "    initial_radians = np.radians(current_angle)\n",
    "    initial_state = np.floor((initial_radians) / STATE_STEP)\n",
    "    ax_grid.scatter(radius_until*radius*np.cos(initial_radians), radius_until*radius*np.sin(initial_radians),\n",
    "            s=200, marker='.', facecolor='r', edgecolor='k', zorder=4, label=f'State={initial_state}\\nCode received={code_received}\\nt={time_ind}')\n",
    "    \n",
    "    ax_grid.set_aspect('equal', adjustable='box')\n",
    "    ax_grid.set_xticks([])\n",
    "    ax_grid.set_yticks([])\n",
    "    ax_grid.set_ylabel('Y coordinates')\n",
    "    ax_grid.set_xlabel('X coordinates')\n",
    "    GRID_EXTENT = 7\n",
    "    ax_grid.set_xlim(-GRID_EXTENT, GRID_EXTENT)\n",
    "    ax_grid.set_ylim(-GRID_EXTENT, GRID_EXTENT)\n",
    "    ax_grid.legend()\n",
    "\n",
    "    for i in range(NUM_BELIEFS):\n",
    "        if i == 0:\n",
    "            class_name = 'target'\n",
    "        else:\n",
    "            class_name = 'non-target'\n",
    "        ax_diffusion.plot(posterior_across_trials[min(trial_num, num_trials-1), :time_ind+1][:,i], marker='.', label=f'Class {class_name}')\n",
    "    ax_diffusion.axhline(y=1.0, linestyle='dashed', color='k')\n",
    "    ax_diffusion.set_xlim(0, time_taken_per_trial[min(trial_num, num_trials-1)]+1)\n",
    "    ax_diffusion.set_ylim(0, 1.05)\n",
    "    ax_diffusion.set_xticks(np.arange(time_taken_per_trial[min(trial_num, num_trials-1)]+2).astype(int))\n",
    "    ax_diffusion.set_ylabel('Class probability')\n",
    "    ax_diffusion.set_xlabel('Time index (k)')\n",
    "    ax_diffusion.legend()\n",
    "\n",
    "ani = animation.FuncAnimation(fig=fig, func=update, frames=int(time_taken_per_trial[min(trial_num, num_trials-1)]), interval=600)\n",
    "ani.save('test.gif')"
   ]
  },
  {
   "cell_type": "code",
   "execution_count": null,
   "id": "d507955e",
   "metadata": {},
   "outputs": [],
   "source": []
  }
 ],
 "metadata": {
  "kernelspec": {
   "display_name": "muri-info",
   "language": "python",
   "name": "python3"
  },
  "language_info": {
   "codemirror_mode": {
    "name": "ipython",
    "version": 3
   },
   "file_extension": ".py",
   "mimetype": "text/x-python",
   "name": "python",
   "nbconvert_exporter": "python",
   "pygments_lexer": "ipython3",
   "version": "3.13.5"
  }
 },
 "nbformat": 4,
 "nbformat_minor": 5
}
