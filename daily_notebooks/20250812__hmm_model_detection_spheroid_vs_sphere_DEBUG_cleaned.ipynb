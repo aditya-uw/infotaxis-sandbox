{
 "cells": [
  {
   "cell_type": "markdown",
   "id": "fbdb7e22",
   "metadata": {},
   "source": [
    "# Notebook to develop HMM model to investigate optimal angle selection"
   ]
  },
  {
   "cell_type": "markdown",
   "id": "4e9d014a",
   "metadata": {},
   "source": [
    "## Defining the targets we will be using in our multiaspect classification model"
   ]
  },
  {
   "cell_type": "code",
   "execution_count": 41,
   "id": "67841ad2",
   "metadata": {},
   "outputs": [],
   "source": [
    "import numpy as np\n",
    "import matplotlib.pyplot as plt\n",
    "import matplotlib.patches as patches\n",
    "import matplotlib.gridspec as gridspec\n",
    "\n",
    "from scipy.special import spherical_jn, spherical_yn\n",
    "\n",
    "import ipywidgets as widgets\n",
    "from IPython.display import display\n",
    "\n",
    "from sklearn.cluster import KMeans\n",
    "import seaborn as sns\n",
    "import pandas as pd"
   ]
  },
  {
   "cell_type": "markdown",
   "id": "757d8fb9",
   "metadata": {},
   "source": [
    "## Below is the analytical DWBA solution for a prolate spheroid geometry"
   ]
  },
  {
   "cell_type": "code",
   "execution_count": 42,
   "id": "05125d76",
   "metadata": {},
   "outputs": [],
   "source": [
    "def dwba_prolate_spheroid(L, a, g, h, ka, phi):\n",
    "    \"\"\"\n",
    "    DWBA solution for a fluid prolate spheroid.\n",
    "    Lee, W.-J., Lavery, A. C., and Stanton, T. K. (2012). \n",
    "    “Orientation dependence of broadband acoustic backscattering from live squid,” \n",
    "    The Journal of the Acoustical Society of America, 131, 4461–4475. doi:10.1121/1.3701876\n",
    "    \n",
    "    Parameters\n",
    "    ----------\n",
    "    L : float\n",
    "        Length of spheroid (long axis) [m]\n",
    "    a : float\n",
    "        Radius of spheroid (short axis) [m]\n",
    "    g : float\n",
    "        Density contrast (rho2/rho1)\n",
    "    h : float\n",
    "        Sound speed contrast (c2/c1)\n",
    "    ka : array_like\n",
    "        Dimensionless ka (wavenumber * radius)\n",
    "    phi : float or array_like\n",
    "        Incident angle [radians]\n",
    "\n",
    "    Returns\n",
    "    -------\n",
    "    fbs : array_like\n",
    "        Complex backscattering amplitude\n",
    "    \"\"\"\n",
    "    # Convert inputs to arrays and ensure proper broadcasting\n",
    "    ka = np.atleast_1d(ka)\n",
    "    phi = np.atleast_1d(phi)\n",
    "\n",
    "    # Calculate contrast term\n",
    "    contrast = 1/(g * h**2) + 1/g - 2\n",
    "    \n",
    "    # Convert incident angle to beta\n",
    "    beta = phi[..., np.newaxis] + np.pi / 2  # Add dimension for broadcasting with ka\n",
    "    # beta = phi + np.pi/2\n",
    "    \n",
    "    # Calculate aspect ratio term (L/2a)\n",
    "    aspect_ratio = L / (2 * a)\n",
    "\n",
    "    # Calculate argument for Bessel function\n",
    "    ellip_term = np.sqrt(np.sin(beta)**2 + (aspect_ratio**2) * np.cos(beta)**2)\n",
    "    bessel_arg = 2 * ka / h * ellip_term\n",
    "    \n",
    "    # Calculate spherical Bessel function\n",
    "    j1 = spherical_jn(1, bessel_arg)\n",
    "    \n",
    "    # Calculate final backscattering amplitude\n",
    "    fbs = (ka**2) * L * contrast/2 * j1/bessel_arg\n",
    "\n",
    "    return fbs.squeeze()"
   ]
  },
  {
   "cell_type": "markdown",
   "id": "e4368833",
   "metadata": {},
   "source": [
    "## Defining the measurement and target constants"
   ]
  },
  {
   "cell_type": "code",
   "execution_count": 43,
   "id": "8f55513f",
   "metadata": {},
   "outputs": [],
   "source": [
    "a = 0.15 # semi-minor axis (equatorial radius)\n",
    "g = 1.043 # density contrast\n",
    "h = 1.053 # sound speed contrast\n",
    "c = 1500 # speed of sound in water\n",
    "\n",
    "freq_lowerbound = 100 # frequency response lower bound\n",
    "freq_upperbound = 30e3 # frequency response upper bound\n",
    "freq = np.arange(freq_lowerbound, freq_upperbound, 10)\n",
    "k = 2*np.pi*freq / c # acoustic wavenumber (phase shift per meter)\n",
    "ka = k*a"
   ]
  },
  {
   "cell_type": "markdown",
   "id": "bc9849d8",
   "metadata": {},
   "source": [
    "## Define constants that come before any testing trial has started"
   ]
  },
  {
   "cell_type": "code",
   "execution_count": 44,
   "id": "72845498",
   "metadata": {},
   "outputs": [],
   "source": [
    "# CONSTANTS RELATING TO MAX ITERATIONS \n",
    "max_iter = 100\n",
    "t = 0\n",
    "\n",
    "# CONSTANTS DEFINING DETECTION CONFIDENCE AND AGENT OPTIONS\n",
    "cumulative_likelihood = 0\n",
    "candidate_angle_steps = np.array([-5, 5])\n",
    "\n",
    "## DEFINE STATE CENTERS\n",
    "state_angle_step = 5\n",
    "last_state = 90\n",
    "first_state = -90\n",
    "state_centers = np.arange(-last_state, last_state, state_angle_step) + (state_angle_step / 2)\n",
    "alpha_states_for_received_code = np.zeros((max_iter+1, state_centers.shape[0]))\n",
    "\n",
    "# BUILD TRAINING DATASET USING DISTORED WAVE BORN APPROXIMATION FROM PROLATE SPHEROID OF ASPECT RATIO = 1\n",
    "trained_target_AR = 1.5\n",
    "\n",
    "measurement_angle_step = 0.5\n",
    "angle_all = np.arange(first_state, last_state+measurement_angle_step, measurement_angle_step)\n",
    "L = trained_target_AR * 2*a\n",
    "phi_all = np.deg2rad(angle_all)\n",
    "fbs_full = dwba_prolate_spheroid(L, a, g, h, ka, phi_all)\n",
    "TS_standard = 20*np.log10(np.abs(fbs_full))\n",
    "\n",
    "# PERFORM VECTOR QUANTIZATION ON WAVEFORMS MEASURED FROM TRAINING TARGET TO BUILD CODEBOOK\n",
    "k = TS_standard.shape[0]//30\n",
    "state = 1500\n",
    "kmean_TS_codebook = KMeans(n_clusters=k, n_init=10, random_state=state).fit(TS_standard)\n",
    "labels = kmean_TS_codebook.labels_\n",
    "\n",
    "## DEVELOP EMISSION MATRIX FOR TRAINED MODEL\n",
    "emission_matrix_B = np.zeros((state_centers.shape[0], kmean_TS_codebook.n_clusters))\n",
    "for i, state_center in enumerate(state_centers):\n",
    "    angle_indices_for_state = np.where((state_center-(state_angle_step/2)<=angle_all)&(angle_all<state_center+(state_angle_step/2)))[0]\n",
    "    TS_state_target_k = TS_standard[angle_indices_for_state,:]\n",
    "    target_k_state_cluster_preds = kmean_TS_codebook.predict(TS_state_target_k)\n",
    "\n",
    "    density, clusters = np.histogram(target_k_state_cluster_preds, bins=np.arange(0, kmean_TS_codebook.n_clusters+1), density=True)\n",
    "    emission_matrix_B[i, :] = density\n",
    "assert (emission_matrix_B.sum(axis=1) == np.ones(state_centers.shape[0])).all()\n",
    "\n",
    "## DEFINE (UNKNOWN) INITIAL STATE AND (KNOWN) PROBABILITY OF BEING IN ANY INITIAL STATE\n",
    "initial_state_prob = state_angle_step / (last_state - first_state)\n",
    "current_state = 45\n",
    "true_target_AR = 1.5\n",
    "true_target_L = true_target_AR * 2*a"
   ]
  },
  {
   "cell_type": "code",
   "execution_count": 45,
   "id": "2b76b1a3",
   "metadata": {},
   "outputs": [
    {
     "data": {
      "text/plain": [
       "array([-90., -75., -60., -45., -30., -15.,   0.,  15.,  30.,  45.,  60.,\n",
       "        75.])"
      ]
     },
     "execution_count": 45,
     "metadata": {},
     "output_type": "execute_result"
    }
   ],
   "source": [
    "np.arange(first_state, last_state, ((last_state - first_state)/kmean_TS_codebook.n_clusters))"
   ]
  },
  {
   "cell_type": "code",
   "execution_count": 46,
   "id": "95084355",
   "metadata": {},
   "outputs": [],
   "source": [
    "measurement_angle_step = 0.5\n",
    "angle_all = np.arange(-90, 90+measurement_angle_step, measurement_angle_step)\n",
    "\n",
    "def update_dwba_for_ellipse(angle, aspect_ratio):\n",
    "    L = aspect_ratio*2*a\n",
    "\n",
    "    # TS across all angles\n",
    "    phi_all = np.deg2rad(angle_all)\n",
    "    fbs_full = dwba_prolate_spheroid(L, a, g, h, ka, phi_all)\n",
    "    TS_all = 20*np.log10(np.abs(fbs_full))\n",
    "\n",
    "    phi = np.deg2rad(angle)\n",
    "    fbs = dwba_prolate_spheroid(L, a, g, h, ka, phi)\n",
    "    TS = 20*np.log10(np.abs(fbs))\n",
    "\n",
    "    # Define ellipse parameters\n",
    "    width = 2*a  # width\n",
    "    height = L  # height\n",
    "    ellipse_angle = 90 - angle # rotation angle [deg]\n",
    "\n",
    "    # Create the ellipse patch\n",
    "    ellipse = patches.Ellipse(\n",
    "        (0.5, -0.5), width, height, angle=ellipse_angle, \n",
    "        facecolor='lightblue', edgecolor='blue')\n",
    "\n",
    "    fig = plt.figure(figsize=(7,6))\n",
    "    gs = gridspec.GridSpec(2, 2, width_ratios=[2, 1])\n",
    "    fig.subplots_adjust(hspace=0.1)\n",
    "\n",
    "    # All angles\n",
    "    ax0 = fig.add_subplot(gs[0,0])\n",
    "    ax0.imshow(TS_all, aspect=\"auto\", vmax=-25, vmin=-80,\n",
    "                extent=(0, freq_upperbound//1e3, -90, 90+measurement_angle_step))\n",
    "    ax0.set_yticks(np.arange(-90, 90+measurement_angle_step, 30))\n",
    "    ax0.set_ylabel(\"Incident angle (°)\", fontsize=12)\n",
    "    ax0.set_xlim(freq_lowerbound, freq_upperbound)\n",
    "    received_code = kmean_TS_codebook.predict(TS.reshape((1, freq.shape[0])))[0]\n",
    "    ax0.axhline(angle, color=\"magenta\", label=f'Code={received_code}, Likelihood={(initial_state_prob*emission_matrix_B[:,received_code]).sum():.3f}')\n",
    "    ax0.legend()\n",
    "\n",
    "    # One angle slice\n",
    "    ax1 = fig.add_subplot(gs[1,0], sharex=ax0)\n",
    "    ax1.plot(freq/1e3, TS, lw=0.75)\n",
    "    ax1.set_xlim(freq_lowerbound/1e3, freq_upperbound/1e3)\n",
    "    ax1.set_ylim(-90, -20)\n",
    "    ax1.set_xlabel(\"Frequency (kHz)\", fontsize=12)\n",
    "    ax1.set_ylabel(\"TS (dB)\", fontsize=12)\n",
    "\n",
    "    # Ellipse (cross section of prolate spheroid)\n",
    "    ax_ellip = fig.add_subplot(gs[1,1])\n",
    "    ax_ellip.add_patch(ellipse)\n",
    "    ax_ellip.annotate(\"Incident sound\", xytext=(0.5, -1.5), xy=(0.5, -0.95),\n",
    "        arrowprops=dict(arrowstyle=\"->,head_length=0.5,head_width=0.3\",\n",
    "                        linewidth=2),\n",
    "        fontsize=12,\n",
    "        ha=\"center\")\n",
    "    ax_ellip.set_aspect('equal', adjustable='box')\n",
    "    ax_ellip.axis('off')\n",
    "    ax_ellip.set_xlim(0, 1)\n",
    "    ax_ellip.set_ylim(-1.5, 0)\n",
    "\n",
    "    ax0.set_title(\"TS of a fluid prolate spheroid\")\n",
    "    plt.tight_layout()\n",
    "    plt.show()"
   ]
  },
  {
   "cell_type": "code",
   "execution_count": 47,
   "id": "d85ae12d",
   "metadata": {},
   "outputs": [
    {
     "data": {
      "application/vnd.jupyter.widget-view+json": {
       "model_id": "13177b47e8764658bc5783c0a1515902",
       "version_major": 2,
       "version_minor": 0
      },
      "text/plain": [
       "interactive(children=(SelectionSlider(description='Incident angle (°)', index=90, layout=Layout(width='400px')…"
      ]
     },
     "metadata": {},
     "output_type": "display_data"
    }
   ],
   "source": [
    "aa = np.arange(-90, 91, 1)\n",
    "angle_slider = widgets.SelectionSlider(\n",
    "    options=aa,\n",
    "    value=0,  # default value\n",
    "    description=\"Incident angle (°)\",\n",
    "    style={'description_width': 'initial'},\n",
    "    continuous_update=True,\n",
    "    layout=widgets.Layout(width=\"400px\"),\n",
    ")\n",
    "\n",
    "aspect_ratio_slider = widgets.FloatSlider(\n",
    "    value=2.0, \n",
    "    min=0.1, \n",
    "    max=2, \n",
    "    step=0.1, \n",
    "    description=\"Aspect ratio\", \n",
    "    continuous_update=True, \n",
    "    style={'description_width': 'initial'}, \n",
    "    layout=widgets.Layout(width=\"400px\")\n",
    ")\n",
    "interactive_plot = widgets.interactive(\n",
    "    update_dwba_for_ellipse, angle=angle_slider, aspect_ratio=aspect_ratio_slider)\n",
    "display(interactive_plot)"
   ]
  },
  {
   "cell_type": "code",
   "execution_count": 48,
   "id": "9dd34039",
   "metadata": {},
   "outputs": [],
   "source": [
    "def w_(theta):\n",
    "    sigma_i = state_angle_step / 2\n",
    "    normalization = 1 / np.sqrt(2*np.pi*(sigma_i**2))\n",
    "\n",
    "    return normalization * np.exp(-0.5*((theta/sigma_i)**2))\n",
    "\n",
    "def state_transition_model(delta_angle):\n",
    "    angular_dist_between_states = (state_centers[np.newaxis, :] - state_centers[:, np.newaxis])\n",
    "\n",
    "    return w_(angular_dist_between_states - delta_angle)"
   ]
  },
  {
   "cell_type": "code",
   "execution_count": 49,
   "id": "fdce763d",
   "metadata": {},
   "outputs": [
    {
     "data": {
      "text/plain": [
       "array([0.06666667, 0.14722222, 0.11944444, 0.07777778, 0.07222222,\n",
       "       0.07222222, 0.08888889, 0.06666667, 0.09444444, 0.07777778,\n",
       "       0.05      , 0.06666667])"
      ]
     },
     "execution_count": 49,
     "metadata": {},
     "output_type": "execute_result"
    }
   ],
   "source": [
    "(initial_state_prob * emission_matrix_B).sum(axis=0)"
   ]
  },
  {
   "cell_type": "code",
   "execution_count": 50,
   "id": "ab90acf7",
   "metadata": {},
   "outputs": [
    {
     "name": "stdout",
     "output_type": "stream",
     "text": [
      "############### ITERATION t=0 ###############\n",
      "Currently in state containing: 45\n",
      "Received 10, likelihood = 1.8\n",
      "t=0  cumulative_likelihood=1.800  decision=False  (tau=10)\n",
      "Forecasted step -5, expected log likelihood = -1.96\n",
      "Forecasted step 5, expected log likelihood = -1.96\n",
      "Moving to: 50, based on [-1.96321733 -1.96046979] for [-5  5]\n",
      "############### ITERATION t=1 ###############\n",
      "Currently in state containing: 50\n",
      "Received 7, likelihood = 2.4\n",
      "t=1  cumulative_likelihood=4.200  decision=False  (tau=10)\n",
      "Forecasted step -5, expected log likelihood = -2.39\n",
      "Forecasted step 5, expected log likelihood = -2.28\n",
      "Moving to: 55, based on [-2.3934474  -2.28410575] for [-5  5]\n",
      "############### ITERATION t=2 ###############\n",
      "Currently in state containing: 55\n",
      "Received 6, likelihood = 3.2\n",
      "t=2  cumulative_likelihood=7.400  decision=False  (tau=10)\n",
      "Forecasted step -5, expected log likelihood = -2.48\n",
      "Forecasted step 5, expected log likelihood = -2.43\n",
      "Moving to: 60, based on [-2.48061633 -2.42780722] for [-5  5]\n",
      "############### ITERATION t=3 ###############\n",
      "Currently in state containing: 60\n",
      "Received 6, likelihood = 3.2\n",
      "t=3  cumulative_likelihood=10.600  decision=True  (tau=10)\n",
      "Finalized decision; Assertion of target = standard: True\n"
     ]
    }
   ],
   "source": [
    "while t < max_iter:\n",
    "    print(f'############### ITERATION t={t} ###############\\nCurrently in state containing: {current_state}')\n",
    "    ## GENERATE RECEIVED WAVEFORM AND OBSERVATION FROM CURRENT INITIAL STATE\n",
    "    phi = np.deg2rad(current_state)\n",
    "    fbs = dwba_prolate_spheroid(true_target_L, a, g, h, ka, phi)\n",
    "    received_TS = 20*np.log10(np.abs(fbs))\n",
    "    received_code = kmean_TS_codebook.predict(received_TS.reshape((1, freq.shape[0])))[0]\n",
    "\n",
    "    ## COMPUTE LIKELIHOOD OF RECEIVING OBSERVATION USING EMISSION MATRIX\n",
    "    if t == 0:\n",
    "        alpha_states = initial_state_prob * emission_matrix_B\n",
    "        assert np.isclose((initial_state_prob*np.ones(state_centers.shape[0])), alpha_states.sum(axis=1)).all()\n",
    "        alpha_states_for_received_code[t,:] = alpha_states[:,received_code]\n",
    "    elif t >= 1:        \n",
    "        likelihood_observing_and_transitioning = np.matmul(alpha_states_for_received_code[t-1,:], A_step)\n",
    "        assert(likelihood_observing_and_transitioning.shape[0] == state_centers.shape[0])\n",
    "        alpha_targets_for_received_codes = likelihood_observing_and_transitioning[:, np.newaxis] * emission_matrix_B\n",
    "        assert np.isclose(alpha_targets_for_received_codes.sum(axis=1), likelihood_observing_and_transitioning).all()\n",
    "        alpha_states_for_received_code[t,:] = alpha_targets_for_received_codes[:,received_code]\n",
    "\n",
    "    assert(alpha_states_for_received_code[t,:].shape[0] == state_centers.shape[0])\n",
    "    # RECORD LIKELIHOOD OF THE SCORE\n",
    "    likelihood_of_received_code = (emission_matrix_B[:,received_code].sum())\n",
    "    print(f\"Received {received_code}, likelihood = {likelihood_of_received_code}\")\n",
    "\n",
    "    # LOG-LIKELIHOOD UNDER TARGET HMM AS IN PAPER\n",
    "    cumulative_likelihood += likelihood_of_received_code\n",
    "\n",
    "    # DECISION THRESHOLD τ\n",
    "    tau = 10\n",
    "    decision = (cumulative_likelihood >= tau)  # True => declare target present\n",
    "    print(f\"t={t}  cumulative_likelihood={cumulative_likelihood:.3f}  decision={decision}  (tau={tau})\")\n",
    "\n",
    "    if cumulative_likelihood==0.0 or decision:\n",
    "        print(f'Finalized decision; Assertion of target = standard: {decision}')\n",
    "        break\n",
    "    else:\n",
    "        # FIND EXPECTED LOG LIKELIHOOD FOR EACH CANDIDATE ANGLE STEP TO DETERMINE OPTIMAL STEP TO TAKE\n",
    "        if (current_state == 90):\n",
    "            candidate_angle_steps = np.array([-5])\n",
    "        elif (current_state == -90):\n",
    "            candidate_angle_steps = np.array([5])\n",
    "        else: \n",
    "            candidate_angle_steps = np.array([-5, 5])\n",
    "        forecasted_expected_log_likelihood_per_trial = np.zeros(candidate_angle_steps.shape[0])\n",
    "        for a_step, candidate_angle_step in enumerate(candidate_angle_steps):\n",
    "            A_step_candidate = state_transition_model(candidate_angle_step)\n",
    "            A_step_candidate = A_step_candidate / A_step_candidate.sum(axis=1, keepdims=True)\n",
    "\n",
    "            likelihood_observing_and_transitioning = np.matmul(alpha_states_for_received_code[t,:], A_step_candidate)\n",
    "            assert(likelihood_observing_and_transitioning.shape[0] == state_centers.shape[0])\n",
    "\n",
    "            alpha_targets_for_forecasted_codes = likelihood_observing_and_transitioning[:, np.newaxis] * emission_matrix_B\n",
    "            likelihood_for_forecasted_codes = np.clip(alpha_targets_for_forecasted_codes.sum(axis=0), 1e-12, None)\n",
    "            assert(likelihood_for_forecasted_codes.shape[0] == kmean_TS_codebook.n_clusters)\n",
    "            \n",
    "            numerator = likelihood_for_forecasted_codes\n",
    "            denominator = likelihood_for_forecasted_codes.sum()\n",
    "\n",
    "            log_likelihood_targets_for_forecasted_codes = np.log10(likelihood_for_forecasted_codes)\n",
    "            expected_log_likelihood_of_forecasted_belief = np.nansum(log_likelihood_targets_for_forecasted_codes * numerator / denominator)\n",
    "            print(f\"Forecasted step {candidate_angle_step}, expected log likelihood = {expected_log_likelihood_of_forecasted_belief:.2f}\")\n",
    "            forecasted_expected_log_likelihood_per_trial[a_step] = expected_log_likelihood_of_forecasted_belief\n",
    "\n",
    "        # SELECT OPTIMAL ANGLE STEP TO TAKE BASED ON MAXIMIZING EXPECTED LOG LIKELIHOOD\n",
    "        angle_step_to_make = candidate_angle_steps[(forecasted_expected_log_likelihood_per_trial).argmax()]\n",
    "        current_state = (current_state + angle_step_to_make)\n",
    "        A_step = state_transition_model(angle_step_to_make)\n",
    "        A_step = A_step / A_step.sum(axis=1, keepdims=True)\n",
    "\n",
    "        print(f'Moving to: {current_state}, based on {forecasted_expected_log_likelihood_per_trial} for {candidate_angle_steps}')\n",
    "\n",
    "        t+=1"
   ]
  }
 ],
 "metadata": {
  "kernelspec": {
   "display_name": "muri-info",
   "language": "python",
   "name": "python3"
  },
  "language_info": {
   "codemirror_mode": {
    "name": "ipython",
    "version": 3
   },
   "file_extension": ".py",
   "mimetype": "text/x-python",
   "name": "python",
   "nbconvert_exporter": "python",
   "pygments_lexer": "ipython3",
   "version": "3.13.5"
  }
 },
 "nbformat": 4,
 "nbformat_minor": 5
}
