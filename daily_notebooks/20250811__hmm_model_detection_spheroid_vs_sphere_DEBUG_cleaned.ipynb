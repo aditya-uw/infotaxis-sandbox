{
 "cells": [
  {
   "cell_type": "markdown",
   "id": "fbdb7e22",
   "metadata": {},
   "source": [
    "# Notebook to develop HMM model to investigate optimal angle selection"
   ]
  },
  {
   "cell_type": "markdown",
   "id": "4e9d014a",
   "metadata": {},
   "source": [
    "## Defining the targets we will be using in our multiaspect classification model"
   ]
  },
  {
   "cell_type": "code",
   "execution_count": 10,
   "id": "67841ad2",
   "metadata": {},
   "outputs": [],
   "source": [
    "import numpy as np\n",
    "import matplotlib.pyplot as plt\n",
    "import matplotlib.patches as patches\n",
    "import matplotlib.gridspec as gridspec\n",
    "\n",
    "from scipy.special import spherical_jn, spherical_yn\n",
    "\n",
    "import ipywidgets as widgets\n",
    "from IPython.display import display\n",
    "\n",
    "from sklearn.cluster import KMeans\n",
    "import seaborn as sns\n",
    "import pandas as pd"
   ]
  },
  {
   "cell_type": "markdown",
   "id": "757d8fb9",
   "metadata": {},
   "source": [
    "## Below is the analytical DWBA solution for a prolate spheroid geometry"
   ]
  },
  {
   "cell_type": "code",
   "execution_count": 2,
   "id": "05125d76",
   "metadata": {},
   "outputs": [],
   "source": [
    "def dwba_prolate_spheroid(L, a, g, h, ka, phi):\n",
    "    \"\"\"\n",
    "    DWBA solution for a fluid prolate spheroid.\n",
    "    Lee, W.-J., Lavery, A. C., and Stanton, T. K. (2012). \n",
    "    “Orientation dependence of broadband acoustic backscattering from live squid,” \n",
    "    The Journal of the Acoustical Society of America, 131, 4461–4475. doi:10.1121/1.3701876\n",
    "    \n",
    "    Parameters\n",
    "    ----------\n",
    "    L : float\n",
    "        Length of spheroid (long axis) [m]\n",
    "    a : float\n",
    "        Radius of spheroid (short axis) [m]\n",
    "    g : float\n",
    "        Density contrast (rho2/rho1)\n",
    "    h : float\n",
    "        Sound speed contrast (c2/c1)\n",
    "    ka : array_like\n",
    "        Dimensionless ka (wavenumber * radius)\n",
    "    phi : float or array_like\n",
    "        Incident angle [radians]\n",
    "\n",
    "    Returns\n",
    "    -------\n",
    "    fbs : array_like\n",
    "        Complex backscattering amplitude\n",
    "    \"\"\"\n",
    "    # Convert inputs to arrays and ensure proper broadcasting\n",
    "    ka = np.atleast_1d(ka)\n",
    "    phi = np.atleast_1d(phi)\n",
    "\n",
    "    # Calculate contrast term\n",
    "    contrast = 1/(g * h**2) + 1/g - 2\n",
    "    \n",
    "    # Convert incident angle to beta\n",
    "    beta = phi[..., np.newaxis] + np.pi / 2  # Add dimension for broadcasting with ka\n",
    "    # beta = phi + np.pi/2\n",
    "    \n",
    "    # Calculate aspect ratio term (L/2a)\n",
    "    aspect_ratio = L / (2 * a)\n",
    "\n",
    "    # Calculate argument for Bessel function\n",
    "    ellip_term = np.sqrt(np.sin(beta)**2 + (aspect_ratio**2) * np.cos(beta)**2)\n",
    "    bessel_arg = 2 * ka / h * ellip_term\n",
    "    \n",
    "    # Calculate spherical Bessel function\n",
    "    j1 = spherical_jn(1, bessel_arg)\n",
    "    \n",
    "    # Calculate final backscattering amplitude\n",
    "    fbs = (ka**2) * L * contrast/2 * j1/bessel_arg\n",
    "\n",
    "    return fbs.squeeze()"
   ]
  },
  {
   "cell_type": "markdown",
   "id": "e4368833",
   "metadata": {},
   "source": [
    "## Defining the measurement and target constants"
   ]
  },
  {
   "cell_type": "code",
   "execution_count": 3,
   "id": "8f55513f",
   "metadata": {},
   "outputs": [],
   "source": [
    "a = 0.15 # semi-minor axis (equatorial radius)\n",
    "g = 1.043 # density contrast\n",
    "h = 1.053 # sound speed contrast\n",
    "c = 1500 # speed of sound in water\n",
    "\n",
    "freq_lowerbound = 100 # frequency response lower bound\n",
    "freq_upperbound = 30e3 # frequency response upper bound\n",
    "freq = np.arange(freq_lowerbound, freq_upperbound, 10)\n",
    "k = 2*np.pi*freq / c # acoustic wavenumber (phase shift per meter)\n",
    "ka = k*a"
   ]
  },
  {
   "cell_type": "code",
   "execution_count": null,
   "id": "ab90acf7",
   "metadata": {},
   "outputs": [
    {
     "data": {
      "text/plain": [
       "array([0.        , 0.        , 0.        , 0.        , 0.        ,\n",
       "       0.        , 0.        , 0.        , 0.        , 0.        ,\n",
       "       0.        , 0.        , 0.        , 0.        , 0.        ,\n",
       "       0.        , 0.2       , 0.28571429, 0.28571429, 0.22857143,\n",
       "       0.        , 0.        , 0.        , 0.        , 0.        ,\n",
       "       0.        , 0.        , 0.        , 0.        , 0.        ,\n",
       "       0.        , 0.        , 0.        , 0.        , 0.        ,\n",
       "       0.        ])"
      ]
     },
     "execution_count": 33,
     "metadata": {},
     "output_type": "execute_result"
    }
   ],
   "source": [
    "# BUILD TRAINING DATASET USING DISTORED WAVE BORN APPROXIMATION FROM PROLATE SPHEROID OF ASPECT RATIO = 1\n",
    "trained_target_AR = 1.5\n",
    "last_state = 90\n",
    "first_state = -90\n",
    "\n",
    "measurement_angle_step = 0.5\n",
    "angle_all = np.arange(first_state, last_state+measurement_angle_step, measurement_angle_step)\n",
    "L = trained_target_AR * 2*a\n",
    "phi_all = np.deg2rad(angle_all)\n",
    "fbs_full = dwba_prolate_spheroid(L, a, g, h, ka, phi_all)\n",
    "TS_standard = 20*np.log10(np.abs(fbs_full))\n",
    "\n",
    "# PERFORM VECTOR QUANTIZATION ON WAVEFORMS MEASURED FROM TRAINING TARGET TO BUILD CODEBOOK\n",
    "k = TS_standard.shape[0]//20\n",
    "state = 1500\n",
    "kmean_TS_codebook = KMeans(n_clusters=k, n_init=10, random_state=state).fit(TS_standard)\n",
    "labels = kmean_TS_codebook.labels_\n",
    "\n",
    "## DEFINE STATE CENTERS\n",
    "state_angle_step = 5\n",
    "state_centers = np.arange(-last_state, last_state, state_angle_step) + (state_angle_step / 2)\n",
    "\n",
    "## DEVELOP EMISSION MATRIX FOR TRAINED MODEL\n",
    "emission_matrix_B = np.zeros((state_centers.shape[0], kmean_TS_codebook.n_clusters))\n",
    "for i, state_center in enumerate(state_centers):\n",
    "    angle_indices_for_state = np.where((state_center-(state_angle_step/2)<=angle_all)&(angle_all<state_center+(state_angle_step/2)))[0]\n",
    "    TS_state_target_k = TS_standard[angle_indices_for_state,:]\n",
    "    target_k_state_cluster_preds = kmean_TS_codebook.predict(TS_state_target_k)\n",
    "\n",
    "    density, clusters = np.histogram(target_k_state_cluster_preds, bins=np.arange(0, kmean_TS_codebook.n_clusters+1), density=True)\n",
    "    emission_matrix_B[i, :] = density\n",
    "\n",
    "## DEFINE (UNKNOWN) INITIAL STATE AND (KNOWN) PROBABILITY OF BEING IN ANY INITIAL STATE\n",
    "initial_state_prob = state_angle_step / (last_state - first_state)\n",
    "current_state = 0\n",
    "true_target_AR = 2.0\n",
    "true_target_L = true_target_AR * 2*a\n",
    "\n",
    "## GENERATE RECEIVED WAVEFORM AND OBSERVATION FROM CURRENT INITIAL STATE\n",
    "phi = np.deg2rad(current_state)\n",
    "fbs = dwba_prolate_spheroid(true_target_L, a, g, h, ka, phi)\n",
    "received_TS = 20*np.log10(np.abs(fbs))\n",
    "received_code = kmean_TS_codebook.predict(received_TS.reshape((1, freq.shape[0])))[0]\n",
    "\n",
    "## COMPUTE LIKELIHOOD OF RECEIVING OBSERVATION USING EMISSION MATRIX\n",
    "alpha_states_for_received_code = initial_state_prob * emission_matrix_B[:,received_code]\n",
    "likelihood_of_received_code = alpha_states_for_received_code.sum(axis=0)"
   ]
  },
  {
   "cell_type": "code",
   "execution_count": 34,
   "id": "10dd9f9a",
   "metadata": {},
   "outputs": [],
   "source": [
    "def w_(theta):\n",
    "    sigma_i = state_angle_step / 2\n",
    "    normalization = 1 / np.sqrt(2*np.pi*(sigma_i**2))\n",
    "\n",
    "    return normalization * np.exp(-0.5*((theta/sigma_i)**2))\n",
    "\n",
    "def state_transition_model(delta_angle):\n",
    "    angular_dist_between_states = (state_centers[np.newaxis, :] - state_centers[:, np.newaxis])\n",
    "\n",
    "    return w_(angular_dist_between_states - delta_angle)"
   ]
  },
  {
   "cell_type": "code",
   "execution_count": 35,
   "id": "22dc0ebf",
   "metadata": {},
   "outputs": [
    {
     "name": "stdout",
     "output_type": "stream",
     "text": [
      "Moving to: 5\n"
     ]
    }
   ],
   "source": [
    "candidate_angle_steps = np.array([-5, 5])\n",
    "forecasted_expected_log_likelihood_per_trial = np.zeros(candidate_angle_steps.shape[0])\n",
    "\n",
    "for a_step, candidate_angle_step in enumerate(candidate_angle_steps):\n",
    "    A_step = state_transition_model(candidate_angle_step)\n",
    "    A_step = A_step / A_step.sum(axis=1, keepdims=True)\n",
    "\n",
    "    likelihood_observing_and_transitioning = np.matmul(alpha_states_for_received_code, A_step)\n",
    "    alpha_targets_for_forecasted_codes = likelihood_observing_and_transitioning[:, np.newaxis] * emission_matrix_B\n",
    "\n",
    "    likelihood_for_forecasted_codes = alpha_targets_for_forecasted_codes.sum(axis=0)\n",
    "    numerator = likelihood_for_forecasted_codes\n",
    "    denominator = likelihood_of_received_code.sum()\n",
    "\n",
    "    log_likelihood_targets_for_forecasted_codes = np.log(np.clip(likelihood_for_forecasted_codes, 1e-12, None))\n",
    "    expected_log_likelihood_of_forecasted_belief = np.sum(log_likelihood_targets_for_forecasted_codes * numerator / denominator)\n",
    "\n",
    "    forecasted_expected_log_likelihood_per_trial[a_step] = expected_log_likelihood_of_forecasted_belief\n",
    "\n",
    "angle_step_to_make = candidate_angle_steps[(forecasted_expected_log_likelihood_per_trial).argmax()]\n",
    "current_state = (current_state + angle_step_to_make)\n",
    "print(f'Moving to: {current_state}')"
   ]
  },
  {
   "cell_type": "code",
   "execution_count": null,
   "id": "3441a238",
   "metadata": {},
   "outputs": [],
   "source": []
  }
 ],
 "metadata": {
  "kernelspec": {
   "display_name": "muri-info",
   "language": "python",
   "name": "python3"
  },
  "language_info": {
   "codemirror_mode": {
    "name": "ipython",
    "version": 3
   },
   "file_extension": ".py",
   "mimetype": "text/x-python",
   "name": "python",
   "nbconvert_exporter": "python",
   "pygments_lexer": "ipython3",
   "version": "3.13.5"
  }
 },
 "nbformat": 4,
 "nbformat_minor": 5
}
