{
 "cells": [
  {
   "cell_type": "code",
   "execution_count": 2,
   "id": "67841ad2",
   "metadata": {},
   "outputs": [],
   "source": [
    "import numpy as np\n",
    "import matplotlib.pyplot as plt\n",
    "from scipy.special import spherical_jn\n",
    "from sklearn.cluster import KMeans"
   ]
  },
  {
   "cell_type": "code",
   "execution_count": 5,
   "id": "814ed754",
   "metadata": {},
   "outputs": [],
   "source": [
    "# --- DWBA Model for Prolate Spheroid ---\n",
    "def dwba_prolate_spheroid(L, a, g, h, ka, phi):\n",
    "    ka = np.atleast_1d(ka)\n",
    "    phi = np.atleast_1d(phi)\n",
    "    contrast = 1 / (g * h**2) + 1 / g - 2\n",
    "    beta = phi[..., np.newaxis] + np.pi / 2\n",
    "    aspect_ratio = L / (2 * a)\n",
    "    ellip_term = np.sqrt(np.sin(beta)**2 + (aspect_ratio**2) * np.cos(beta)**2)\n",
    "    bessel_arg = 2 * ka / h * ellip_term\n",
    "    j1 = spherical_jn(1, bessel_arg)\n",
    "    fbs = (ka**2) * L * contrast / 2 * j1 / bessel_arg\n",
    "    return fbs.squeeze()\n",
    "\n",
    "# --- Angle-independent backscatter for Sphere ---\n",
    "def sphere_backscatter(L, a, g, h, ka):\n",
    "    contrast = 1 / (g * h**2) + 1 / g - 2\n",
    "    bessel_arg = 2 * ka / h\n",
    "    j1 = spherical_jn(1, bessel_arg)\n",
    "    fbs = (ka**2) * L * contrast / 2 * j1 / bessel_arg\n",
    "    return fbs"
   ]
  },
  {
   "cell_type": "code",
   "execution_count": 6,
   "id": "8f55513f",
   "metadata": {},
   "outputs": [],
   "source": [
    "# --- Parameters ---\n",
    "a = 0.015\n",
    "L = a * 6\n",
    "g = 1.043\n",
    "h = 1.053\n",
    "c = 1500\n",
    "freq = np.arange(100, 30000, 10)\n",
    "ka = 2 * np.pi * freq / c * a\n",
    "\n",
    "angle_step = 5\n",
    "max_steps = 10\n",
    "entropy_threshold = 0.5\n",
    "codebook_size = 10"
   ]
  },
  {
   "cell_type": "code",
   "execution_count": 7,
   "id": "f3894e8c",
   "metadata": {},
   "outputs": [],
   "source": [
    "# --- Quantize TS spectra using k-means ---\n",
    "def quantize_spectrum(spectra, kmeans=None):\n",
    "    if kmeans is None:\n",
    "        kmeans = KMeans(n_clusters=codebook_size, n_init=10).fit(spectra)\n",
    "    labels = kmeans.predict(spectra)\n",
    "    return labels, kmeans\n",
    "\n",
    "# --- Naive emission likelihood based on distance from class mean ---\n",
    "def compute_likelihood(spectrum, class_means):\n",
    "    dists = [np.linalg.norm(spectrum - mean) for mean in class_means]\n",
    "    log_probs = -np.array(dists)\n",
    "    weights = np.exp(log_probs - np.max(log_probs))\n",
    "    return weights / np.sum(weights)"
   ]
  },
  {
   "cell_type": "code",
   "execution_count": 13,
   "id": "c53ed8d8",
   "metadata": {},
   "outputs": [],
   "source": [
    "# --- Build synthetic dataset for training codebook ---\n",
    "angles_deg = np.arange(-90, 90, angle_step)\n",
    "\n",
    "spheroid_specs = [dwba_prolate_spheroid(L, a, g, h, ka, np.deg2rad(ang)) for ang in angles_deg]\n",
    "sphere_specs = [sphere_backscatter(L, a, g, h, ka) for _ in angles_deg]\n",
    "\n",
    "spheroid_specs_db = [20 * np.log10(np.abs(fbs)) for fbs in spheroid_specs]\n",
    "sphere_specs_db = [20 * np.log10(np.abs(fbs)) for fbs in sphere_specs]\n",
    "\n",
    "all_specs = np.vstack(spheroid_specs_db + sphere_specs_db)\n",
    "_, kmeans = quantize_spectrum(all_specs)\n",
    "\n",
    "spheroid_mean = np.mean(kmeans.transform(spheroid_specs_db), axis=0)\n",
    "sphere_mean = np.mean(kmeans.transform(sphere_specs_db), axis=0)\n",
    "class_means = [spheroid_mean, sphere_mean]"
   ]
  },
  {
   "cell_type": "code",
   "execution_count": 16,
   "id": "22bd02c0",
   "metadata": {},
   "outputs": [],
   "source": [
    "true_class = 'spheroid'"
   ]
  },
  {
   "cell_type": "code",
   "execution_count": 31,
   "id": "0e4143c8",
   "metadata": {},
   "outputs": [],
   "source": [
    "# --- Trial Setup ---\n",
    "est_class = np.random.choice([\"spheroid\", \"sphere\"])\n",
    "angle = np.random.uniform(-90, 90)"
   ]
  },
  {
   "cell_type": "code",
   "execution_count": 32,
   "id": "2d7a57d1",
   "metadata": {},
   "outputs": [
    {
     "data": {
      "text/plain": [
       "(-100.0, 0.0)"
      ]
     },
     "execution_count": 32,
     "metadata": {},
     "output_type": "execute_result"
    },
    {
     "data": {
      "image/png": "[encoded data removed]",
      "text/plain": [
       "<Figure size 640x480 with 1 Axes>"
      ]
     },
     "metadata": {},
     "output_type": "display_data"
    }
   ],
   "source": [
    "angles_visited = []\n",
    "probs_history = []\n",
    "\n",
    "step = 0\n",
    "phi = np.deg2rad(angle)\n",
    "\n",
    "if true_class == \"spheroid\":\n",
    "    fbs = dwba_prolate_spheroid(L, a, g, h, ka, phi)\n",
    "else:\n",
    "    fbs = sphere_backscatter(L, a, g, h, ka)\n",
    "\n",
    "spectrum_db = 20 * np.log10(np.abs(fbs))\n",
    "plt.plot(freq, spectrum_db)\n",
    "plt.ylim(-100, 0)"
   ]
  },
  {
   "cell_type": "code",
   "execution_count": 35,
   "id": "c63fb764",
   "metadata": {},
   "outputs": [
    {
     "data": {
      "text/plain": [
       "array([146.11757227, 929.800323  , 596.4259809 , 872.29035046,\n",
       "       991.72144021, 294.10503878, 637.50647177, 545.39284824,\n",
       "       819.60940576, 907.51352589])"
      ]
     },
     "execution_count": 35,
     "metadata": {},
     "output_type": "execute_result"
    }
   ],
   "source": [
    "vec = kmeans.transform(spectrum_db.reshape(1, -1))[0]\n",
    "vec"
   ]
  },
  {
   "cell_type": "code",
   "execution_count": null,
   "id": "3e8b6ebf",
   "metadata": {},
   "outputs": [],
   "source": [
    "probs = compute_likelihood(vec, class_means)\n",
    "entropy = -np.sum(probs * np.log(probs + 1e-12))\n",
    "\n",
    "angles_visited.append(angle)\n",
    "probs_history.append(probs)\n",
    "\n",
    "if entropy < entropy_threshold:\n",
    "    print(entropy)\n",
    "    break\n",
    "\n",
    "# Evaluate next angles\n",
    "def future_entropy(theta):\n",
    "    phi = np.deg2rad(theta)\n",
    "    fbs = dwba_prolate_spheroid(L, a, g, h, ka, phi) if true_class == \"spheroid\" else sphere_backscatter(L, a, g, h, ka)\n",
    "    spec_db = 20 * np.log10(np.abs(fbs))\n",
    "    vec = kmeans.transform(spec_db.reshape(1, -1))[0]\n",
    "    p = compute_likelihood(vec, class_means)\n",
    "    return -np.sum(p * np.log(p + 1e-12))\n",
    "\n",
    "cw = angle + angle_step\n",
    "ccw = angle - angle_step\n",
    "angle = cw if future_entropy(cw) < future_entropy(ccw) else ccw\n",
    "\n",
    "# --- Plot ---\n",
    "fig, ax = plt.subplots(figsize=(8, 4))\n",
    "ax.plot(range(len(angles_visited)), angles_visited, marker='o')\n",
    "ax.set_xlabel(\"Step\")\n",
    "ax.set_ylabel(\"Incident Angle (deg)\")\n",
    "ax.set_title(f\"Decision trajectory (true class: {true_class})\")\n",
    "ax.grid(True)\n",
    "plt.tight_layout()\n",
    "plt.show()\n"
   ]
  },
  {
   "cell_type": "code",
   "execution_count": null,
   "id": "60d1f033",
   "metadata": {},
   "outputs": [],
   "source": []
  }
 ],
 "metadata": {
  "kernelspec": {
   "display_name": "muri-info",
   "language": "python",
   "name": "python3"
  },
  "language_info": {
   "codemirror_mode": {
    "name": "ipython",
    "version": 3
   },
   "file_extension": ".py",
   "mimetype": "text/x-python",
   "name": "python",
   "nbconvert_exporter": "python",
   "pygments_lexer": "ipython3",
   "version": "3.13.5"
  }
 },
 "nbformat": 4,
 "nbformat_minor": 5
}
