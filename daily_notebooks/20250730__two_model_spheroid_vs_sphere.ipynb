{
 "cells": [
  {
   "cell_type": "markdown",
   "id": "fbdb7e22",
   "metadata": {},
   "source": [
    "# Notebook to develop HMM model to investigate optimal angle selection"
   ]
  },
  {
   "cell_type": "markdown",
   "id": "4e9d014a",
   "metadata": {},
   "source": [
    "## Defining the targets we will be using in our multiaspect classification model"
   ]
  },
  {
   "cell_type": "code",
   "execution_count": 76,
   "id": "67841ad2",
   "metadata": {},
   "outputs": [],
   "source": [
    "import numpy as np\n",
    "import matplotlib.pyplot as plt\n",
    "import matplotlib.patches as patches\n",
    "import matplotlib.gridspec as gridspec\n",
    "\n",
    "from scipy.special import spherical_jn, spherical_yn\n",
    "\n",
    "import ipywidgets as widgets\n",
    "from IPython.display import display"
   ]
  },
  {
   "cell_type": "markdown",
   "id": "757d8fb9",
   "metadata": {},
   "source": [
    "## Below is the analytical DWBA solution for a prolate spheroid geometry"
   ]
  },
  {
   "cell_type": "code",
   "execution_count": 82,
   "id": "05125d76",
   "metadata": {},
   "outputs": [],
   "source": [
    "def dwba_prolate_spheroid(L, a, g, h, ka, phi):\n",
    "    \"\"\"\n",
    "    DWBA solution for a fluid prolate spheroid.\n",
    "    Lee, W.-J., Lavery, A. C., and Stanton, T. K. (2012). \n",
    "    “Orientation dependence of broadband acoustic backscattering from live squid,” \n",
    "    The Journal of the Acoustical Society of America, 131, 4461–4475. doi:10.1121/1.3701876\n",
    "    \n",
    "    Parameters\n",
    "    ----------\n",
    "    L : float\n",
    "        Length of spheroid (long axis) [m]\n",
    "    a : float\n",
    "        Radius of spheroid (short axis) [m]\n",
    "    g : float\n",
    "        Density contrast (rho2/rho1)\n",
    "    h : float\n",
    "        Sound speed contrast (c2/c1)\n",
    "    ka : array_like\n",
    "        Dimensionless ka (wavenumber * radius)\n",
    "    phi : float or array_like\n",
    "        Incident angle [radians]\n",
    "\n",
    "    Returns\n",
    "    -------\n",
    "    fbs : array_like\n",
    "        Complex backscattering amplitude\n",
    "    \"\"\"\n",
    "    # Convert inputs to arrays and ensure proper broadcasting\n",
    "    ka = np.atleast_1d(ka)\n",
    "    phi = np.atleast_1d(phi)\n",
    "\n",
    "    # Calculate contrast term\n",
    "    contrast = 1/(g * h**2) + 1/g - 2\n",
    "    \n",
    "    # Convert incident angle to beta\n",
    "    beta = phi[..., np.newaxis] + np.pi / 2  # Add dimension for broadcasting with ka\n",
    "    # beta = phi + np.pi/2\n",
    "    \n",
    "    # Calculate aspect ratio term (L/2a)\n",
    "    aspect_ratio = L / (2 * a)\n",
    "\n",
    "    # Calculate argument for Bessel function\n",
    "    ellip_term = np.sqrt(np.sin(beta)**2 + (aspect_ratio**2) * np.cos(beta)**2)\n",
    "    bessel_arg = 2 * ka / h * ellip_term\n",
    "    \n",
    "    # Calculate spherical Bessel function\n",
    "    j1 = spherical_jn(1, bessel_arg)\n",
    "    \n",
    "    # Calculate final backscattering amplitude\n",
    "    fbs = (ka**2) * L * contrast/2 * j1/bessel_arg\n",
    "\n",
    "    return fbs.squeeze()"
   ]
  },
  {
   "cell_type": "markdown",
   "id": "e4368833",
   "metadata": {},
   "source": [
    "## Defining the measurement and target constants"
   ]
  },
  {
   "cell_type": "code",
   "execution_count": 87,
   "id": "8f55513f",
   "metadata": {},
   "outputs": [],
   "source": [
    "a = 0.15 # semi-minor axis (equatorial radius)\n",
    "g = 1.043 # density contrast\n",
    "h = 1.053 # sound speed contrast\n",
    "c = 1500 # speed of sound in water\n",
    "\n",
    "freq_lowerbound = 100 # frequency response lower bound\n",
    "freq_upperbound = 30e3 # frequency response upper bound\n",
    "freq = np.arange(freq_lowerbound, freq_upperbound, 10)\n",
    "k = 2*np.pi*freq / c # acoustic wavenumber (phase shift per meter)\n",
    "ka = k*a"
   ]
  },
  {
   "cell_type": "markdown",
   "id": "b0a9f1b9",
   "metadata": {},
   "source": [
    "## Below is code borrowed from the [BOAT fundamentals repository](https://boat-fundamentals.readthedocs.io/en/latest/acoustics/TS_03_discrete.html#orientation-dependency)\n",
    "\n",
    "It has been modified to include an aspect ratio parameter so we can see the 2 targets we need using the slider: a sphere (AR = 1) and spheroid (AR > 1)"
   ]
  },
  {
   "cell_type": "code",
   "execution_count": 89,
   "id": "db50d0f5",
   "metadata": {},
   "outputs": [],
   "source": [
    "def update_dwba_for_ellipse(angle, aspect_ratio):\n",
    "    L = aspect_ratio*2*a\n",
    "\n",
    "    # TS across all angles\n",
    "    phi_all = np.deg2rad(np.arange(-90, 90, 0.5))\n",
    "    fbs_full = dwba_prolate_spheroid(L, a, g, h, ka, phi_all)\n",
    "    TS_all = 20*np.log10(np.abs(fbs_full))\n",
    "\n",
    "    phi = np.deg2rad(angle)\n",
    "    fbs = dwba_prolate_spheroid(L, a, g, h, ka, phi)\n",
    "    TS = 20*np.log10(np.abs(fbs))\n",
    "\n",
    "    # Define ellipse parameters\n",
    "    width = 2*a  # width\n",
    "    height = L  # height\n",
    "    ellipse_angle = 90-angle  # rotation angle [deg]\n",
    "\n",
    "    # Create the ellipse patch\n",
    "    ellipse = patches.Ellipse(\n",
    "        (0.5, 0.5), width, height, angle=ellipse_angle, \n",
    "        facecolor='lightblue', edgecolor='blue')\n",
    "\n",
    "    fig = plt.figure(figsize=(7,6))\n",
    "    gs = gridspec.GridSpec(2, 2, width_ratios=[2, 1])\n",
    "    fig.subplots_adjust(hspace=0.1)\n",
    "\n",
    "    # All angles\n",
    "    ax0 = fig.add_subplot(gs[0,0])\n",
    "    ax0.imshow(TS_all, aspect=\"auto\", vmax=-25, vmin=-80,\n",
    "                extent=(0, freq_upperbound//1e3, 90, -90))\n",
    "    ax0.set_yticks(np.arange(-90, 91, 30))\n",
    "    ax0.set_ylabel(\"Incident angle (°)\", fontsize=12)\n",
    "    ax0.set_xlim(freq_lowerbound, freq_upperbound)\n",
    "    ax0.axhline(angle, color=\"magenta\")\n",
    "\n",
    "    # One angle slice\n",
    "    ax1 = fig.add_subplot(gs[1,0], sharex=ax0)\n",
    "    ax1.plot(freq/1e3, TS, lw=0.75)\n",
    "    ax1.set_xlim(freq_lowerbound/1e3, freq_upperbound/1e3)\n",
    "    ax1.set_ylim(-90, -20)\n",
    "    ax1.set_xlabel(\"Frequency (kHz)\", fontsize=12)\n",
    "    ax1.set_ylabel(\"TS (dB)\", fontsize=12)\n",
    "\n",
    "    # Ellipse (cross section of prolate spheroid)\n",
    "    ax_ellip = fig.add_subplot(gs[1,1])\n",
    "    ax_ellip.add_patch(ellipse)\n",
    "    ax_ellip.annotate(\"Incident sound\", xytext=(0.5, 1.2), xy=(0.5, 0.95),\n",
    "        arrowprops=dict(arrowstyle=\"->,head_length=0.5,head_width=0.3\",\n",
    "                        linewidth=2),\n",
    "        fontsize=12,\n",
    "        ha=\"center\")\n",
    "    ax_ellip.set_aspect('equal', adjustable='box')\n",
    "    ax_ellip.axis('off')\n",
    "    ax_ellip.set_xlim(0, 1)\n",
    "    ax_ellip.set_ylim(0, 1.2)\n",
    "\n",
    "    ax0.set_title(\"TS of a fluid prolate spheroid\")\n",
    "    plt.tight_layout()\n",
    "    plt.show()"
   ]
  },
  {
   "cell_type": "markdown",
   "id": "ebd965a0",
   "metadata": {},
   "source": [
    "## Below I have attached two visualizations but both are using the same function"
   ]
  },
  {
   "cell_type": "code",
   "execution_count": 90,
   "id": "0d368d25",
   "metadata": {},
   "outputs": [
    {
     "data": {
      "application/vnd.jupyter.widget-view+json": {
       "model_id": "548173d70d334de2b31e204ad806dcde",
       "version_major": 2,
       "version_minor": 0
      },
      "text/plain": [
       "interactive(children=(SelectionSlider(description='Incident angle (°)', index=90, layout=Layout(width='400px')…"
      ]
     },
     "metadata": {},
     "output_type": "display_data"
    }
   ],
   "source": [
    "aa = np.arange(-90, 91, 1)\n",
    "angle_slider = widgets.SelectionSlider(\n",
    "    options=aa,\n",
    "    value=0,  # default value\n",
    "    description=\"Incident angle (°)\",\n",
    "    style={'description_width': 'initial'},\n",
    "    continuous_update=True,\n",
    "    layout=widgets.Layout(width=\"400px\"),\n",
    ")\n",
    "\n",
    "aspect_ratio_slider = widgets.FloatSlider(\n",
    "    value=2.0, \n",
    "    min=1.0, \n",
    "    max=2, \n",
    "    step=0.1, \n",
    "    description=\"Aspect ratio\", \n",
    "    continuous_update=True, \n",
    "    style={'description_width': 'initial'}, \n",
    "    layout=widgets.Layout(width=\"400px\")\n",
    ")\n",
    "interactive_plot = widgets.interactive(\n",
    "    update_dwba_for_ellipse, angle=angle_slider, aspect_ratio=aspect_ratio_slider)\n",
    "display(interactive_plot)"
   ]
  },
  {
   "cell_type": "code",
   "execution_count": 91,
   "id": "c009ee1e",
   "metadata": {},
   "outputs": [
    {
     "data": {
      "application/vnd.jupyter.widget-view+json": {
       "model_id": "b580b08d625349199a3f12b31988c6ee",
       "version_major": 2,
       "version_minor": 0
      },
      "text/plain": [
       "interactive(children=(SelectionSlider(description='Incident angle (°)', index=90, layout=Layout(width='400px')…"
      ]
     },
     "metadata": {},
     "output_type": "display_data"
    }
   ],
   "source": [
    "aa = np.arange(-90, 91, 1)\n",
    "angle_slider = widgets.SelectionSlider(\n",
    "    options=aa,\n",
    "    value=0,  # default value\n",
    "    description=\"Incident angle (°)\",\n",
    "    style={'description_width': 'initial'},\n",
    "    continuous_update=True,\n",
    "    layout=widgets.Layout(width=\"400px\"),\n",
    ")\n",
    "\n",
    "aspect_ratio_slider = widgets.FloatSlider(\n",
    "    value=1.0, \n",
    "    min=1.0, \n",
    "    max=2, \n",
    "    step=0.1, \n",
    "    description=\"Aspect ratio\", \n",
    "    continuous_update=True, \n",
    "    style={'description_width': 'initial'}, \n",
    "    layout=widgets.Layout(width=\"400px\")\n",
    ")\n",
    "interactive_plot = widgets.interactive(\n",
    "    update_dwba_for_ellipse, angle=angle_slider, aspect_ratio=aspect_ratio_slider)\n",
    "display(interactive_plot)"
   ]
  }
 ],
 "metadata": {
  "kernelspec": {
   "display_name": "muri-info",
   "language": "python",
   "name": "python3"
  },
  "language_info": {
   "codemirror_mode": {
    "name": "ipython",
    "version": 3
   },
   "file_extension": ".py",
   "mimetype": "text/x-python",
   "name": "python",
   "nbconvert_exporter": "python",
   "pygments_lexer": "ipython3",
   "version": "3.13.5"
  }
 },
 "nbformat": 4,
 "nbformat_minor": 5
}
