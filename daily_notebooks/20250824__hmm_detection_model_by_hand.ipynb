{
 "cells": [
  {
   "cell_type": "code",
   "execution_count": 45,
   "id": "1a1e1e2a",
   "metadata": {},
   "outputs": [],
   "source": [
    "import numpy as np\n",
    "import matplotlib.pyplot as plt\n",
    "\n",
    "import ipywidgets as widgets\n",
    "\n",
    "from IPython.display import display"
   ]
  },
  {
   "cell_type": "code",
   "execution_count": 46,
   "id": "4af19106",
   "metadata": {},
   "outputs": [],
   "source": [
    "NUM_STATES = 4\n",
    "NUM_OBSERVATIONS = 2\n",
    "NUM_BELIEFS = 2 # TARGET vs. NON TARGET\n",
    "ANGLE_RANGE = 2*np.pi\n",
    "\n",
    "STATE_STEP = ANGLE_RANGE/NUM_STATES\n",
    "STATE_CENTERS = np.arange(0, ANGLE_RANGE, STATE_STEP) + STATE_STEP\n",
    "ANGL_DIST_BETWEEN_STATES = (STATE_CENTERS[np.newaxis, :] - STATE_CENTERS[:, np.newaxis])\n",
    "\n",
    "PRIOR_TARGET_PROB = np.array([1/NUM_BELIEFS, 1-(1/NUM_BELIEFS)])\n",
    "PRIOR_STATE_PROB = np.full(NUM_STATES, 1/NUM_STATES)\n",
    "LIKELIHOOD_OBS_FROM_NONTARGET = 1/NUM_OBSERVATIONS"
   ]
  },
  {
   "cell_type": "code",
   "execution_count": 47,
   "id": "81e5eb72",
   "metadata": {},
   "outputs": [],
   "source": [
    "def get_state_transition_matrix(candidate_step):\n",
    "    if candidate_step>0:\n",
    "        mod_basis = 2*np.pi\n",
    "    else:\n",
    "        mod_basis = -2*np.pi\n",
    "\n",
    "    angular_dist_between_states_in_extent = ANGL_DIST_BETWEEN_STATES % mod_basis\n",
    "    angular_dist_after_action = (angular_dist_between_states_in_extent - candidate_step)\n",
    "    angular_dist_after_action_in_extent = angular_dist_after_action % mod_basis\n",
    "    \n",
    "    sigma = STATE_STEP/2\n",
    "    magnitude = 1 / np.sqrt((2*np.pi) * (sigma**2))\n",
    "    state_transition = magnitude * np.exp(-0.5*((angular_dist_after_action_in_extent/sigma)**2))\n",
    "    state_transition_normed = state_transition / state_transition.sum(axis=1)\n",
    "    return state_transition_normed"
   ]
  },
  {
   "cell_type": "code",
   "execution_count": 48,
   "id": "153dafd4",
   "metadata": {},
   "outputs": [
    {
     "data": {
      "text/plain": [
       "array([[0.   , 0.881, 0.119, 0.   ],\n",
       "       [0.   , 0.   , 0.881, 0.119],\n",
       "       [0.119, 0.   , 0.   , 0.881],\n",
       "       [0.881, 0.119, 0.   , 0.   ]])"
      ]
     },
     "execution_count": 48,
     "metadata": {},
     "output_type": "execute_result"
    }
   ],
   "source": [
    "candidate_step = np.pi/2\n",
    "state_transition_matrix = get_state_transition_matrix(candidate_step)\n",
    "state_transition_matrix.round(3)"
   ]
  },
  {
   "cell_type": "code",
   "execution_count": 49,
   "id": "766c062c",
   "metadata": {},
   "outputs": [
    {
     "data": {
      "text/plain": [
       "array([[0.   , 0.   , 0.119, 0.881],\n",
       "       [0.881, 0.   , 0.   , 0.119],\n",
       "       [0.119, 0.881, 0.   , 0.   ],\n",
       "       [0.   , 0.119, 0.881, 0.   ]])"
      ]
     },
     "execution_count": 49,
     "metadata": {},
     "output_type": "execute_result"
    }
   ],
   "source": [
    "candidate_step = -np.pi/2\n",
    "state_transition_matrix = get_state_transition_matrix(candidate_step)\n",
    "state_transition_matrix.round(3)"
   ]
  },
  {
   "cell_type": "code",
   "execution_count": 50,
   "id": "6557e90e",
   "metadata": {},
   "outputs": [],
   "source": [
    "def observe_angle_state_pair(initial_angle):\n",
    "   plt.figure(figsize=(6, 6))\n",
    "   radius = 1\n",
    "   radius_until = 5\n",
    "   theta_obs1 = np.linspace(np.pi/3, 2*np.pi/3, 10)\n",
    "   x_inner = radius * np.cos(theta_obs1)\n",
    "   y_inner =  radius * np.sin(theta_obs1)\n",
    "   x_poly = np.concatenate([radius_until*x_inner, x_inner[::-1]])\n",
    "   y_poly = np.concatenate([radius_until*y_inner, y_inner[::-1]])\n",
    "   plt.fill(x_poly, y_poly, facecolor='blue', alpha=0.25, linewidth=0)\n",
    "   plt.plot(x_inner, y_inner, color='blue', linewidth=1)\n",
    "\n",
    "   theta_obs0 = np.linspace(np.pi/3, -4*np.pi/3, 50)\n",
    "   x_inner = radius * np.cos(theta_obs0)\n",
    "   y_inner =  radius * np.sin(theta_obs0)\n",
    "   x_poly = np.concatenate([radius_until*x_inner, x_inner[::-1]])\n",
    "   y_poly = np.concatenate([radius_until*y_inner, y_inner[::-1]])\n",
    "   plt.fill(x_poly, y_poly, facecolor='orange', alpha=0.25, linewidth=0)\n",
    "   plt.plot(x_inner, y_inner, color='orange', linewidth=1)\n",
    "\n",
    "   for theta in STATE_CENTERS:\n",
    "      r_outer = 4 * radius_until * radius\n",
    "      plt.plot([radius*np.cos(theta), r_outer*np.cos(theta)], \n",
    "               [radius*np.sin(theta), r_outer*np.sin(theta)],\n",
    "                  color='k', linewidth=1.5, solid_capstyle='round', zorder=1)\n",
    "      plt.plot([radius*np.cos(theta + (STATE_STEP/2)), r_outer*np.cos(theta + (STATE_STEP/2))], \n",
    "               [radius*np.sin(theta + (STATE_STEP/2)), r_outer*np.sin(theta + (STATE_STEP/2))],\n",
    "                  color='k', linewidth=1, linestyle='dashed', zorder=1)\n",
    "      \n",
    "   if initial_angle >= 60 and initial_angle <= 120:\n",
    "      code_received = 1\n",
    "   else:\n",
    "      code_received = 0\n",
    "   initial_radians = np.radians(initial_angle)\n",
    "   initial_state = int((initial_radians + (STATE_STEP/2)) / STATE_STEP)\n",
    "   plt.scatter(radius_until*radius*np.cos(initial_radians), radius_until*radius*np.sin(initial_radians),\n",
    "            s=200, marker='.', facecolor='r', edgecolor='k', zorder=4, label=f'State={initial_state}\\nCode={code_received}')\n",
    "\n",
    "   plt.gca().set_aspect('equal', adjustable='box')\n",
    "   plt.xticks([])\n",
    "   plt.yticks([])\n",
    "   GRID_EXTENT = 7\n",
    "   plt.xlim(-GRID_EXTENT, GRID_EXTENT)\n",
    "   plt.ylim(-GRID_EXTENT, GRID_EXTENT)\n",
    "   plt.legend()\n",
    "   plt.show()\n"
   ]
  },
  {
   "cell_type": "code",
   "execution_count": 51,
   "id": "eb09dd6c",
   "metadata": {},
   "outputs": [
    {
     "data": {
      "application/vnd.jupyter.widget-view+json": {
       "model_id": "664f7d99b611491f8df90abdef8322a1",
       "version_major": 2,
       "version_minor": 0
      },
      "text/plain": [
       "interactive(children=(IntSlider(value=0, description='Initial Angle', layout=Layout(width='600px'), max=360, s…"
      ]
     },
     "metadata": {},
     "output_type": "display_data"
    }
   ],
   "source": [
    "initial_angle_slider = widgets.IntSlider(\n",
    "    value=0,  \n",
    "    min=0,\n",
    "    max=360,\n",
    "    description=\"Initial Angle\",\n",
    "    style={'description_width': 'initial'},\n",
    "    continuous_update=True,\n",
    "    layout=widgets.Layout(width=\"600px\"),\n",
    ")\n",
    "\n",
    "interactive_plot = widgets.interactive(\n",
    "    observe_angle_state_pair, initial_angle=initial_angle_slider)\n",
    "display(interactive_plot)"
   ]
  },
  {
   "cell_type": "code",
   "execution_count": 52,
   "id": "2efb59d0",
   "metadata": {},
   "outputs": [
    {
     "data": {
      "text/plain": [
       "array([[0.66666667, 0.66666667, 1.        , 1.        ],\n",
       "       [0.33333333, 0.33333333, 0.        , 0.        ]])"
      ]
     },
     "execution_count": 52,
     "metadata": {},
     "output_type": "execute_result"
    }
   ],
   "source": [
    "code0_extent_in_states = np.array([np.pi/3, np.pi/3, np.pi/2, np.pi/2])\n",
    "code1_extent_in_states = np.array([np.pi/6, np.pi/6,       0,       0])\n",
    "\n",
    "prob_code0_in_states = code0_extent_in_states / STATE_STEP\n",
    "prob_code1_in_states = code1_extent_in_states / STATE_STEP\n",
    "\n",
    "EMISSION_MATRIX_B = np.vstack([prob_code0_in_states, prob_code1_in_states])\n",
    "EMISSION_MATRIX_B"
   ]
  },
  {
   "cell_type": "code",
   "execution_count": 53,
   "id": "1b250d07",
   "metadata": {},
   "outputs": [
    {
     "data": {
      "text/plain": [
       "(0, 0)"
      ]
     },
     "execution_count": 53,
     "metadata": {},
     "output_type": "execute_result"
    }
   ],
   "source": [
    "initial_angle = 0\n",
    "\n",
    "if initial_angle >= 60 and initial_angle <= 120:\n",
    "    code_received = 1\n",
    "else:\n",
    "    code_received = 0\n",
    "initial_angle, code_received"
   ]
  },
  {
   "cell_type": "code",
   "execution_count": 54,
   "id": "6f9cdb1e",
   "metadata": {},
   "outputs": [
    {
     "data": {
      "text/plain": [
       "np.float64(0.954434002924965)"
      ]
     },
     "execution_count": 54,
     "metadata": {},
     "output_type": "execute_result"
    }
   ],
   "source": [
    "joint_prob_obs_state_t1 = PRIOR_STATE_PROB * EMISSION_MATRIX_B\n",
    "\n",
    "joint_prob_obs0_state_t1 = joint_prob_obs_state_t1[code_received]\n",
    "likelihood_obs0_from_target_t1 = joint_prob_obs0_state_t1.sum()\n",
    "likelihood_obs0_t1 = np.array([likelihood_obs0_from_target_t1, LIKELIHOOD_OBS_FROM_NONTARGET])\n",
    "\n",
    "posterior_t1 = (PRIOR_TARGET_PROB*likelihood_obs0_t1) / (PRIOR_TARGET_PROB*likelihood_obs0_t1).sum()\n",
    "current_entropyS_t1 = (-posterior_t1*np.log2(posterior_t1)).sum()\n",
    "current_entropyS_t1"
   ]
  },
  {
   "cell_type": "code",
   "execution_count": 55,
   "id": "effde6ad",
   "metadata": {},
   "outputs": [],
   "source": [
    "candidate_steps = np.array([-np.pi/2, np.pi/2])\n",
    "expected_forecast_t2_S_per_step = np.zeros(candidate_steps.shape[0])"
   ]
  },
  {
   "cell_type": "code",
   "execution_count": 56,
   "id": "c984131f",
   "metadata": {},
   "outputs": [],
   "source": [
    "for i, forecast_t2_candidate_step in enumerate(candidate_steps):\n",
    "    state_transition_matrix = get_state_transition_matrix(forecast_t2_candidate_step)\n",
    "\n",
    "    joint_prob_obs_state_forecast_t2 = (joint_prob_obs0_state_t1 @ state_transition_matrix) * EMISSION_MATRIX_B\n",
    "    likelihood_obs_from_target_forecast_t2 = joint_prob_obs_state_forecast_t2.sum(axis=1)\n",
    "    likelihood_obs_from_target_forecast_t2_given_obs0_at_t1 = likelihood_obs_from_target_forecast_t2 / likelihood_obs0_from_target_t1\n",
    "\n",
    "    likelihood_obs0_forecast_t2_given_obs0_at_t1 = np.array([likelihood_obs_from_target_forecast_t2_given_obs0_at_t1[0], LIKELIHOOD_OBS_FROM_NONTARGET])\n",
    "    posterior_forecast_given_obs0_t2 = (posterior_t1 * likelihood_obs0_forecast_t2_given_obs0_at_t1) / (posterior_t1 * likelihood_obs0_forecast_t2_given_obs0_at_t1).sum()\n",
    "\n",
    "    likelihood_obs1_forecast_t2_given_obs0_at_t1 = np.array([likelihood_obs_from_target_forecast_t2_given_obs0_at_t1[1], LIKELIHOOD_OBS_FROM_NONTARGET])\n",
    "    posterior_forecast_given_obs1_t2 = (posterior_t1 * likelihood_obs1_forecast_t2_given_obs0_at_t1) / (posterior_t1 * likelihood_obs1_forecast_t2_given_obs0_at_t1).sum()\n",
    "    forecasted_S0 = (-posterior_forecast_given_obs0_t2 * np.log2(posterior_forecast_given_obs0_t2)).sum()\n",
    "    forecasted_S1 = (-posterior_forecast_given_obs1_t2 * np.log2(posterior_forecast_given_obs1_t2)).sum()\n",
    "\n",
    "    prob_obs0_at_forecast_t2_given_obs0_at_t1 = (posterior_t1 * np.array([likelihood_obs_from_target_forecast_t2_given_obs0_at_t1[0], LIKELIHOOD_OBS_FROM_NONTARGET])).sum()\n",
    "    prob_obs1_at_forecast_t2_given_obs0_at_t1 = (posterior_t1 * np.array([likelihood_obs_from_target_forecast_t2_given_obs0_at_t1[1], LIKELIHOOD_OBS_FROM_NONTARGET])).sum()\n",
    "\n",
    "    expected_forecast_t2_S = (forecasted_S0 * prob_obs0_at_forecast_t2_given_obs0_at_t1) + (forecasted_S1 * prob_obs1_at_forecast_t2_given_obs0_at_t1)\n",
    "    expected_forecast_t2_S_per_step[i] = expected_forecast_t2_S\n",
    "\n",
    "deltaS_t1 = current_entropyS_t1 - expected_forecast_t2_S_per_step"
   ]
  },
  {
   "cell_type": "code",
   "execution_count": 57,
   "id": "d61ce172",
   "metadata": {},
   "outputs": [
    {
     "data": {
      "text/plain": [
       "np.float64(1.5707963267948966)"
      ]
     },
     "execution_count": 57,
     "metadata": {},
     "output_type": "execute_result"
    }
   ],
   "source": [
    "if (deltaS_t1==(deltaS_t1.max())).all():\n",
    "    step_to_take = candidate_steps[1]\n",
    "else:\n",
    "    step_to_take = candidate_steps[deltaS_t1.argmax()]\n",
    "step_to_take"
   ]
  },
  {
   "cell_type": "code",
   "execution_count": 58,
   "id": "b7a9542a",
   "metadata": {},
   "outputs": [
    {
     "data": {
      "text/plain": [
       "(np.float64(90.0), 1)"
      ]
     },
     "execution_count": 58,
     "metadata": {},
     "output_type": "execute_result"
    }
   ],
   "source": [
    "updated_angle = initial_angle + np.rad2deg(step_to_take)\n",
    "\n",
    "if updated_angle >= 60 and updated_angle <= 120:\n",
    "    code_received = 1\n",
    "else:\n",
    "    code_received = 0\n",
    "updated_angle, code_received"
   ]
  },
  {
   "cell_type": "code",
   "execution_count": 60,
   "id": "578ed2ee",
   "metadata": {},
   "outputs": [
    {
     "data": {
      "text/plain": [
       "np.float64(0.9447947327666398)"
      ]
     },
     "execution_count": 60,
     "metadata": {},
     "output_type": "execute_result"
    }
   ],
   "source": [
    "state_transition_matrix = get_state_transition_matrix(step_to_take)\n",
    "\n",
    "joint_prob_obs_state_t2 = (joint_prob_obs0_state_t1 @ state_transition_matrix) * EMISSION_MATRIX_B\n",
    "joint_prob_obs1_state_t2 = joint_prob_obs_state_t2[code_received]\n",
    "likelihood_obs1_from_target_t2 = joint_prob_obs1_state_t2.sum()\n",
    "\n",
    "likelihood_obs1_from_target_given_obs0_at_t1 = likelihood_obs1_from_target_t2 / likelihood_obs0_from_target_t1\n",
    "likelihood_obs1_given_obs0_at_t1 = np.array([likelihood_obs1_from_target_given_obs0_at_t1, LIKELIHOOD_OBS_FROM_NONTARGET])\n",
    "\n",
    "posterior_given_obs1_t2 = (posterior_t1*likelihood_obs1_given_obs0_at_t1) / (posterior_t1*likelihood_obs1_given_obs0_at_t1).sum()\n",
    "current_entropyS_t2 = (-posterior_given_obs1_t2*np.log2(posterior_given_obs1_t2)).sum()\n",
    "current_entropyS_t2"
   ]
  },
  {
   "cell_type": "code",
   "execution_count": null,
   "id": "d074f92b",
   "metadata": {},
   "outputs": [],
   "source": [
    "candidate_steps = np.array([-np.pi/2, np.pi/2])\n",
    "expected_forecast_t3_S_per_step = np.zeros(candidate_steps.shape[0])"
   ]
  },
  {
   "cell_type": "code",
   "execution_count": null,
   "id": "258a2d07",
   "metadata": {},
   "outputs": [
    {
     "data": {
      "text/plain": [
       "array([0.11397941, 0.08123557])"
      ]
     },
     "execution_count": 17,
     "metadata": {},
     "output_type": "execute_result"
    }
   ],
   "source": [
    "for i, forecast_t3_candidate_step in enumerate(candidate_steps):\n",
    "    state_transition_matrix = get_state_transition_matrix(forecast_t3_candidate_step)\n",
    "\n",
    "    joint_prob_obs_state_forecast_t3 = (joint_prob_obs1_state_t2 @ state_transition_matrix) * EMISSION_MATRIX_B\n",
    "    likelihood_obs_from_target_forecast_t3 = joint_prob_obs_state_forecast_t3.sum(axis=1)\n",
    "    likelihood_obs_from_target_forecast_t3_given_obs_until_t2 = likelihood_obs_from_target_forecast_t3 / likelihood_obs1_from_target_t2\n",
    "\n",
    "    likelihood_obs0_forecast_t3_given_obs_until_t2 = np.array([likelihood_obs_from_target_forecast_t3_given_obs_until_t2[0], LIKELIHOOD_OBS_FROM_NONTARGET])\n",
    "    posterior_forecast_given_obs0_t3 = (posterior_given_obs1_t2 * likelihood_obs0_forecast_t3_given_obs_until_t2) / (posterior_given_obs1_t2 * likelihood_obs0_forecast_t3_given_obs_until_t2).sum()\n",
    "\n",
    "    likelihood_obs1_forecast_t3_given_obs_until_t2 = np.array([likelihood_obs_from_target_forecast_t3_given_obs_until_t2[1], LIKELIHOOD_OBS_FROM_NONTARGET])\n",
    "    posterior_forecast_given_obs1_t3 = (posterior_given_obs1_t2 * likelihood_obs1_forecast_t3_given_obs_until_t2) / (posterior_given_obs1_t2 * likelihood_obs1_forecast_t3_given_obs_until_t2).sum()\n",
    "\n",
    "    forecasted_S0 = (-posterior_forecast_given_obs0_t3 * np.log2(posterior_forecast_given_obs0_t3)).sum()\n",
    "    forecasted_S1 = (-posterior_forecast_given_obs1_t3 * np.log2(posterior_forecast_given_obs1_t3)).sum()\n",
    "\n",
    "    prob_obs0_at_forecast_t3_given_obs_until_t2 = (posterior_given_obs1_t2 * np.array([likelihood_obs_from_target_forecast_t3_given_obs_until_t2[0], LIKELIHOOD_OBS_FROM_NONTARGET])).sum()\n",
    "    prob_obs1_at_forecast_t3_given_obs_until_t2 = (posterior_given_obs1_t2 * np.array([likelihood_obs_from_target_forecast_t3_given_obs_until_t2[1], LIKELIHOOD_OBS_FROM_NONTARGET])).sum()\n",
    "\n",
    "    expected_forecast_t3_S = (forecasted_S0 * prob_obs0_at_forecast_t3_given_obs_until_t2) + (forecasted_S1 * prob_obs1_at_forecast_t3_given_obs_until_t2)\n",
    "    expected_forecast_t3_S_per_step[i] = expected_forecast_t3_S\n",
    "\n",
    "deltaS_t2 = current_entropyS_t2 - expected_forecast_t3_S_per_step\n",
    "deltaS_t2"
   ]
  },
  {
   "cell_type": "code",
   "execution_count": null,
   "id": "50939be4",
   "metadata": {},
   "outputs": [
    {
     "data": {
      "text/plain": [
       "np.float64(-1.5707963267948966)"
      ]
     },
     "execution_count": 18,
     "metadata": {},
     "output_type": "execute_result"
    }
   ],
   "source": [
    "if (deltaS_t2==(deltaS_t2.max())).all():\n",
    "    step_to_take = candidate_steps[1]\n",
    "else:\n",
    "    step_to_take = candidate_steps[deltaS_t2.argmax()]\n",
    "step_to_take"
   ]
  },
  {
   "cell_type": "code",
   "execution_count": null,
   "id": "06c052cc",
   "metadata": {},
   "outputs": [
    {
     "data": {
      "text/plain": [
       "(np.float64(0.0), 0)"
      ]
     },
     "execution_count": 19,
     "metadata": {},
     "output_type": "execute_result"
    }
   ],
   "source": [
    "updated_angle = updated_angle + np.rad2deg(step_to_take)\n",
    "\n",
    "if updated_angle >= 60 and updated_angle <= 120:\n",
    "    code_received = 1\n",
    "else:\n",
    "    code_received = 0\n",
    "updated_angle, code_received"
   ]
  },
  {
   "cell_type": "code",
   "execution_count": null,
   "id": "c8655c69",
   "metadata": {},
   "outputs": [
    {
     "data": {
      "text/plain": [
       "np.float64(0.9999999078178262)"
      ]
     },
     "execution_count": 20,
     "metadata": {},
     "output_type": "execute_result"
    }
   ],
   "source": [
    "state_transition_matrix = get_state_transition_matrix(step_to_take)\n",
    "\n",
    "joint_prob_obs_state_t3 = (joint_prob_obs1_state_t2 @ state_transition_matrix) * EMISSION_MATRIX_B\n",
    "joint_prob_obs0_state_t3 = joint_prob_obs_state_t3[code_received]\n",
    "likelihood_obs0_from_target_t3 = joint_prob_obs0_state_t3.sum()\n",
    "\n",
    "likelihood_obs0_from_target_given_obs_until_t2 = likelihood_obs0_from_target_t3 / likelihood_obs1_from_target_t2\n",
    "likelihood_obs0_given_obs_until_t2 = np.array([likelihood_obs0_from_target_given_obs_until_t2, LIKELIHOOD_OBS_FROM_NONTARGET])\n",
    "\n",
    "posterior_given_obs0_t3 = (posterior_given_obs1_t2*likelihood_obs0_given_obs_until_t2) / (posterior_given_obs1_t2*likelihood_obs0_given_obs_until_t2).sum()\n",
    "current_entropyS_t3 = (-posterior_given_obs0_t3*np.log2(posterior_given_obs0_t3)).sum()\n",
    "current_entropyS_t3"
   ]
  },
  {
   "cell_type": "code",
   "execution_count": null,
   "id": "208e8a78",
   "metadata": {},
   "outputs": [],
   "source": [
    "candidate_steps = np.array([-np.pi/2, np.pi/2])\n",
    "expected_forecast_t4_S_per_step = np.zeros(candidate_steps.shape[0])"
   ]
  },
  {
   "cell_type": "code",
   "execution_count": null,
   "id": "4cd8de92",
   "metadata": {},
   "outputs": [
    {
     "data": {
      "text/plain": [
       "array([0.20219164, 0.03067742])"
      ]
     },
     "execution_count": 22,
     "metadata": {},
     "output_type": "execute_result"
    }
   ],
   "source": [
    "for i, forecast_t4_candidate_step in enumerate(candidate_steps):\n",
    "    state_transition_matrix = get_state_transition_matrix(forecast_t4_candidate_step)\n",
    "\n",
    "    joint_prob_obs_state_forecast_t4 = (joint_prob_obs0_state_t3 @ state_transition_matrix) * EMISSION_MATRIX_B\n",
    "    likelihood_obs_from_target_forecast_t4 = joint_prob_obs_state_forecast_t4.sum(axis=1)\n",
    "    likelihood_obs_from_target_forecast_t4_given_obs_until_t3 = likelihood_obs_from_target_forecast_t4 / likelihood_obs0_from_target_t3\n",
    "\n",
    "    likelihood_obs0_forecast_t4_given_obs_until_t3 = np.array([likelihood_obs_from_target_forecast_t4_given_obs_until_t3[0], LIKELIHOOD_OBS_FROM_NONTARGET])\n",
    "    posterior_forecast_given_obs0_t4 = (posterior_given_obs0_t3 * likelihood_obs0_forecast_t4_given_obs_until_t3) / (posterior_given_obs0_t3 * likelihood_obs0_forecast_t4_given_obs_until_t3).sum()\n",
    "\n",
    "    likelihood_obs1_forecast_t4_given_obs_until_t3 = np.array([likelihood_obs_from_target_forecast_t4_given_obs_until_t3[1], LIKELIHOOD_OBS_FROM_NONTARGET])\n",
    "    posterior_forecast_given_obs1_t4 = (posterior_given_obs0_t3 * likelihood_obs1_forecast_t4_given_obs_until_t3) / (posterior_given_obs0_t3 * likelihood_obs1_forecast_t4_given_obs_until_t3).sum()\n",
    "\n",
    "    forecasted_S0 = (-posterior_forecast_given_obs0_t4 * np.log2(posterior_forecast_given_obs0_t4)).sum()\n",
    "    forecasted_S1 = (-posterior_forecast_given_obs1_t4 * np.log2(posterior_forecast_given_obs1_t4)).sum()\n",
    "\n",
    "    prob_obs0_at_forecast_t4_given_obs_until_t3 = (posterior_given_obs0_t3 * np.array([likelihood_obs_from_target_forecast_t4_given_obs_until_t3[0], LIKELIHOOD_OBS_FROM_NONTARGET])).sum()\n",
    "    prob_obs1_at_forecast_t4_given_obs_until_t3 = (posterior_given_obs0_t3 * np.array([likelihood_obs_from_target_forecast_t4_given_obs_until_t3[1], LIKELIHOOD_OBS_FROM_NONTARGET])).sum()\n",
    "\n",
    "    expected_forecast_t4_S = (forecasted_S0 * prob_obs0_at_forecast_t4_given_obs_until_t3) + (forecasted_S1 * prob_obs1_at_forecast_t4_given_obs_until_t3)\n",
    "    expected_forecast_t4_S_per_step[i] = expected_forecast_t4_S\n",
    "\n",
    "deltaS_t3 = current_entropyS_t3 - expected_forecast_t4_S_per_step\n",
    "deltaS_t3"
   ]
  },
  {
   "cell_type": "code",
   "execution_count": null,
   "id": "ccdb4267",
   "metadata": {},
   "outputs": [
    {
     "data": {
      "text/plain": [
       "np.float64(-1.5707963267948966)"
      ]
     },
     "execution_count": 23,
     "metadata": {},
     "output_type": "execute_result"
    }
   ],
   "source": [
    "if (deltaS_t3==(deltaS_t3.max())).all():\n",
    "    step_to_take = candidate_steps[1]\n",
    "else:\n",
    "    step_to_take = candidate_steps[deltaS_t3.argmax()]\n",
    "step_to_take"
   ]
  },
  {
   "cell_type": "code",
   "execution_count": null,
   "id": "53f05535",
   "metadata": {},
   "outputs": [
    {
     "data": {
      "text/plain": [
       "(np.float64(-90.0), 0)"
      ]
     },
     "execution_count": 24,
     "metadata": {},
     "output_type": "execute_result"
    }
   ],
   "source": [
    "updated_angle = updated_angle + np.rad2deg(step_to_take)\n",
    "\n",
    "if updated_angle >= 60 and updated_angle <= 120:\n",
    "    code_received = 1\n",
    "else:\n",
    "    code_received = 0\n",
    "updated_angle, code_received"
   ]
  },
  {
   "cell_type": "code",
   "execution_count": null,
   "id": "ab57581c",
   "metadata": {},
   "outputs": [
    {
     "data": {
      "text/plain": [
       "np.float64(0.9300034899902334)"
      ]
     },
     "execution_count": 25,
     "metadata": {},
     "output_type": "execute_result"
    }
   ],
   "source": [
    "state_transition_matrix = get_state_transition_matrix(step_to_take)\n",
    "\n",
    "joint_prob_obs_state_t4 = (joint_prob_obs0_state_t3 @ state_transition_matrix) * EMISSION_MATRIX_B\n",
    "joint_prob_obs0_state_t4 = joint_prob_obs_state_t4[code_received]\n",
    "likelihood_obs0_from_target_t4 = joint_prob_obs0_state_t4.sum()\n",
    "\n",
    "likelihood_obs0_from_target_given_obs_until_t3 = likelihood_obs0_from_target_t4 / likelihood_obs0_from_target_t3\n",
    "likelihood_obs0_given_obs_until_t3 = np.array([likelihood_obs0_from_target_given_obs_until_t3, LIKELIHOOD_OBS_FROM_NONTARGET])\n",
    "\n",
    "posterior_given_obs0_t4 = (posterior_given_obs0_t3*likelihood_obs0_given_obs_until_t3) / (posterior_given_obs0_t3*likelihood_obs0_given_obs_until_t3).sum()\n",
    "current_entropyS_t4 = (-posterior_given_obs0_t4*np.log2(posterior_given_obs0_t4)).sum()\n",
    "current_entropyS_t4"
   ]
  },
  {
   "cell_type": "code",
   "execution_count": null,
   "id": "12115cd3",
   "metadata": {},
   "outputs": [],
   "source": [
    "candidate_steps = np.array([-np.pi/2, np.pi/2])\n",
    "expected_forecast_t5_S_per_step = np.zeros(candidate_steps.shape[0])"
   ]
  },
  {
   "cell_type": "code",
   "execution_count": null,
   "id": "4688ab4c",
   "metadata": {},
   "outputs": [
    {
     "data": {
      "text/plain": [
       "array([0.04427535, 0.12753681])"
      ]
     },
     "execution_count": 27,
     "metadata": {},
     "output_type": "execute_result"
    }
   ],
   "source": [
    "for i, forecast_t5_candidate_step in enumerate(candidate_steps):\n",
    "    state_transition_matrix = get_state_transition_matrix(forecast_t5_candidate_step)\n",
    "\n",
    "    joint_prob_obs_state_forecast_t5 = (joint_prob_obs0_state_t4 @ state_transition_matrix) * EMISSION_MATRIX_B\n",
    "    likelihood_obs_from_target_forecast_t5 = joint_prob_obs_state_forecast_t5.sum(axis=1)\n",
    "    likelihood_obs_from_target_forecast_t5_given_obs_until_t4 = likelihood_obs_from_target_forecast_t5 / likelihood_obs0_from_target_t4\n",
    "\n",
    "    likelihood_obs0_forecast_t5_given_obs_until_t4 = np.array([likelihood_obs_from_target_forecast_t5_given_obs_until_t4[0], LIKELIHOOD_OBS_FROM_NONTARGET])\n",
    "    posterior_forecast_given_obs0_t5 = (posterior_given_obs0_t4 * likelihood_obs0_forecast_t5_given_obs_until_t4) / (posterior_given_obs0_t4 * likelihood_obs0_forecast_t5_given_obs_until_t4).sum()\n",
    "\n",
    "    likelihood_obs1_forecast_t5_given_obs_until_t4 = np.array([likelihood_obs_from_target_forecast_t5_given_obs_until_t4[1], LIKELIHOOD_OBS_FROM_NONTARGET])\n",
    "    posterior_forecast_given_obs1_t5 = (posterior_given_obs0_t4 * likelihood_obs1_forecast_t5_given_obs_until_t4) / (posterior_given_obs0_t4 * likelihood_obs1_forecast_t5_given_obs_until_t4).sum()\n",
    "\n",
    "    forecasted_S0 = (-posterior_forecast_given_obs0_t5 * np.log2(posterior_forecast_given_obs0_t5)).sum()\n",
    "    forecasted_S1 = (-posterior_forecast_given_obs1_t5 * np.log2(posterior_forecast_given_obs1_t5)).sum()\n",
    "\n",
    "    prob_obs0_at_forecast_t5_given_obs_until_t4 = (posterior_given_obs0_t4 * np.array([likelihood_obs_from_target_forecast_t5_given_obs_until_t4[0], LIKELIHOOD_OBS_FROM_NONTARGET])).sum()\n",
    "    prob_obs1_at_forecast_t5_given_obs_until_t4 = (posterior_given_obs0_t4 * np.array([likelihood_obs_from_target_forecast_t5_given_obs_until_t4[1], LIKELIHOOD_OBS_FROM_NONTARGET])).sum()\n",
    "\n",
    "    expected_forecast_t5_S = (forecasted_S0 * prob_obs0_at_forecast_t5_given_obs_until_t4) + (forecasted_S1 * prob_obs1_at_forecast_t5_given_obs_until_t4)\n",
    "    expected_forecast_t5_S_per_step[i] = expected_forecast_t5_S\n",
    "\n",
    "deltaS_t4 = current_entropyS_t4 - expected_forecast_t5_S_per_step\n",
    "deltaS_t4"
   ]
  },
  {
   "cell_type": "code",
   "execution_count": null,
   "id": "e3b85fdb",
   "metadata": {},
   "outputs": [
    {
     "data": {
      "text/plain": [
       "np.float64(1.5707963267948966)"
      ]
     },
     "execution_count": 28,
     "metadata": {},
     "output_type": "execute_result"
    }
   ],
   "source": [
    "if (deltaS_t4==(deltaS_t4.max())).all():\n",
    "    step_to_take = candidate_steps[1]\n",
    "else:\n",
    "    step_to_take = candidate_steps[deltaS_t4.argmax()]\n",
    "step_to_take"
   ]
  },
  {
   "cell_type": "code",
   "execution_count": null,
   "id": "54ed9d46",
   "metadata": {},
   "outputs": [
    {
     "data": {
      "text/plain": [
       "(np.float64(0.0), 0)"
      ]
     },
     "execution_count": 29,
     "metadata": {},
     "output_type": "execute_result"
    }
   ],
   "source": [
    "updated_angle = updated_angle + np.rad2deg(step_to_take)\n",
    "\n",
    "if updated_angle >= 60 and updated_angle <= 120:\n",
    "    code_received = 1\n",
    "else:\n",
    "    code_received = 0\n",
    "updated_angle, code_received"
   ]
  },
  {
   "cell_type": "code",
   "execution_count": null,
   "id": "65b3a436",
   "metadata": {},
   "outputs": [
    {
     "data": {
      "text/plain": [
       "np.float64(0.7768289111851792)"
      ]
     },
     "execution_count": 30,
     "metadata": {},
     "output_type": "execute_result"
    }
   ],
   "source": [
    "state_transition_matrix = get_state_transition_matrix(step_to_take)\n",
    "\n",
    "joint_prob_obs_state_t5 = (joint_prob_obs0_state_t4 @ state_transition_matrix) * EMISSION_MATRIX_B\n",
    "joint_prob_obs0_state_t5 = joint_prob_obs_state_t5[code_received]\n",
    "likelihood_obs0_from_target_t5 = joint_prob_obs0_state_t5.sum()\n",
    "\n",
    "likelihood_obs0_from_target_given_obs_until_t4 = likelihood_obs0_from_target_t5 / likelihood_obs0_from_target_t4\n",
    "likelihood_obs0_given_obs_until_t4 = np.array([likelihood_obs0_from_target_given_obs_until_t4, LIKELIHOOD_OBS_FROM_NONTARGET])\n",
    "\n",
    "posterior_given_obs0_t5 = (posterior_given_obs0_t4*likelihood_obs0_given_obs_until_t4) / (posterior_given_obs0_t4*likelihood_obs0_given_obs_until_t4).sum()\n",
    "current_entropyS_t5 = (-posterior_given_obs0_t5*np.log2(posterior_given_obs0_t5)).sum()\n",
    "current_entropyS_t5"
   ]
  },
  {
   "cell_type": "code",
   "execution_count": null,
   "id": "7b2f6bf8",
   "metadata": {},
   "outputs": [],
   "source": [
    "candidate_steps = np.array([-np.pi/2, np.pi/2])\n",
    "expected_forecast_t6_S_per_step = np.zeros(candidate_steps.shape[0])"
   ]
  },
  {
   "cell_type": "code",
   "execution_count": null,
   "id": "0aee5918",
   "metadata": {},
   "outputs": [
    {
     "data": {
      "text/plain": [
       "array([0.14514375, 0.02558569])"
      ]
     },
     "execution_count": 32,
     "metadata": {},
     "output_type": "execute_result"
    }
   ],
   "source": [
    "for i, forecast_t6_candidate_step in enumerate(candidate_steps):\n",
    "    state_transition_matrix = get_state_transition_matrix(forecast_t6_candidate_step)\n",
    "\n",
    "    joint_prob_obs_state_forecast_t6 = (joint_prob_obs0_state_t5 @ state_transition_matrix) * EMISSION_MATRIX_B\n",
    "    likelihood_obs_from_target_forecast_t6 = joint_prob_obs_state_forecast_t6.sum(axis=1)\n",
    "    likelihood_obs_from_target_forecast_t6_given_obs_until_t5 = likelihood_obs_from_target_forecast_t6 / likelihood_obs0_from_target_t5\n",
    "\n",
    "    likelihood_obs0_forecast_t6_given_obs_until_t5 = np.array([likelihood_obs_from_target_forecast_t6_given_obs_until_t5[0], LIKELIHOOD_OBS_FROM_NONTARGET])\n",
    "    posterior_forecast_given_obs0_t6 = (posterior_given_obs0_t5 * likelihood_obs0_forecast_t6_given_obs_until_t5) / (posterior_given_obs0_t5 * likelihood_obs0_forecast_t6_given_obs_until_t5).sum()\n",
    "\n",
    "    likelihood_obs1_forecast_t6_given_obs_until_t5 = np.array([likelihood_obs_from_target_forecast_t6_given_obs_until_t5[1], LIKELIHOOD_OBS_FROM_NONTARGET])\n",
    "    posterior_forecast_given_obs1_t6 = (posterior_given_obs0_t5 * likelihood_obs1_forecast_t6_given_obs_until_t5) / (posterior_given_obs0_t5 * likelihood_obs1_forecast_t6_given_obs_until_t5).sum()\n",
    "\n",
    "    forecasted_S0 = (-posterior_forecast_given_obs0_t6 * np.log2(posterior_forecast_given_obs0_t6)).sum()\n",
    "    forecasted_S1 = (-posterior_forecast_given_obs1_t6 * np.log2(posterior_forecast_given_obs1_t6)).sum()\n",
    "\n",
    "    prob_obs0_at_forecast_t6_given_obs_until_t5 = (posterior_given_obs0_t5 * np.array([likelihood_obs_from_target_forecast_t6_given_obs_until_t5[0], LIKELIHOOD_OBS_FROM_NONTARGET])).sum()\n",
    "    prob_obs1_at_forecast_t6_given_obs_until_t5 = (posterior_given_obs0_t5 * np.array([likelihood_obs_from_target_forecast_t6_given_obs_until_t5[1], LIKELIHOOD_OBS_FROM_NONTARGET])).sum()\n",
    "\n",
    "    expected_forecast_t6_S = (forecasted_S0 * prob_obs0_at_forecast_t6_given_obs_until_t5) + (forecasted_S1 * prob_obs1_at_forecast_t6_given_obs_until_t5)\n",
    "    expected_forecast_t6_S_per_step[i] = expected_forecast_t6_S\n",
    "\n",
    "deltaS_t5 = current_entropyS_t5 - expected_forecast_t6_S_per_step\n",
    "deltaS_t5"
   ]
  },
  {
   "cell_type": "code",
   "execution_count": null,
   "id": "57d3a4b1",
   "metadata": {},
   "outputs": [
    {
     "data": {
      "text/plain": [
       "np.float64(-1.5707963267948966)"
      ]
     },
     "execution_count": 33,
     "metadata": {},
     "output_type": "execute_result"
    }
   ],
   "source": [
    "if (deltaS_t5==(deltaS_t5.max())).all():\n",
    "    step_to_take = candidate_steps[1]\n",
    "else:\n",
    "    step_to_take = candidate_steps[deltaS_t5.argmax()]\n",
    "step_to_take"
   ]
  },
  {
   "cell_type": "code",
   "execution_count": null,
   "id": "925446a4",
   "metadata": {},
   "outputs": [
    {
     "data": {
      "text/plain": [
       "(np.float64(-90.0), 0)"
      ]
     },
     "execution_count": 34,
     "metadata": {},
     "output_type": "execute_result"
    }
   ],
   "source": [
    "updated_angle = updated_angle + np.rad2deg(step_to_take)\n",
    "\n",
    "if updated_angle >= 60 and updated_angle <= 120:\n",
    "    code_received = 1\n",
    "else:\n",
    "    code_received = 0\n",
    "updated_angle, code_received"
   ]
  },
  {
   "cell_type": "code",
   "execution_count": null,
   "id": "27855296",
   "metadata": {},
   "outputs": [
    {
     "data": {
      "text/plain": [
       "np.float64(0.5781562917283571)"
      ]
     },
     "execution_count": 35,
     "metadata": {},
     "output_type": "execute_result"
    }
   ],
   "source": [
    "state_transition_matrix = get_state_transition_matrix(step_to_take)\n",
    "\n",
    "joint_prob_obs_state_t6 = (joint_prob_obs0_state_t5 @ state_transition_matrix) * EMISSION_MATRIX_B\n",
    "joint_prob_obs0_state_t6 = joint_prob_obs_state_t6[code_received]\n",
    "likelihood_obs0_from_target_t6 = joint_prob_obs0_state_t6.sum()\n",
    "\n",
    "likelihood_obs0_from_target_given_obs_until_t5 = likelihood_obs0_from_target_t6 / likelihood_obs0_from_target_t5\n",
    "likelihood_obs0_given_obs_until_t5 = np.array([likelihood_obs0_from_target_given_obs_until_t5, LIKELIHOOD_OBS_FROM_NONTARGET])\n",
    "\n",
    "posterior_given_obs0_t6 = (posterior_given_obs0_t5*likelihood_obs0_given_obs_until_t5) / (posterior_given_obs0_t5*likelihood_obs0_given_obs_until_t5).sum()\n",
    "current_entropyS_t6 = (-posterior_given_obs0_t6*np.log2(posterior_given_obs0_t6)).sum()\n",
    "current_entropyS_t6"
   ]
  },
  {
   "cell_type": "code",
   "execution_count": null,
   "id": "0eb7f637",
   "metadata": {},
   "outputs": [],
   "source": [
    "candidate_steps = np.array([-np.pi/2, np.pi/2])\n",
    "expected_forecast_t7_S_per_step = np.zeros(candidate_steps.shape[0])"
   ]
  },
  {
   "cell_type": "code",
   "execution_count": null,
   "id": "697fe845",
   "metadata": {},
   "outputs": [
    {
     "data": {
      "text/plain": [
       "array([0.02291352, 0.07681876])"
      ]
     },
     "execution_count": 39,
     "metadata": {},
     "output_type": "execute_result"
    }
   ],
   "source": [
    "for i, forecast_t7_candidate_step in enumerate(candidate_steps):\n",
    "    state_transition_matrix = get_state_transition_matrix(forecast_t7_candidate_step)\n",
    "\n",
    "    joint_prob_obs_state_forecast_t7 = (joint_prob_obs0_state_t6 @ state_transition_matrix) * EMISSION_MATRIX_B\n",
    "    likelihood_obs_from_target_forecast_t7 = joint_prob_obs_state_forecast_t7.sum(axis=1)\n",
    "    likelihood_obs_from_target_forecast_t7_given_obs_until_t6 = likelihood_obs_from_target_forecast_t7 / likelihood_obs0_from_target_t6\n",
    "\n",
    "    likelihood_obs0_forecast_t7_given_obs_until_t6 = np.array([likelihood_obs_from_target_forecast_t7_given_obs_until_t6[0], LIKELIHOOD_OBS_FROM_NONTARGET])\n",
    "    posterior_forecast_given_obs0_t7 = (posterior_given_obs0_t6 * likelihood_obs0_forecast_t7_given_obs_until_t6) / (posterior_given_obs0_t6 * likelihood_obs0_forecast_t7_given_obs_until_t6).sum()\n",
    "\n",
    "    likelihood_obs1_forecast_t7_given_obs_until_t6 = np.array([likelihood_obs_from_target_forecast_t7_given_obs_until_t6[1], LIKELIHOOD_OBS_FROM_NONTARGET])\n",
    "    posterior_forecast_given_obs1_t7 = (posterior_given_obs0_t6 * likelihood_obs1_forecast_t7_given_obs_until_t6) / (posterior_given_obs0_t6 * likelihood_obs1_forecast_t7_given_obs_until_t6).sum()\n",
    "\n",
    "    forecasted_S0 = (-posterior_forecast_given_obs0_t7 * np.log2(posterior_forecast_given_obs0_t7)).sum()\n",
    "    forecasted_S1 = (-posterior_forecast_given_obs1_t7 * np.log2(posterior_forecast_given_obs1_t7)).sum()\n",
    "\n",
    "    prob_obs0_at_forecast_t7_given_obs_until_t6 = (posterior_given_obs0_t6 * np.array([likelihood_obs_from_target_forecast_t7_given_obs_until_t6[0], LIKELIHOOD_OBS_FROM_NONTARGET])).sum()\n",
    "    prob_obs1_at_forecast_t7_given_obs_until_t6 = (posterior_given_obs0_t6 * np.array([likelihood_obs_from_target_forecast_t7_given_obs_until_t6[1], LIKELIHOOD_OBS_FROM_NONTARGET])).sum()\n",
    "\n",
    "    expected_forecast_t7_S = (forecasted_S0 * prob_obs0_at_forecast_t7_given_obs_until_t6) + (forecasted_S1 * prob_obs1_at_forecast_t7_given_obs_until_t6)\n",
    "    expected_forecast_t7_S_per_step[i] = expected_forecast_t7_S\n",
    "\n",
    "deltaS_t6 = current_entropyS_t6 - expected_forecast_t7_S_per_step\n",
    "deltaS_t6"
   ]
  },
  {
   "cell_type": "code",
   "execution_count": null,
   "id": "86291162",
   "metadata": {},
   "outputs": [
    {
     "data": {
      "text/plain": [
       "np.float64(1.5707963267948966)"
      ]
     },
     "execution_count": 40,
     "metadata": {},
     "output_type": "execute_result"
    }
   ],
   "source": [
    "if (deltaS_t6==(deltaS_t6.max())).all():\n",
    "    step_to_take = candidate_steps[1]\n",
    "else:\n",
    "    step_to_take = candidate_steps[deltaS_t6.argmax()]\n",
    "step_to_take"
   ]
  },
  {
   "cell_type": "code",
   "execution_count": null,
   "id": "ea73043f",
   "metadata": {},
   "outputs": [
    {
     "data": {
      "text/plain": [
       "(np.float64(0.0), 0)"
      ]
     },
     "execution_count": 41,
     "metadata": {},
     "output_type": "execute_result"
    }
   ],
   "source": [
    "updated_angle = updated_angle + np.rad2deg(step_to_take)\n",
    "\n",
    "if updated_angle >= 60 and updated_angle <= 120:\n",
    "    code_received = 1\n",
    "else:\n",
    "    code_received = 0\n",
    "updated_angle, code_received"
   ]
  },
  {
   "cell_type": "code",
   "execution_count": null,
   "id": "fa0cb00d",
   "metadata": {},
   "outputs": [
    {
     "data": {
      "text/plain": [
       "np.float64(0.4090386372424645)"
      ]
     },
     "execution_count": 42,
     "metadata": {},
     "output_type": "execute_result"
    }
   ],
   "source": [
    "state_transition_matrix = get_state_transition_matrix(step_to_take)\n",
    "\n",
    "joint_prob_obs_state_t7 = (joint_prob_obs0_state_t6 @ state_transition_matrix) * EMISSION_MATRIX_B\n",
    "joint_prob_obs0_state_t7 = joint_prob_obs_state_t7[code_received]\n",
    "likelihood_obs0_from_target_t7 = joint_prob_obs0_state_t7.sum()\n",
    "\n",
    "likelihood_obs0_from_target_given_obs_until_t6 = likelihood_obs0_from_target_t7 / likelihood_obs0_from_target_t6\n",
    "likelihood_obs0_given_obs_until_t6 = np.array([likelihood_obs0_from_target_given_obs_until_t6, LIKELIHOOD_OBS_FROM_NONTARGET])\n",
    "\n",
    "posterior_given_obs0_t7 = (posterior_given_obs0_t6*likelihood_obs0_given_obs_until_t6) / (posterior_given_obs0_t6*likelihood_obs0_given_obs_until_t6).sum()\n",
    "current_entropyS_t7 = (-posterior_given_obs0_t7*np.log2(posterior_given_obs0_t7)).sum()\n",
    "current_entropyS_t7"
   ]
  },
  {
   "cell_type": "code",
   "execution_count": null,
   "id": "2ac690f9",
   "metadata": {},
   "outputs": [
    {
     "data": {
      "text/plain": [
       "(array([0.5, 0.5]),\n",
       " array([0.625, 0.375]),\n",
       " array([0.36256866, 0.63743134]),\n",
       " array([0.49982126, 0.50017874]),\n",
       " array([0.65447976, 0.34552024]),\n",
       " array([0.77067721, 0.22932279]),\n",
       " array([0.86231027, 0.13768973]),\n",
       " array([0.91804269, 0.08195731]))"
      ]
     },
     "execution_count": 44,
     "metadata": {},
     "output_type": "execute_result"
    }
   ],
   "source": [
    "PRIOR_TARGET_PROB, posterior_t1, posterior_given_obs1_t2, posterior_given_obs0_t3, posterior_given_obs0_t4, posterior_given_obs0_t5, posterior_given_obs0_t6, posterior_given_obs0_t7"
   ]
  }
 ],
 "metadata": {
  "kernelspec": {
   "display_name": "muri-info",
   "language": "python",
   "name": "python3"
  },
  "language_info": {
   "codemirror_mode": {
    "name": "ipython",
    "version": 3
   },
   "file_extension": ".py",
   "mimetype": "text/x-python",
   "name": "python",
   "nbconvert_exporter": "python",
   "pygments_lexer": "ipython3",
   "version": "3.13.5"
  }
 },
 "nbformat": 4,
 "nbformat_minor": 5
}
