{
 "cells": [
  {
   "cell_type": "markdown",
   "id": "fbdb7e22",
   "metadata": {},
   "source": [
    "# Notebook to develop HMM model to investigate optimal angle selection"
   ]
  },
  {
   "cell_type": "markdown",
   "id": "4e9d014a",
   "metadata": {},
   "source": [
    "## Defining the targets we will be using in our multiaspect classification model"
   ]
  },
  {
   "cell_type": "code",
   "execution_count": 1,
   "id": "67841ad2",
   "metadata": {},
   "outputs": [],
   "source": [
    "import numpy as np\n",
    "import matplotlib.pyplot as plt\n",
    "import matplotlib.patches as patches\n",
    "import matplotlib.gridspec as gridspec\n",
    "\n",
    "from scipy.special import spherical_jn, spherical_yn\n",
    "\n",
    "import ipywidgets as widgets\n",
    "from IPython.display import display\n",
    "\n",
    "from sklearn.cluster import KMeans\n",
    "import seaborn as sns\n",
    "import pandas as pd"
   ]
  },
  {
   "cell_type": "code",
   "execution_count": 2,
   "id": "e20ca17d",
   "metadata": {},
   "outputs": [],
   "source": [
    "prior_target = 1/2\n",
    "likelihood_nontarget = 1/2"
   ]
  },
  {
   "cell_type": "code",
   "execution_count": 3,
   "id": "b9978aae",
   "metadata": {},
   "outputs": [],
   "source": [
    "B = np.array([[2/3, 2/3, 1, 1],\n",
    "              [1/3, 1/3, 0, 0]])"
   ]
  },
  {
   "cell_type": "code",
   "execution_count": 4,
   "id": "c854179f",
   "metadata": {},
   "outputs": [
    {
     "data": {
      "text/plain": [
       "(np.float64(0.8333333333333333), 0.8333333333333334)"
      ]
     },
     "execution_count": 4,
     "metadata": {},
     "output_type": "execute_result"
    }
   ],
   "source": [
    "likelihood_t1_o0 = (1/4 * B[0]).sum()\n",
    "likelihood_t1_o0, 5/6"
   ]
  },
  {
   "cell_type": "code",
   "execution_count": 5,
   "id": "ae489600",
   "metadata": {},
   "outputs": [
    {
     "data": {
      "text/plain": [
       "(np.float64(0.16666666666666666), 0.16666666666666666)"
      ]
     },
     "execution_count": 5,
     "metadata": {},
     "output_type": "execute_result"
    }
   ],
   "source": [
    "likelihood_t1_o1 = (1/4 * B[1]).sum()\n",
    "likelihood_t1_o1, 1/6"
   ]
  },
  {
   "cell_type": "code",
   "execution_count": 6,
   "id": "c3112e82",
   "metadata": {},
   "outputs": [
    {
     "data": {
      "text/plain": [
       "np.float64(0.625)"
      ]
     },
     "execution_count": 6,
     "metadata": {},
     "output_type": "execute_result"
    }
   ],
   "source": [
    "post_t1 = (prior_target*likelihood_t1_o0) / ((prior_target*likelihood_t1_o0) + ((1-prior_target)*likelihood_nontarget))\n",
    "post_t1"
   ]
  },
  {
   "cell_type": "code",
   "execution_count": 7,
   "id": "328b0597",
   "metadata": {},
   "outputs": [
    {
     "data": {
      "text/plain": [
       "np.float64(0.954434002924965)"
      ]
     },
     "execution_count": 7,
     "metadata": {},
     "output_type": "execute_result"
    }
   ],
   "source": [
    "-((post_t1*np.log2(post_t1)) + ((1-post_t1)*np.log2(1-post_t1)))"
   ]
  },
  {
   "cell_type": "code",
   "execution_count": 8,
   "id": "9d1d7596",
   "metadata": {},
   "outputs": [
    {
     "data": {
      "text/plain": [
       "array([0.78539816, 2.35619449, 3.92699082, 5.49778714])"
      ]
     },
     "execution_count": 8,
     "metadata": {},
     "output_type": "execute_result"
    }
   ],
   "source": [
    "s0_center = np.pi/4\n",
    "state_steps = np.pi/2\n",
    "state_centers = np.arange(s0_center, 2*np.pi, state_steps)\n",
    "state_centers"
   ]
  },
  {
   "cell_type": "code",
   "execution_count": 9,
   "id": "52fdda89",
   "metadata": {},
   "outputs": [
    {
     "data": {
      "text/plain": [
       "array([[ 0.        ,  1.57079633,  3.14159265,  4.71238898],\n",
       "       [-1.57079633,  0.        ,  1.57079633,  3.14159265],\n",
       "       [-3.14159265, -1.57079633,  0.        ,  1.57079633],\n",
       "       [-4.71238898, -3.14159265, -1.57079633,  0.        ]])"
      ]
     },
     "execution_count": 9,
     "metadata": {},
     "output_type": "execute_result"
    }
   ],
   "source": [
    "angular_dist_between_states = (state_centers[np.newaxis, :] - state_centers[:, np.newaxis])\n",
    "angular_dist_between_states"
   ]
  },
  {
   "cell_type": "code",
   "execution_count": 10,
   "id": "fd472f7c",
   "metadata": {},
   "outputs": [
    {
     "data": {
      "text/plain": [
       "array([[0.   , 0.   , 0.119, 0.881],\n",
       "       [0.881, 0.   , 0.   , 0.119],\n",
       "       [0.119, 0.881, 0.   , 0.   ],\n",
       "       [0.   , 0.119, 0.881, 0.   ]])"
      ]
     },
     "execution_count": 10,
     "metadata": {},
     "output_type": "execute_result"
    }
   ],
   "source": [
    "candidate_step = -np.pi/2\n",
    "\n",
    "angular_dist_between_states_negative_extent = angular_dist_between_states % (-2*np.pi)\n",
    "angular_dist_after_action = (angular_dist_between_states_negative_extent - candidate_step)\n",
    "angular_dist_after_action_negative_extent = angular_dist_after_action % (-2*np.pi)\n",
    "sigma = state_steps/2\n",
    "magnitude = 1 / np.sqrt((2*np.pi) * (sigma**2))\n",
    "state_transition = magnitude * np.exp(-0.5*((angular_dist_after_action_negative_extent/sigma)**2))\n",
    "state_transition_normed = state_transition / state_transition.sum(axis=1)\n",
    "state_transition_normed.round(3)"
   ]
  },
  {
   "cell_type": "code",
   "execution_count": 11,
   "id": "bace5035",
   "metadata": {},
   "outputs": [
    {
     "data": {
      "text/plain": [
       "array([0.16666667, 0.16666667, 0.25      , 0.25      ])"
      ]
     },
     "execution_count": 11,
     "metadata": {},
     "output_type": "execute_result"
    }
   ],
   "source": [
    "alpha_t1 = np.array([1/6, 1/6, 1/4, 1/4])\n",
    "alpha_t1"
   ]
  },
  {
   "cell_type": "code",
   "execution_count": 12,
   "id": "6f5d23ec",
   "metadata": {},
   "outputs": [
    {
     "data": {
      "text/plain": [
       "array([0.17662192, 0.24997538, 0.24004474, 0.16669128])"
      ]
     },
     "execution_count": 12,
     "metadata": {},
     "output_type": "execute_result"
    }
   ],
   "source": [
    "alpha_t1 @ state_transition_normed"
   ]
  },
  {
   "cell_type": "code",
   "execution_count": 13,
   "id": "115943dc",
   "metadata": {},
   "outputs": [
    {
     "data": {
      "text/plain": [
       "array([0.17666667, 0.25      , 0.24      , 0.16666667])"
      ]
     },
     "execution_count": 13,
     "metadata": {},
     "output_type": "execute_result"
    }
   ],
   "source": [
    "np.array([((0.88/6) + (0.12/4)), ((0.88/4) + (0.12/4)), ((0.88/4) + (0.12/6)), ((0.88/6) + (0.12/6))])"
   ]
  },
  {
   "cell_type": "code",
   "execution_count": 14,
   "id": "0759ee06",
   "metadata": {},
   "outputs": [
    {
     "data": {
      "text/plain": [
       "array([0.11774795, 0.16665026, 0.24004474, 0.16669128])"
      ]
     },
     "execution_count": 14,
     "metadata": {},
     "output_type": "execute_result"
    }
   ],
   "source": [
    "alpha_t2_o0 = (alpha_t1 @ state_transition_normed) * B[0]\n",
    "alpha_t2_o0"
   ]
  },
  {
   "cell_type": "code",
   "execution_count": 15,
   "id": "f67e5ff2",
   "metadata": {},
   "outputs": [
    {
     "data": {
      "text/plain": [
       "array([0.05887397, 0.08332513, 0.        , 0.        ])"
      ]
     },
     "execution_count": 15,
     "metadata": {},
     "output_type": "execute_result"
    }
   ],
   "source": [
    "alpha_t2_o1 = (alpha_t1 @ state_transition_normed) * B[1]\n",
    "alpha_t2_o1"
   ]
  },
  {
   "cell_type": "code",
   "execution_count": 16,
   "id": "1f803110",
   "metadata": {},
   "outputs": [
    {
     "data": {
      "text/plain": [
       "(np.float64(0.6911342306668515), np.float64(0.8293610768002219))"
      ]
     },
     "execution_count": 16,
     "metadata": {},
     "output_type": "execute_result"
    }
   ],
   "source": [
    "likelihood_t2_o0 = (alpha_t2_o0).sum()\n",
    "likelihood_t2_o0_given_o0t1 = likelihood_t2_o0 / likelihood_t1_o0\n",
    "likelihood_t2_o0, likelihood_t2_o0_given_o0t1"
   ]
  },
  {
   "cell_type": "code",
   "execution_count": 17,
   "id": "bd297079",
   "metadata": {},
   "outputs": [
    {
     "data": {
      "text/plain": [
       "(np.float64(0.1421991026664816), np.float64(0.17063892319977794))"
      ]
     },
     "execution_count": 17,
     "metadata": {},
     "output_type": "execute_result"
    }
   ],
   "source": [
    "likelihood_t2_o1 = (alpha_t2_o1).sum()\n",
    "likelihood_t2_o1_given_o0t1 = likelihood_t2_o1 / likelihood_t1_o0\n",
    "likelihood_t2_o1, likelihood_t2_o1_given_o0t1"
   ]
  },
  {
   "cell_type": "code",
   "execution_count": 18,
   "id": "d27cf6c2",
   "metadata": {},
   "outputs": [
    {
     "data": {
      "text/plain": [
       "np.float64(0.7343630782371399)"
      ]
     },
     "execution_count": 18,
     "metadata": {},
     "output_type": "execute_result"
    }
   ],
   "source": [
    "post_t2_o0 = (likelihood_t2_o0_given_o0t1 * post_t1) / ((likelihood_t2_o0_given_o0t1 * post_t1) + (0.5 * (1-post_t1)))\n",
    "post_t2_o0"
   ]
  },
  {
   "cell_type": "code",
   "execution_count": 39,
   "id": "3d5a6135",
   "metadata": {},
   "outputs": [
    {
     "data": {
      "text/plain": [
       "np.float64(0.36256865887682804)"
      ]
     },
     "execution_count": 39,
     "metadata": {},
     "output_type": "execute_result"
    }
   ],
   "source": [
    "post_t2_o1 = (likelihood_t2_o1_given_o0t1 * post_t1) / ((likelihood_t2_o1_given_o0t1 * post_t1) + (0.5 * (1-post_t1)))\n",
    "post_t2_o1"
   ]
  },
  {
   "cell_type": "code",
   "execution_count": 40,
   "id": "20803d8a",
   "metadata": {},
   "outputs": [
    {
     "data": {
      "text/plain": [
       "np.float64(0.8351339850449211)"
      ]
     },
     "execution_count": 40,
     "metadata": {},
     "output_type": "execute_result"
    }
   ],
   "source": [
    "entropy_t2_o0 = -((post_t2_o0*np.log2(post_t2_o0)) + ((1-post_t2_o0)*np.log2(1-post_t2_o0)))\n",
    "entropy_t2_o0"
   ]
  },
  {
   "cell_type": "code",
   "execution_count": 41,
   "id": "3a067951",
   "metadata": {},
   "outputs": [
    {
     "data": {
      "text/plain": [
       "np.float64(0.9447947327666398)"
      ]
     },
     "execution_count": 41,
     "metadata": {},
     "output_type": "execute_result"
    }
   ],
   "source": [
    "entropy_t2_o1 = -((post_t2_o1*np.log2(post_t2_o1)) + ((1-post_t2_o1)*np.log2(1-post_t2_o1)))\n",
    "entropy_t2_o1"
   ]
  },
  {
   "cell_type": "code",
   "execution_count": 42,
   "id": "853c55bf",
   "metadata": {},
   "outputs": [
    {
     "data": {
      "text/plain": [
       "np.float64(0.7058506730001387)"
      ]
     },
     "execution_count": 42,
     "metadata": {},
     "output_type": "execute_result"
    }
   ],
   "source": [
    "p_t2_o0 = ((post_t1*likelihood_t2_o0)/alpha_t1.sum()) + (((1-post_t1)*(1/4))/(1/2))\n",
    "p_t2_o0"
   ]
  },
  {
   "cell_type": "code",
   "execution_count": 43,
   "id": "2cfbd8b4",
   "metadata": {},
   "outputs": [
    {
     "data": {
      "text/plain": [
       "np.float64(0.29414932699986124)"
      ]
     },
     "execution_count": 43,
     "metadata": {},
     "output_type": "execute_result"
    }
   ],
   "source": [
    "p_t2_o1 = ((post_t1*likelihood_t2_o1)/alpha_t1.sum()) + (((1-post_t1)*(1/4))/(1/2))\n",
    "p_t2_o1"
   ]
  },
  {
   "cell_type": "code",
   "execution_count": 44,
   "id": "6f9409e3",
   "metadata": {},
   "outputs": [
    {
     "data": {
      "text/plain": [
       "np.float64(0.8673906201855661)"
      ]
     },
     "execution_count": 44,
     "metadata": {},
     "output_type": "execute_result"
    }
   ],
   "source": [
    "(p_t2_o0*entropy_t2_o0) + (p_t2_o1*entropy_t2_o1)"
   ]
  },
  {
   "cell_type": "code",
   "execution_count": 45,
   "id": "64a239e2",
   "metadata": {},
   "outputs": [
    {
     "data": {
      "text/plain": [
       "array([[0.   , 0.881, 0.119, 0.   ],\n",
       "       [0.   , 0.   , 0.881, 0.119],\n",
       "       [0.119, 0.   , 0.   , 0.881],\n",
       "       [0.881, 0.119, 0.   , 0.   ]])"
      ]
     },
     "execution_count": 45,
     "metadata": {},
     "output_type": "execute_result"
    }
   ],
   "source": [
    "candidate_step = np.pi/2\n",
    "\n",
    "angular_dist_between_states_positive_extent = angular_dist_between_states % (2*np.pi)\n",
    "angular_dist_after_action = (angular_dist_between_states_positive_extent - candidate_step)\n",
    "angular_dist_after_action_positive_extent = angular_dist_after_action % (2*np.pi)\n",
    "sigma = state_steps/2\n",
    "magnitude = 1 / np.sqrt((2*np.pi) * (sigma**2))\n",
    "state_transition = magnitude * np.exp(-0.5*((angular_dist_after_action_positive_extent/sigma)**2))\n",
    "state_transition_normed = state_transition / state_transition.sum(axis=1)\n",
    "state_transition_normed.round(3)"
   ]
  },
  {
   "cell_type": "code",
   "execution_count": 46,
   "id": "0ea66708",
   "metadata": {},
   "outputs": [
    {
     "data": {
      "text/plain": [
       "array([0.24997538, 0.17662192, 0.16669128, 0.24004474])"
      ]
     },
     "execution_count": 46,
     "metadata": {},
     "output_type": "execute_result"
    }
   ],
   "source": [
    "(alpha_t1 @ state_transition_normed)"
   ]
  },
  {
   "cell_type": "code",
   "execution_count": 47,
   "id": "0cc2d1f9",
   "metadata": {},
   "outputs": [
    {
     "data": {
      "text/plain": [
       "array([0.16665026, 0.11774795, 0.16669128, 0.24004474])"
      ]
     },
     "execution_count": 47,
     "metadata": {},
     "output_type": "execute_result"
    }
   ],
   "source": [
    "alpha_t2_o0 = (alpha_t1 @ state_transition_normed) * B[0]\n",
    "alpha_t2_o0"
   ]
  },
  {
   "cell_type": "code",
   "execution_count": 48,
   "id": "86772909",
   "metadata": {},
   "outputs": [
    {
     "data": {
      "text/plain": [
       "array([0.08332513, 0.05887397, 0.        , 0.        ])"
      ]
     },
     "execution_count": 48,
     "metadata": {},
     "output_type": "execute_result"
    }
   ],
   "source": [
    "alpha_t2_o1 = (alpha_t1 @ state_transition_normed) * B[1]\n",
    "alpha_t2_o1"
   ]
  },
  {
   "cell_type": "code",
   "execution_count": 49,
   "id": "08a3163d",
   "metadata": {},
   "outputs": [
    {
     "data": {
      "text/plain": [
       "array([[0.   , 0.   , 0.119, 0.881],\n",
       "       [0.881, 0.   , 0.   , 0.119],\n",
       "       [0.119, 0.881, 0.   , 0.   ],\n",
       "       [0.   , 0.119, 0.881, 0.   ]])"
      ]
     },
     "execution_count": 49,
     "metadata": {},
     "output_type": "execute_result"
    }
   ],
   "source": [
    "candidate_step = -np.pi/2\n",
    "\n",
    "angular_dist_between_states_negative_extent = angular_dist_between_states % (-2*np.pi)\n",
    "angular_dist_after_action = (angular_dist_between_states_negative_extent - candidate_step)\n",
    "angular_dist_after_action_negative_extent = angular_dist_after_action % (-2*np.pi)\n",
    "sigma = state_steps/2\n",
    "magnitude = 1 / np.sqrt((2*np.pi) * (sigma**2))\n",
    "state_transition = magnitude * np.exp(-0.5*((angular_dist_after_action_negative_extent/sigma)**2))\n",
    "state_transition_normed = state_transition / state_transition.sum(axis=1)\n",
    "state_transition_normed.round(3)"
   ]
  },
  {
   "cell_type": "code",
   "execution_count": 50,
   "id": "a24db392",
   "metadata": {},
   "outputs": [
    {
     "data": {
      "text/plain": [
       "array([0.0518091 , 0.        , 0.00999902, 0.08039099])"
      ]
     },
     "execution_count": 50,
     "metadata": {},
     "output_type": "execute_result"
    }
   ],
   "source": [
    "(alpha_t2_o1 @ np.round(state_transition_normed, 2))"
   ]
  },
  {
   "cell_type": "code",
   "execution_count": 51,
   "id": "f830b4e0",
   "metadata": {},
   "outputs": [
    {
     "data": {
      "text/plain": [
       "(array([0.0345394 , 0.        , 0.00999902, 0.08039099]),\n",
       " np.float64(0.12492940336066481))"
      ]
     },
     "execution_count": 51,
     "metadata": {},
     "output_type": "execute_result"
    }
   ],
   "source": [
    "alpha_t3_o0 = (alpha_t2_o1 @ np.round(state_transition_normed, 2)) * B[0]\n",
    "alpha_t3_o0, alpha_t3_o0.sum()"
   ]
  },
  {
   "cell_type": "code",
   "execution_count": 52,
   "id": "16d06c23",
   "metadata": {},
   "outputs": [
    {
     "data": {
      "text/plain": [
       "(array([0.0172697, 0.       , 0.       , 0.       ]),\n",
       " np.float64(0.017269699305816802))"
      ]
     },
     "execution_count": 52,
     "metadata": {},
     "output_type": "execute_result"
    }
   ],
   "source": [
    "alpha_t3_o1 = (alpha_t2_o1 @ np.round(state_transition_normed, 2)) * B[1]\n",
    "alpha_t3_o1, alpha_t3_o1.sum()"
   ]
  },
  {
   "cell_type": "code",
   "execution_count": 53,
   "id": "dc7f0c67",
   "metadata": {},
   "outputs": [
    {
     "data": {
      "text/plain": [
       "(np.float64(0.12492940336066481), np.float64(0.8785526843560911))"
      ]
     },
     "execution_count": 53,
     "metadata": {},
     "output_type": "execute_result"
    }
   ],
   "source": [
    "likelihood_t3_o0 = (alpha_t3_o0).sum()\n",
    "likelihood_t3_o0_given_o_seq = likelihood_t3_o0 / likelihood_t2_o1\n",
    "likelihood_t3_o0, likelihood_t3_o0_given_o_seq"
   ]
  },
  {
   "cell_type": "code",
   "execution_count": 54,
   "id": "81aa6dcc",
   "metadata": {},
   "outputs": [
    {
     "data": {
      "text/plain": [
       "(np.float64(0.017269699305816802), np.float64(0.12144731564390891))"
      ]
     },
     "execution_count": 54,
     "metadata": {},
     "output_type": "execute_result"
    }
   ],
   "source": [
    "likelihood_t3_o1 = (alpha_t3_o1).sum()\n",
    "likelihood_t3_o1_given_o_seq = likelihood_t3_o1 / likelihood_t2_o1\n",
    "likelihood_t3_o1, likelihood_t3_o1_given_o_seq"
   ]
  },
  {
   "cell_type": "code",
   "execution_count": 55,
   "id": "54cfa846",
   "metadata": {},
   "outputs": [
    {
     "data": {
      "text/plain": [
       "np.float64(0.49985876683898356)"
      ]
     },
     "execution_count": 55,
     "metadata": {},
     "output_type": "execute_result"
    }
   ],
   "source": [
    "post_t3_o0 = (likelihood_t3_o0_given_o_seq * post_t2_o1) / ((likelihood_t3_o0_given_o_seq * post_t2_o1) + (0.5 * (1-post_t2_o1)))\n",
    "post_t3_o0"
   ]
  },
  {
   "cell_type": "code",
   "execution_count": null,
   "id": "aaae8b89",
   "metadata": {},
   "outputs": [
    {
     "data": {
      "text/plain": [
       "np.float64(0.12138705142473524)"
      ]
     },
     "execution_count": 56,
     "metadata": {},
     "output_type": "execute_result"
    }
   ],
   "source": [
    "post_t3_o1 = (likelihood_t3_o1_given_o_seq * post_t2_o1) / ((likelihood_t3_o1_given_o_seq * post_t2_o1) + (0.5 * (1-post_t2_o1)))\n",
    "post_t3_o1"
   ]
  },
  {
   "cell_type": "code",
   "execution_count": 57,
   "id": "6789915b",
   "metadata": {},
   "outputs": [
    {
     "data": {
      "text/plain": [
       "np.float64(0.9999999424456838)"
      ]
     },
     "execution_count": 57,
     "metadata": {},
     "output_type": "execute_result"
    }
   ],
   "source": [
    "entropy_t3_o0 = -((post_t3_o0*np.log2(post_t3_o0)) + ((1-post_t3_o0)*np.log2(1-post_t3_o0)))\n",
    "entropy_t3_o0"
   ]
  },
  {
   "cell_type": "code",
   "execution_count": 38,
   "id": "0434b16f",
   "metadata": {},
   "outputs": [
    {
     "data": {
      "text/plain": [
       "np.float64(0.5333348031172997)"
      ]
     },
     "execution_count": 38,
     "metadata": {},
     "output_type": "execute_result"
    }
   ],
   "source": [
    "entropy_t3_o1 = -((post_t3_o1*np.log2(post_t3_o1)) + ((1-post_t3_o1)*np.log2(1-post_t3_o1)))\n",
    "entropy_t3_o1"
   ]
  },
  {
   "cell_type": "code",
   "execution_count": 58,
   "id": "be221d30",
   "metadata": {},
   "outputs": [
    {
     "data": {
      "text/plain": [
       "np.float64(0.6372513390812111)"
      ]
     },
     "execution_count": 58,
     "metadata": {},
     "output_type": "execute_result"
    }
   ],
   "source": [
    "p_t3_o0 = (post_t2_o1*likelihood_t3_o0_given_o_seq) + ((1-post_t2_o1)*(1/2))\n",
    "p_t3_o0"
   ]
  },
  {
   "cell_type": "code",
   "execution_count": 59,
   "id": "9d7ecf03",
   "metadata": {},
   "outputs": [
    {
     "data": {
      "text/plain": [
       "np.float64(0.3627486609187889)"
      ]
     },
     "execution_count": 59,
     "metadata": {},
     "output_type": "execute_result"
    }
   ],
   "source": [
    "p_t3_o1 = (post_t2_o1*likelihood_t3_o1_given_o_seq) + ((1-post_t2_o1)*(1/2))\n",
    "p_t3_o1"
   ]
  },
  {
   "cell_type": "code",
   "execution_count": 60,
   "id": "751d08a2",
   "metadata": {},
   "outputs": [
    {
     "data": {
      "text/plain": [
       "np.float64(0.8307177880568324)"
      ]
     },
     "execution_count": 60,
     "metadata": {},
     "output_type": "execute_result"
    }
   ],
   "source": [
    "(p_t3_o0*entropy_t3_o0) + (p_t3_o1*entropy_t3_o1)"
   ]
  },
  {
   "cell_type": "code",
   "execution_count": 61,
   "id": "26ee0c9f",
   "metadata": {},
   "outputs": [
    {
     "data": {
      "text/plain": [
       "array([[0.   , 0.881, 0.119, 0.   ],\n",
       "       [0.   , 0.   , 0.881, 0.119],\n",
       "       [0.119, 0.   , 0.   , 0.881],\n",
       "       [0.881, 0.119, 0.   , 0.   ]])"
      ]
     },
     "execution_count": 61,
     "metadata": {},
     "output_type": "execute_result"
    }
   ],
   "source": [
    "candidate_step = np.pi/2\n",
    "\n",
    "angular_dist_between_states_positive_extent = angular_dist_between_states % (2*np.pi)\n",
    "angular_dist_after_action = (angular_dist_between_states_positive_extent - candidate_step)\n",
    "angular_dist_after_action_positive_extent = angular_dist_after_action % (2*np.pi)\n",
    "sigma = state_steps/2\n",
    "magnitude = 1 / np.sqrt((2*np.pi) * (sigma**2))\n",
    "state_transition = magnitude * np.exp(-0.5*((angular_dist_after_action_positive_extent/sigma)**2))\n",
    "state_transition_normed = state_transition / state_transition.sum(axis=1)\n",
    "state_transition_normed.round(3)"
   ]
  },
  {
   "cell_type": "code",
   "execution_count": 62,
   "id": "0246ed97",
   "metadata": {},
   "outputs": [
    {
     "data": {
      "text/plain": [
       "(array([0.        , 0.04888407, 0.06180811, 0.00706488]),\n",
       " np.float64(0.11775706519013047))"
      ]
     },
     "execution_count": 62,
     "metadata": {},
     "output_type": "execute_result"
    }
   ],
   "source": [
    "alpha_t3_o0 = (alpha_t2_o1 @ np.round(state_transition_normed, 2)) * B[0]\n",
    "alpha_t3_o0, alpha_t3_o0.sum()"
   ]
  },
  {
   "cell_type": "code",
   "execution_count": 63,
   "id": "a474d996",
   "metadata": {},
   "outputs": [
    {
     "data": {
      "text/plain": [
       "(array([0.        , 0.02444204, 0.        , 0.        ]),\n",
       " np.float64(0.02444203747635114))"
      ]
     },
     "execution_count": 63,
     "metadata": {},
     "output_type": "execute_result"
    }
   ],
   "source": [
    "alpha_t3_o1 = (alpha_t2_o1 @ np.round(state_transition_normed, 2)) * B[1]\n",
    "alpha_t3_o1, alpha_t3_o1.sum()"
   ]
  },
  {
   "cell_type": "code",
   "execution_count": 64,
   "id": "60201363",
   "metadata": {},
   "outputs": [
    {
     "data": {
      "text/plain": [
       "(np.float64(0.11775706519013047), np.float64(0.8281139823105755))"
      ]
     },
     "execution_count": 64,
     "metadata": {},
     "output_type": "execute_result"
    }
   ],
   "source": [
    "likelihood_t3_o0 = (alpha_t3_o0).sum()\n",
    "likelihood_t3_o0_given_o_seq = likelihood_t3_o0 / likelihood_t2_o1\n",
    "likelihood_t3_o0, likelihood_t3_o0_given_o_seq"
   ]
  },
  {
   "cell_type": "code",
   "execution_count": 65,
   "id": "6a72421e",
   "metadata": {},
   "outputs": [
    {
     "data": {
      "text/plain": [
       "(np.float64(0.02444203747635114), np.float64(0.17188601768942444))"
      ]
     },
     "execution_count": 65,
     "metadata": {},
     "output_type": "execute_result"
    }
   ],
   "source": [
    "likelihood_t3_o1 = (alpha_t3_o1).sum()\n",
    "likelihood_t3_o1_given_o_seq = likelihood_t3_o1 / likelihood_t2_o1\n",
    "likelihood_t3_o1, likelihood_t3_o1_given_o_seq"
   ]
  },
  {
   "cell_type": "code",
   "execution_count": 47,
   "id": "d0e7d9fe",
   "metadata": {},
   "outputs": [
    {
     "data": {
      "text/plain": [
       "np.float64(0.8248773189144519)"
      ]
     },
     "execution_count": 47,
     "metadata": {},
     "output_type": "execute_result"
    }
   ],
   "source": [
    "post_t3_o0 = (likelihood_t3_o0_given_o_seq * post_t2_o1) / ((likelihood_t3_o0_given_o_seq * post_t2_o1) + (0.5 * (1-post_t2_o1)))\n",
    "post_t3_o0"
   ]
  },
  {
   "cell_type": "code",
   "execution_count": 48,
   "id": "2b4035f4",
   "metadata": {},
   "outputs": [
    {
     "data": {
      "text/plain": [
       "np.float64(0.4943574076622981)"
      ]
     },
     "execution_count": 48,
     "metadata": {},
     "output_type": "execute_result"
    }
   ],
   "source": [
    "post_t3_o1 = (likelihood_t3_o1_given_o_seq * post_t2_o1) / ((likelihood_t3_o1_given_o_seq * post_t2_o1) + (0.5 * (1-post_t2_o1)))\n",
    "post_t3_o1"
   ]
  },
  {
   "cell_type": "code",
   "execution_count": 49,
   "id": "481aeba4",
   "metadata": {},
   "outputs": [
    {
     "data": {
      "text/plain": [
       "np.float64(0.6692902022692799)"
      ]
     },
     "execution_count": 49,
     "metadata": {},
     "output_type": "execute_result"
    }
   ],
   "source": [
    "entropy_t3_o0 = -((post_t3_o0*np.log2(post_t3_o0)) + ((1-post_t3_o0)*np.log2(1-post_t3_o0)))\n",
    "entropy_t3_o0"
   ]
  },
  {
   "cell_type": "code",
   "execution_count": 50,
   "id": "18ee7548",
   "metadata": {},
   "outputs": [
    {
     "data": {
      "text/plain": [
       "np.float64(0.9999081305528608)"
      ]
     },
     "execution_count": 50,
     "metadata": {},
     "output_type": "execute_result"
    }
   ],
   "source": [
    "entropy_t3_o1 = -((post_t3_o1*np.log2(post_t3_o1)) + ((1-post_t3_o1)*np.log2(1-post_t3_o1)))\n",
    "entropy_t3_o1"
   ]
  },
  {
   "cell_type": "code",
   "execution_count": 51,
   "id": "4b9fac00",
   "metadata": {},
   "outputs": [
    {
     "data": {
      "text/plain": [
       "np.float64(0.7427561482316247)"
      ]
     },
     "execution_count": 51,
     "metadata": {},
     "output_type": "execute_result"
    }
   ],
   "source": [
    "p_t3_o0 = (post_t2_o1*likelihood_t3_o0_given_o_seq) + ((1-post_t2_o1)*(1/2))\n",
    "p_t3_o0"
   ]
  },
  {
   "cell_type": "code",
   "execution_count": 52,
   "id": "92225856",
   "metadata": {},
   "outputs": [
    {
     "data": {
      "text/plain": [
       "np.float64(0.2572438517683753)"
      ]
     },
     "execution_count": 52,
     "metadata": {},
     "output_type": "execute_result"
    }
   ],
   "source": [
    "p_t3_o1 = (post_t2_o1*likelihood_t3_o1_given_o_seq) + ((1-post_t2_o1)*(1/2))\n",
    "p_t3_o1"
   ]
  },
  {
   "cell_type": "code",
   "execution_count": 53,
   "id": "253d4a5f",
   "metadata": {},
   "outputs": [
    {
     "data": {
      "text/plain": [
       "np.float64(0.7543396316046287)"
      ]
     },
     "execution_count": 53,
     "metadata": {},
     "output_type": "execute_result"
    }
   ],
   "source": [
    "(p_t3_o0*entropy_t3_o0) + (p_t3_o1*entropy_t3_o1)"
   ]
  },
  {
   "cell_type": "code",
   "execution_count": 54,
   "id": "bd9f6742",
   "metadata": {},
   "outputs": [
    {
     "data": {
      "text/plain": [
       "1260"
      ]
     },
     "execution_count": 54,
     "metadata": {},
     "output_type": "execute_result"
    }
   ],
   "source": [
    "(88*12) + (12*17)"
   ]
  }
 ],
 "metadata": {
  "kernelspec": {
   "display_name": "muri-info",
   "language": "python",
   "name": "python3"
  },
  "language_info": {
   "codemirror_mode": {
    "name": "ipython",
    "version": 3
   },
   "file_extension": ".py",
   "mimetype": "text/x-python",
   "name": "python",
   "nbconvert_exporter": "python",
   "pygments_lexer": "ipython3",
   "version": "3.13.5"
  }
 },
 "nbformat": 4,
 "nbformat_minor": 5
}
